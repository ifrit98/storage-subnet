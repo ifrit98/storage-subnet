{
 "cells": [
  {
   "cell_type": "code",
   "execution_count": null,
   "metadata": {},
   "outputs": [],
   "source": [
    "import bittensor as bt\n",
    "import storage\n",
    "import redis\n",
    "import base64\n",
    "import json\n",
    "import sys\n",
    "import os\n",
    "\n",
    "bt.trace()\n",
    "\n",
    "db = redis.Redis(host=\"localhost\", port=6379, db=0)\n",
    "db"
   ]
  },
  {
   "cell_type": "code",
   "execution_count": null,
   "metadata": {},
   "outputs": [],
   "source": [
    "# create a wallet instance that must be registered on the network\n",
    "wallet = bt.wallet(name=\"default\", hotkey=\"default\")\n",
    "print(wallet)\n",
    "\n",
    "# instantiate the metagraph\n",
    "metagraph = bt.metagraph(\n",
    "    netuid=8, network=\"test\", sync=True, lite=False\n",
    ")\n",
    "print(metagraph)\n",
    "\n",
    "# Grab the axon you're serving\n",
    "axon = metagraph.axons[13]\n",
    "print(axon)\n",
    "\n",
    "# Create a Dendrite instance to handle client-side communication.\n",
    "d = bt.dendrite(wallet=wallet)\n",
    "print(d)"
   ]
  },
  {
   "cell_type": "code",
   "execution_count": null,
   "metadata": {},
   "outputs": [],
   "source": [
    "# Setup CRS for initial round of validation\n",
    "g, h = storage.utils.setup_CRS(curve=\"P-256\")\n",
    "\n",
    "# Make a bytes string to test the miner\n",
    "data = b\"this is a random bytestring, long enough to be chunked into segments and reconstructed at the end\"\n",
    "\n",
    "# Encrypt the data\n",
    "encrypted_data, nonce, tag = storage.utils.encrypt_data(\n",
    "    data,\n",
    "    wallet.hotkey.public_key,\n",
    ")\n",
    "data_hash = storage.utils.hash_data(encrypted_data)\n",
    "print(\"data_hash:\", data_hash)\n",
    "\n",
    "encrypted_data"
   ]
  },
  {
   "cell_type": "code",
   "execution_count": null,
   "metadata": {},
   "outputs": [],
   "source": [
    "# Convert to base64 for compactness\n",
    "b64_encrypted_data = base64.b64encode(encrypted_data).decode(\"utf-8\")\n",
    "b64_encrypted_data"
   ]
  },
  {
   "cell_type": "code",
   "execution_count": 19,
   "metadata": {},
   "outputs": [
    {
     "data": {
      "text/plain": [
       "Store(encrypted_data='KxxUN+nV0moXH0UKHunqfo9nTRlrYmpkppi94U0CFxjp1plucKf5KoumxMVPP2a9KploQcfo1wq1k37bIgMuTUhyWfGNWPQI7YSeeruPbCC1kaZFa09mKNVorZ0xzOv64A==', curve='P-256', g='33353330383739313133393032383139343032393238353631343534393633353730353132373239373736343233383636353531363538313536343834353632363935323630353639313332372c3837343938343034333437383434343631353530363938393336313538313038313930383134323339323630333834393136353830393034333537343937353037303936363733303435393234', h='35303935383937363238393933363734333331353533363932393739303634343930333735333439363431383831333432383738313237373235383538343939373631363433373639303332302c393137383634343230373236313335353730373733343734343436363731343635373330333934313335343035333933363031373134303833383835393233313732303735323538373534', seed='48819038693a4de1e16a9d892befc3d7b1eea49eaf8ee0a2e19d4d4fd9a7d617', randomness=None, commitment=None, signature=None, commitment_hash=None)"
      ]
     },
     "execution_count": 19,
     "metadata": {},
     "output_type": "execute_result"
    }
   ],
   "source": [
    "# Create the synapse to store it\n",
    "synapse = storage.protocol.Store(\n",
    "    encrypted_data=b64_encrypted_data,\n",
    "    data_hash=data_hash,\n",
    "    curve=\"P-256\",\n",
    "    g=storage.utils.ecc_point_to_hex(g),\n",
    "    h=storage.utils.ecc_point_to_hex(h),\n",
    "    seed=os.urandom(32).hex(),\n",
    ")\n",
    "synapse"
   ]
  },
  {
   "cell_type": "code",
   "execution_count": 25,
   "metadata": {},
   "outputs": [
    {
     "name": "stdout",
     "output_type": "stream",
     "text": [
      "\u001b[34m2023-11-08 21:00:42.927\u001b[0m | \u001b[34m\u001b[1m     DEBUG      \u001b[0m | dendrite | --> | 4953 B | Store | 5C86aJ2uQawR6P6veaJQXNK9HaWh6NMbUhTiLs65kq4ZW3NH | 149.137.225.62:8091 | 0 | Success\n"
     ]
    },
    {
     "name": "stdout",
     "output_type": "stream",
     "text": [
      "\u001b[34m2023-11-08 21:00:42.976\u001b[0m | \u001b[34m\u001b[1m     DEBUG      \u001b[0m | dendrite | <-- | 6150 B | Store | 5C86aJ2uQawR6P6veaJQXNK9HaWh6NMbUhTiLs65kq4ZW3NH | 149.137.225.62:8091 | 200 | Success\n"
     ]
    },
    {
     "data": {
      "text/plain": [
       "[Store(encrypted_data='KxxUN+nV0moXH0UKHunqfo9nTRlrYmpkppi94U0CFxjp1plucKf5KoumxMVPP2a9KploQcfo1wq1k37bIgMuTUhyWfGNWPQI7YSeeruPbCC1kaZFa09mKNVorZ0xzOv64A==', curve='P-256', g='39313938323839343933373633383136353231323034333637383230313632393638383935393039353930313336363339363232323531363138373332323937383538393539333633333938302c3531323831303830393630303137313234393830373532353938343835303935353838373033353339363034303037383437313735313938343731313138333537343139363438303534393433', h='34303430393336303036373632313131373337393831393433303233323138353434303538363938343934333537323934353135383237313031373839313534323339363638373332333936302c38373535343135313931303735373731313530303735373931353732383539383238373931313832323732343138393138353638373932353339303633303735343430353231313638393736', seed='158c71a8bd8730b02176d5ba60d7afe9c000a74ea3fcc936be69a8aa590272e2', randomness=39419905047907825319912365271093218525870954108850638938390052500616957425922, commitment='37343032393230323739343939343536303534343639313039373830363532383132343230323033333236393039343038343031383737333237393833383533383136323034383538313437312c3335373339363435343431323338303039383336383133343836343630323237313239343436353337393939373835393436353533333839303037323538353330343436363537383437363137', signature=b'82fd60a3a8cdc39b806397a9827c1c3fcd6dbe209d59ab2a11ad27aa8b236a4e351f7fbcb6382a91a06a4c295aa775907719c490cc7ca3a672f7fea94e7cba84', commitment_hash='17923109242015911936824406608159296440845322093424120534406591182102475622895')]"
      ]
     },
     "execution_count": 25,
     "metadata": {},
     "output_type": "execute_result"
    }
   ],
   "source": [
    "# Send a request to the Axon using the Dendrite, passing in a Synapse \n",
    "# instance with the data_hash field. \n",
    "responses = await d(\n",
    "    [axon],\n",
    "    syn,\n",
    "    deserialize=False,\n",
    ")\n",
    "responses "
   ]
  },
  {
   "cell_type": "code",
   "execution_count": 26,
   "metadata": {},
   "outputs": [
    {
     "data": {
      "text/plain": [
       "{'name': 'Store',\n",
       " 'timeout': 12.0,\n",
       " 'total_size': 6150,\n",
       " 'header_size': 0,\n",
       " 'dendrite': {'status_code': 200,\n",
       "  'status_message': 'Success',\n",
       "  'process_time': 0.05029726028442383,\n",
       "  'ip': '127.0.0.1',\n",
       "  'port': 41278,\n",
       "  'version': 610,\n",
       "  'nonce': 10385997412510926,\n",
       "  'uuid': 'bc2feab0-7e78-11ee-8291-3ceceff2faf8',\n",
       "  'hotkey': '5C86aJ2uQawR6P6veaJQXNK9HaWh6NMbUhTiLs65kq4ZW3NH',\n",
       "  'signature': '0x807f526fc77344e343518042199d073f29897e6c469792f36e15d5598a304f3e84af8a81b72d7671f82b449a69556e268109a7f6e32c8a29e2fd8f0f47e09482'},\n",
       " 'axon': {'status_code': 200,\n",
       "  'status_message': 'Success',\n",
       "  'process_time': 0.011322736740112305,\n",
       "  'ip': '149.137.225.62',\n",
       "  'port': 8091,\n",
       "  'version': 610,\n",
       "  'nonce': 10385997440412281,\n",
       "  'uuid': 'b30c6a94-7e78-11ee-b8bd-3ceceff2faf8',\n",
       "  'hotkey': '5C86aJ2uQawR6P6veaJQXNK9HaWh6NMbUhTiLs65kq4ZW3NH',\n",
       "  'signature': '0x5cbf2c403439363dd3fd3d3186058724713cd6796886dc1fa7861e652e5f5c20abdb8cbf618b4d45410b6d66f37c0a21aa1116d09e03b7ad0ba1ff6186bd608d'},\n",
       " 'computed_body_hash': '',\n",
       " 'required_hash_fields': [],\n",
       " 'encrypted_data': 'KxxUN+nV0moXH0UKHunqfo9nTRlrYmpkppi94U0CFxjp1plucKf5KoumxMVPP2a9KploQcfo1wq1k37bIgMuTUhyWfGNWPQI7YSeeruPbCC1kaZFa09mKNVorZ0xzOv64A==',\n",
       " 'curve': 'P-256',\n",
       " 'g': '39313938323839343933373633383136353231323034333637383230313632393638383935393039353930313336363339363232323531363138373332323937383538393539333633333938302c3531323831303830393630303137313234393830373532353938343835303935353838373033353339363034303037383437313735313938343731313138333537343139363438303534393433',\n",
       " 'h': '34303430393336303036373632313131373337393831393433303233323138353434303538363938343934333537323934353135383237313031373839313534323339363638373332333936302c38373535343135313931303735373731313530303735373931353732383539383238373931313832323732343138393138353638373932353339303633303735343430353231313638393736',\n",
       " 'seed': '158c71a8bd8730b02176d5ba60d7afe9c000a74ea3fcc936be69a8aa590272e2',\n",
       " 'randomness': 39419905047907825319912365271093218525870954108850638938390052500616957425922,\n",
       " 'commitment': '37343032393230323739343939343536303534343639313039373830363532383132343230323033333236393039343038343031383737333237393833383533383136323034383538313437312c3335373339363435343431323338303039383336383133343836343630323237313239343436353337393939373835393436353533333839303037323538353330343436363537383437363137',\n",
       " 'signature': b'82fd60a3a8cdc39b806397a9827c1c3fcd6dbe209d59ab2a11ad27aa8b236a4e351f7fbcb6382a91a06a4c295aa775907719c490cc7ca3a672f7fea94e7cba84',\n",
       " 'commitment_hash': '17923109242015911936824406608159296440845322093424120534406591182102475622895'}"
      ]
     },
     "execution_count": 26,
     "metadata": {},
     "output_type": "execute_result"
    }
   ],
   "source": [
    "resp = responses[0]\n",
    "resp.dict()"
   ]
  },
  {
   "cell_type": "code",
   "execution_count": 28,
   "metadata": {},
   "outputs": [
    {
     "data": {
      "text/plain": [
       "{'size': 130,\n",
       " 'prev_seed': '48819038693a4de1e16a9d892befc3d7b1eea49eaf8ee0a2e19d4d4fd9a7d617',\n",
       " 'commitment_hash': '17923109242015911936824406608159296440845322093424120534406591182102475622895',\n",
       " 'encryption_key': '029635f43d71c3314434ed5898901637fae64ab883d4b3082fb07960e0914227',\n",
       " 'encryption_nonce': '9111513cf3fc48659815a2ea71080850',\n",
       " 'encryption_tag': 'd055d63e1ef9d673e36252cec0bc7b4e'}"
      ]
     },
     "execution_count": 28,
     "metadata": {},
     "output_type": "execute_result"
    }
   ],
   "source": [
    "# Store necessary data on the validator side\n",
    "response_storage = {\n",
    "    \"size\": sys.getsizeof(encrypted_data),\n",
    "    \"prev_seed\": synapse.seed,\n",
    "    \"commitment_hash\": resp.commitment_hash,  # contains the seed\n",
    "    # these will be private to the validator, not stored in decentralized GUN db\n",
    "    # just here now for testing purposes\n",
    "    \"encryption_key\": wallet.hotkey.public_key.hex(),\n",
    "    \"encryption_nonce\": nonce.hex(),\n",
    "    \"encryption_tag\": tag.hex(),\n",
    "}\n",
    "response_storage"
   ]
  },
  {
   "cell_type": "code",
   "execution_count": 31,
   "metadata": {},
   "outputs": [
    {
     "name": "stdout",
     "output_type": "stream",
     "text": [
      "validator storage key: 62005888844054250998468105801135578199603310076657368670752933618999799345979.5C86aJ2uQawR6P6veaJQXNK9HaWh6NMbUhTiLs65kq4ZW3NH\n"
     ]
    },
    {
     "data": {
      "text/plain": [
       "True"
      ]
     },
     "execution_count": 31,
     "metadata": {},
     "output_type": "execute_result"
    }
   ],
   "source": [
    "# Store in the database according to the data hash and the miner hotkey\n",
    "key = f\"{data_hash}.{resp.axon.hotkey}\"\n",
    "print(\"validator storage key:\", key)\n",
    "db.set(key, json.dumps(response_storage).encode())"
   ]
  },
  {
   "cell_type": "code",
   "execution_count": 32,
   "metadata": {},
   "outputs": [
    {
     "name": "stdout",
     "output_type": "stream",
     "text": [
      "\n",
      "Opening: Hashed Value = 17923109242015911936824406608159296440845322093424120534406591182102475622895\n",
      "Random Value = 39419905047907825319912365271093218525870954108850638938390052500616957425922\n",
      "Recomputed Commitment = <Crypto.PublicKey.ECC.EccPoint object at 0x7ff57e60e830>\n",
      "Original Commitment = <Crypto.PublicKey.ECC.EccPoint object at 0x7ff57dd3ece0>\n"
     ]
    },
    {
     "data": {
      "text/plain": [
       "True"
      ]
     },
     "execution_count": 32,
     "metadata": {},
     "output_type": "execute_result"
    }
   ],
   "source": [
    "storage.utils.verify_store_with_seed(resp)"
   ]
  },
  {
   "cell_type": "code",
   "execution_count": 33,
   "metadata": {},
   "outputs": [
    {
     "data": {
      "text/plain": [
       "Challenge(challenge_hash='62005888844054250998468105801135578199603310076657368670752933618999799345979', challenge_index=3, chunk_size=31, g='33323339323034393234353139373530383038303939353636333536393931323834313530303132373832373634353134303337373036343631383630303539343230313036303431363337382c3337333531383132343231323436303139383436323738343336313534373139373130333738373638363036333330323831333832383336313431303739353235313736393439383136393538', h='38323434343139363538313135303732383337393538383730303935333732303832353138393536383534313131303330373537363434303937353231353737303636333731363736353239372c3632313239353939333638323632393435303832303336343932373931313632323339353538323137363031323437363436383139353335323633353234323133323537383135313633363132', curve='P-256', seed='62b81983d7c20c48fee48bcc48bf6452bb6d01fa76030c395aca12cd9edb78b6', commitment=None, data_chunk=None, randomness=None, merkle_proof=None, merkle_root=None)"
      ]
     },
     "execution_count": 33,
     "metadata": {},
     "output_type": "execute_result"
    }
   ],
   "source": [
    "# Setup a challenge to the miner with a new CRS and on data we just stored\n",
    "g, h = storage.utils.setup_CRS(curve=\"P-256\")\n",
    "challenge = storage.protocol.Challenge(\n",
    "    challenge_hash=data_hash,\n",
    "    g=storage.utils.ecc_point_to_hex(g),\n",
    "    h=storage.utils.ecc_point_to_hex(h),\n",
    "    curve=\"P-256\",\n",
    "    seed=os.urandom(32).hex(),\n",
    "    challenge_index=3,\n",
    "    chunk_size=storage.utils.get_random_chunksize(sys.getsizeof(data)) // 4, # bytes\n",
    ")\n",
    "challenge"
   ]
  },
  {
   "cell_type": "code",
   "execution_count": 34,
   "metadata": {},
   "outputs": [
    {
     "name": "stdout",
     "output_type": "stream",
     "text": [
      "\u001b[34m2023-11-08 21:02:33.241\u001b[0m | \u001b[34m\u001b[1m     DEBUG      \u001b[0m | dendrite | --> | 5199 B | Challenge | 5C86aJ2uQawR6P6veaJQXNK9HaWh6NMbUhTiLs65kq4ZW3NH | 149.137.225.62:8091 | 0 | Success\n",
      "\u001b[34m2023-11-08 21:02:33.312\u001b[0m | \u001b[34m\u001b[1m     DEBUG      \u001b[0m | dendrite | <-- | 6846 B | Challenge | 5C86aJ2uQawR6P6veaJQXNK9HaWh6NMbUhTiLs65kq4ZW3NH | 149.137.225.62:8091 | 200 | Success\n"
     ]
    },
    {
     "data": {
      "text/plain": [
       "Challenge(challenge_hash='62005888844054250998468105801135578199603310076657368670752933618999799345979', challenge_index=3, chunk_size=31, g='33323339323034393234353139373530383038303939353636333536393931323834313530303132373832373634353134303337373036343631383630303539343230313036303431363337382c3337333531383132343231323436303139383436323738343336313534373139373130333738373638363036333330323831333832383336313431303739353235313736393439383136393538', h='38323434343139363538313135303732383337393538383730303935333732303832353138393536383534313131303330373537363434303937353231353737303636333731363736353239372c3632313239353939333638323632393435303832303336343932373931313632323339353538323137363031323437363436383139353335323633353234323133323537383135313633363132', curve='P-256', seed='62b81983d7c20c48fee48bcc48bf6452bb6d01fa76030c395aca12cd9edb78b6', commitment='333832333231353931303835333339313534343037383433393838343330393834323234313339323435353133333435303635323137383530303938383631323931323037323739383938342c3432373034363136333039373533373838353231343938303339303438303438353634313635383633383933363434353536393135343537373532303638323737333933373632383132353131', data_chunk=b'zOv64A==', randomness=74322348858501431001741171341432828845003650036256950228289803008964210013931, merkle_proof='W3sibGVmdCI6ICIzNjMxMzkzMjM2MzgzMDMyMzczOTM1MzYzMTM4MzgzNDM1MzQzNTMzMzgzMTM0MzgzNzM2MzUzNjM2MzUzNzMyMzUzNTM4MzMzNjM2MzgzMjMyMzAzNzMyMzYzODM5MzczNzM0MzAzMjMzMzUzMDMxMzQzOTM1MzEzNTMyMzkzOTMxMzQzMTMxMzUzMzM4MzEzMDMzMzkzMDM4MmMzODMwMzkzNzMzMzYzODM4MzYzOTM1MzAzNjM0MzgzOTM0MzQzNjM1MzQzMjM5MzczNDM2MzIzNDM0MzAzNzM3MzEzMzMwMzAzNjM4MzczMjMyMzIzOTM3MzMzNzMxMzMzODM3MzIzODM0MzgzNjMwMzUzODMzMzUzODM3MzczMTMxMzgzOTM5MzQzMzMwMzMzMDMwMzEzMzMwIn0sIHsibGVmdCI6ICI3YmQ4N2NhMmIxYTBjNzU1NTI0MzJlYjkwNjUzMTJiODA4YTdmZjg5MmEyNWRiYmEyMWM5MzkyOWRlNzVhZWQ1In1d', merkle_root='4fff0b799c25d7708a9917d1301f20b04a6cb712355f2882f7be24675c2c9cf5')"
      ]
     },
     "execution_count": 34,
     "metadata": {},
     "output_type": "execute_result"
    }
   ],
   "source": [
    "# Send the challenge to the miner\n",
    "responses = d.query(\n",
    "    [metagraph.axons[13]],\n",
    "    challenge,\n",
    "    deserialize=False,\n",
    ")\n",
    "responses[0]"
   ]
  },
  {
   "cell_type": "code",
   "execution_count": 35,
   "metadata": {},
   "outputs": [
    {
     "name": "stdout",
     "output_type": "stream",
     "text": [
      "\n",
      "Opening: Hashed Value = 82925716138693023682401643400271053831383105478961603314525418514502722507415\n",
      "Random Value = 74322348858501431001741171341432828845003650036256950228289803008964210013931\n",
      "Recomputed Commitment = <Crypto.PublicKey.ECC.EccPoint object at 0x7ff57e5a8ee0>\n",
      "Original Commitment = <Crypto.PublicKey.ECC.EccPoint object at 0x7ff57e1ea5f0>\n"
     ]
    },
    {
     "data": {
      "text/plain": [
       "True"
      ]
     },
     "execution_count": 35,
     "metadata": {},
     "output_type": "execute_result"
    }
   ],
   "source": [
    "# Verify the challenge\n",
    "storage.utils.verify_challenge_with_seed(responses[0])"
   ]
  },
  {
   "cell_type": "code",
   "execution_count": 36,
   "metadata": {},
   "outputs": [
    {
     "data": {
      "text/plain": [
       "Retrieve(data_hash='62005888844054250998468105801135578199603310076657368670752933618999799345979', data=None)"
      ]
     },
     "execution_count": 36,
     "metadata": {},
     "output_type": "execute_result"
    }
   ],
   "source": [
    "# Now retrieve the data we stored and successfully challenged\n",
    "syn = storage.protocol.Retrieve(\n",
    "    data_hash=data_hash\n",
    ")\n",
    "syn"
   ]
  },
  {
   "cell_type": "code",
   "execution_count": 37,
   "metadata": {},
   "outputs": [
    {
     "name": "stdout",
     "output_type": "stream",
     "text": [
      "\u001b[34m2023-11-08 21:03:26.445\u001b[0m | \u001b[34m\u001b[1m     DEBUG      \u001b[0m | dendrite | --> | 3397 B | Retrieve | 5C86aJ2uQawR6P6veaJQXNK9HaWh6NMbUhTiLs65kq4ZW3NH | 149.137.225.62:8091 | 0 | Success\n",
      "\u001b[34m2023-11-08 21:03:26.473\u001b[0m | \u001b[34m\u001b[1m     DEBUG      \u001b[0m | dendrite | <-- | 4069 B | Retrieve | 5C86aJ2uQawR6P6veaJQXNK9HaWh6NMbUhTiLs65kq4ZW3NH | 149.137.225.62:8091 | 200 | Success\n"
     ]
    },
    {
     "data": {
      "text/plain": [
       "[Retrieve(data_hash='62005888844054250998468105801135578199603310076657368670752933618999799345979', data='KxxUN+nV0moXH0UKHunqfo9nTRlrYmpkppi94U0CFxjp1plucKf5KoumxMVPP2a9KploQcfo1wq1k37bIgMuTUhyWfGNWPQI7YSeeruPbCC1kaZFa09mKNVorZ0xzOv64A==')]"
      ]
     },
     "execution_count": 37,
     "metadata": {},
     "output_type": "execute_result"
    }
   ],
   "source": [
    "# Send a request to the Axon using the Dendrite, passing in a Synapse \n",
    "# instance with the data_hash field. \n",
    "responses = await d(\n",
    "    [axon],\n",
    "    syn,\n",
    "    deserialize=False,\n",
    ")\n",
    "responses "
   ]
  },
  {
   "cell_type": "code",
   "execution_count": 38,
   "metadata": {},
   "outputs": [
    {
     "data": {
      "text/plain": [
       "'KxxUN+nV0moXH0UKHunqfo9nTRlrYmpkppi94U0CFxjp1plucKf5KoumxMVPP2a9KploQcfo1wq1k37bIgMuTUhyWfGNWPQI7YSeeruPbCC1kaZFa09mKNVorZ0xzOv64A=='"
      ]
     },
     "execution_count": 38,
     "metadata": {},
     "output_type": "execute_result"
    }
   ],
   "source": [
    "# extract the base64 encoded string of the data\n",
    "resp = responses[0]\n",
    "resp.data"
   ]
  },
  {
   "cell_type": "code",
   "execution_count": 39,
   "metadata": {},
   "outputs": [
    {
     "data": {
      "text/plain": [
       "b'+\\x1cT7\\xe9\\xd5\\xd2j\\x17\\x1fE\\n\\x1e\\xe9\\xea~\\x8fgM\\x19kbjd\\xa6\\x98\\xbd\\xe1M\\x02\\x17\\x18\\xe9\\xd6\\x99np\\xa7\\xf9*\\x8b\\xa6\\xc4\\xc5O?f\\xbd*\\x99hA\\xc7\\xe8\\xd7\\n\\xb5\\x93~\\xdb\"\\x03.MHrY\\xf1\\x8dX\\xf4\\x08\\xed\\x84\\x9ez\\xbb\\x8fl \\xb5\\x91\\xa6EkOf(\\xd5h\\xad\\x9d1\\xcc\\xeb\\xfa\\xe0'"
      ]
     },
     "execution_count": 39,
     "metadata": {},
     "output_type": "execute_result"
    }
   ],
   "source": [
    "# decode from base64 to bytes\n",
    "decoded_data = base64.b64decode(resp.data)\n",
    "decoded_data"
   ]
  },
  {
   "cell_type": "code",
   "execution_count": 41,
   "metadata": {},
   "outputs": [
    {
     "data": {
      "text/plain": [
       "b'this is a random bytestring, long enough to be chunked into segments and reconstructed at the end'"
      ]
     },
     "execution_count": 41,
     "metadata": {},
     "output_type": "execute_result"
    }
   ],
   "source": [
    "# decrypt back to the original file content bytes\n",
    "storage.utils.decrypt_aes_gcm(\n",
    "    decoded_data,\n",
    "    bytes.fromhex(response_storage['encryption_key']),\n",
    "    bytes.fromhex(response_storage['encryption_nonce']),\n",
    "    bytes.fromhex(response_storage['encryption_tag']),\n",
    ")"
   ]
  }
 ],
 "metadata": {
  "kernelspec": {
   "display_name": "store",
   "language": "python",
   "name": "python3"
  },
  "language_info": {
   "codemirror_mode": {
    "name": "ipython",
    "version": 3
   },
   "file_extension": ".py",
   "mimetype": "text/x-python",
   "name": "python",
   "nbconvert_exporter": "python",
   "pygments_lexer": "ipython3",
   "version": "3.10.13"
  }
 },
 "nbformat": 4,
 "nbformat_minor": 2
}
