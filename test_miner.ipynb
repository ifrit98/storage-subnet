{
 "cells": [
  {
   "cell_type": "code",
   "execution_count": 1,
   "metadata": {},
   "outputs": [
    {
     "data": {
      "text/plain": [
       "Redis<ConnectionPool<Connection<host=localhost,port=6379,db=0>>>"
      ]
     },
     "execution_count": 1,
     "metadata": {},
     "output_type": "execute_result"
    }
   ],
   "source": [
    "import bittensor as bt\n",
    "import storage\n",
    "import redis\n",
    "import base64\n",
    "import json\n",
    "import sys\n",
    "import os\n",
    "\n",
    "bt.trace()\n",
    "\n",
    "db = redis.Redis(host=\"localhost\", port=6379, db=0)\n",
    "db"
   ]
  },
  {
   "cell_type": "code",
   "execution_count": 2,
   "metadata": {},
   "outputs": [
    {
     "name": "stdout",
     "output_type": "stream",
     "text": [
      "wallet(default, default, ~/.bittensor/wallets/)\n",
      "metagraph(netuid:22, n:11, block:646419, network:test)\n",
      "AxonInfo( /ipv4/149.137.225.62:10004, 5FKwbwguHU1SVQiGot5YKSTQ6fWGVv2wRHFrWfwp9X9nWbyU, 5GeYLB44QY9wcqJmFZvJW8D3EYPDaJGSgGfkbJVxUbkVcU7C, 620 )\n",
      "dendrite(5C86aJ2uQawR6P6veaJQXNK9HaWh6NMbUhTiLs65kq4ZW3NH)\n"
     ]
    }
   ],
   "source": [
    "# create a wallet instance that must be registered on the network\n",
    "wallet = bt.wallet(name=\"default\", hotkey=\"default\")\n",
    "print(wallet)\n",
    "\n",
    "# instantiate the metagraph\n",
    "metagraph = bt.metagraph(\n",
    "    netuid=22, network=\"test\", sync=True, lite=False\n",
    ")\n",
    "print(metagraph)\n",
    "\n",
    "# Grab the axon you're serving\n",
    "axon = metagraph.axons[6]\n",
    "print(axon)\n",
    "\n",
    "# Create a Dendrite instance to handle client-side communication.\n",
    "d = bt.dendrite(wallet=wallet)\n",
    "print(d)"
   ]
  },
  {
   "cell_type": "code",
   "execution_count": 18,
   "metadata": {},
   "outputs": [
    {
     "data": {
      "text/plain": [
       "AxonInfo( /ipv4/149.137.225.62:10004, 5FKwbwguHU1SVQiGot5YKSTQ6fWGVv2wRHFrWfwp9X9nWbyU, 5GeYLB44QY9wcqJmFZvJW8D3EYPDaJGSgGfkbJVxUbkVcU7C, 620 )"
      ]
     },
     "execution_count": 18,
     "metadata": {},
     "output_type": "execute_result"
    }
   ],
   "source": [
    "axon"
   ]
  },
  {
   "cell_type": "code",
   "execution_count": 3,
   "metadata": {},
   "outputs": [
    {
     "data": {
      "text/html": [
       "<pre style=\"white-space:pre;overflow-x:auto;line-height:normal;font-family:Menlo,'DejaVu Sans Mono',consolas,'Courier New',monospace\"></pre>\n"
      ],
      "text/plain": []
     },
     "metadata": {},
     "output_type": "display_data"
    },
    {
     "data": {
      "text/plain": [
       "b'\\xdd\\xd7sv\\xa2a\\x93p\\x1e\\xc2\\xcc\\x8aYR\\x8c`!\\xfc\\xa8\\x83\\x8d\\xdai\\x80.\\x9fk^\\xbd\\xc7\\x1b^<x\\xc1)/\\xd4$|Gp\\x14\\x93,Wc\\xf6\\xc6~*\\x15\\xf0\\x15qE\\xb9\\xdb\\x8eO:\\xb6K{%+\\t\\x91\\x9f\\xb8\\xe8\\xd8+\\xb4\\x94]\\xb1\\xbd\\x9c2&\\xcch\\x86C\\xeb\\x92y\\xd5\\xce\\xca\\x9e\\x84\\xc7\\xc1LA'"
      ]
     },
     "execution_count": 3,
     "metadata": {},
     "output_type": "execute_result"
    }
   ],
   "source": [
    "# Setup CRS for initial round of validation\n",
    "g, h = storage.shared.ecc.setup_CRS(curve=\"P-256\")\n",
    "\n",
    "# Make a bytes string to test the miner\n",
    "data = b\"this is a random bytestring, long enough to be chunked into segments and reconstructed at the end\"\n",
    "\n",
    "# Encrypt the data\n",
    "encrypted_data, encryption_payload = storage.validator.encryption.encrypt_data(\n",
    "    data,\n",
    "    wallet,\n",
    ")\n",
    "encrypted_data"
   ]
  },
  {
   "cell_type": "code",
   "execution_count": 4,
   "metadata": {},
   "outputs": [
    {
     "name": "stdout",
     "output_type": "stream",
     "text": [
      "data_hash: 114118800427053723412699299725425869363133103567887688833379719181721603644456\n"
     ]
    },
    {
     "data": {
      "text/plain": [
       "b'\\xdd\\xd7sv\\xa2a\\x93p\\x1e\\xc2\\xcc\\x8aYR\\x8c`!\\xfc\\xa8\\x83\\x8d\\xdai\\x80.\\x9fk^\\xbd\\xc7\\x1b^<x\\xc1)/\\xd4$|Gp\\x14\\x93,Wc\\xf6\\xc6~*\\x15\\xf0\\x15qE\\xb9\\xdb\\x8eO:\\xb6K{%+\\t\\x91\\x9f\\xb8\\xe8\\xd8+\\xb4\\x94]\\xb1\\xbd\\x9c2&\\xcch\\x86C\\xeb\\x92y\\xd5\\xce\\xca\\x9e\\x84\\xc7\\xc1LA'"
      ]
     },
     "execution_count": 4,
     "metadata": {},
     "output_type": "execute_result"
    }
   ],
   "source": [
    "data_hash = storage.shared.ecc.hash_data(encrypted_data)\n",
    "print(\"data_hash:\", data_hash)\n",
    "\n",
    "encrypted_data"
   ]
  },
  {
   "cell_type": "code",
   "execution_count": 5,
   "metadata": {},
   "outputs": [
    {
     "data": {
      "text/plain": [
       "'3ddzdqJhk3AewsyKWVKMYCH8qION2mmALp9rXr3HG148eMEpL9QkfEdwFJMsV2P2xn4qFfAVcUW5245POrZLeyUrCZGfuOjYK7SUXbG9nDImzGiGQ+uSedXOyp6Ex8FMQQ=='"
      ]
     },
     "execution_count": 5,
     "metadata": {},
     "output_type": "execute_result"
    }
   ],
   "source": [
    "# Convert to base64 for compactness\n",
    "b64_encrypted_data = base64.b64encode(encrypted_data).decode(\"utf-8\")\n",
    "b64_encrypted_data"
   ]
  },
  {
   "cell_type": "code",
   "execution_count": 6,
   "metadata": {},
   "outputs": [
    {
     "data": {
      "text/plain": [
       "Store(required_hash_fields=['curve', 'g', 'h', 'seed', 'randomness', 'commitment', 'signature', 'commitment_hash'], encrypted_data='3ddzdqJhk3AewsyKWVKMYCH8qION2mmALp9rXr3HG148eMEpL9QkfEdwFJMsV2P2xn4qFfAVcUW5245POrZLeyUrCZGfuOjYK7SUXbG9nDImzGiGQ+uSedXOyp6Ex8FMQQ==', curve='P-256', g='33393732373737373335343135353434393434333937303030333930303239343833363037383833323730373739323134333133313939333332303237303136353235313432363930393338302c39303730333532333539323135363236383231393836363636373031383432313336373139353132383137323232303031393236383437333432363630343531333130353030393736323538', h='3131333239373038323133323536353035353230393532363430313032303736363837343931363038333730363835323839393735383035303935393636323837353539313138313332363432322c3731383633383634333634333632343639373934333233313335343030373939373330313138393835393431393238373330323033353133353738383231383332393531393231363034393939', seed='413c826262a564e537e9175b5cc54dc8a6f8d40f71320875b8233cd65c297ca4', randomness=None, commitment=None, signature=None, commitment_hash=None)"
      ]
     },
     "execution_count": 6,
     "metadata": {},
     "output_type": "execute_result"
    }
   ],
   "source": [
    "# Create the synapse to store it\n",
    "synapse = storage.protocol.Store(\n",
    "    encrypted_data=b64_encrypted_data,\n",
    "    data_hash=data_hash,\n",
    "    curve=\"P-256\",\n",
    "    g=storage.shared.ecc.ecc_point_to_hex(g),\n",
    "    h=storage.shared.ecc.ecc_point_to_hex(h),\n",
    "    seed=os.urandom(32).hex(),\n",
    ")\n",
    "synapse"
   ]
  },
  {
   "cell_type": "code",
   "execution_count": 19,
   "metadata": {},
   "outputs": [
    {
     "name": "stdout",
     "output_type": "stream",
     "text": [
      "\u001b[34m2023-11-16 19:53:51.821\u001b[0m | \u001b[34m\u001b[1m     DEBUG      \u001b[0m | dendrite | --> | 3159 B | Synapse | 5FKwbwguHU1SVQiGot5YKSTQ6fWGVv2wRHFrWfwp9X9nWbyU | 149.137.225.62:10004 | 0 | Success\n",
      "\u001b[34m2023-11-16 19:53:51.842\u001b[0m | \u001b[34m\u001b[1m     DEBUG      \u001b[0m | dendrite | <-- | 4044 B | Synapse | 5FKwbwguHU1SVQiGot5YKSTQ6fWGVv2wRHFrWfwp9X9nWbyU | 149.137.225.62:10004 | 401 | Not Verified with error: Signature mismatch with 11073186306859948.5C86aJ2uQawR6P6veaJQXNK9HaWh6NMbUhTiLs65kq4ZW3NH.5H1CaMTf6XvzSYLcLe4AhnXwttQ4z3ry6fy9XzS9wrxV5vFA.c2153ac0-84b8-11ee-8804-3ceceff2faf8.a7ffc6f8bf1ed76651c14756a061d662f580ff4de43b49fa82d80a4b80f8434a and 0x6c6879815c3ab482c774a101b89d4c1ecd3d8047aa7f1530a4cab600b9cc040b631ad65473005f57feb1dd4cfa683137a08eb23b6587a82dc1d955f5b4d0648b\n"
     ]
    },
    {
     "data": {
      "text/plain": [
       "[Synapse()]"
      ]
     },
     "execution_count": 19,
     "metadata": {},
     "output_type": "execute_result"
    }
   ],
   "source": [
    "ping = bt.Synapse()\n",
    "bt.trace()\n",
    "# Send a request to the Axon using the Dendrite, passing in a Synapse \n",
    "# instance with the data_hash field. \n",
    "responses = await d(\n",
    "    [axon],\n",
    "    ping,\n",
    "    deserialize=False,\n",
    ")\n",
    "responses"
   ]
  },
  {
   "cell_type": "code",
   "execution_count": 15,
   "metadata": {},
   "outputs": [
    {
     "name": "stdout",
     "output_type": "stream",
     "text": [
      "\u001b[34m2023-11-16 19:43:07.127\u001b[0m | \u001b[34m\u001b[1m     DEBUG      \u001b[0m | dendrite | --> | 5021 B | Store | 5FKwbwguHU1SVQiGot5YKSTQ6fWGVv2wRHFrWfwp9X9nWbyU | 149.137.225.62:10004 | 0 | Success\n",
      "\u001b[34m2023-11-16 19:43:07.168\u001b[0m | \u001b[34m\u001b[1m     DEBUG      \u001b[0m | dendrite | <-- | 5922 B | Store | 5FKwbwguHU1SVQiGot5YKSTQ6fWGVv2wRHFrWfwp9X9nWbyU | 149.137.225.62:10004 | 401 | Not Verified with error: Signature mismatch with 11072541613459067.5C86aJ2uQawR6P6veaJQXNK9HaWh6NMbUhTiLs65kq4ZW3NH.5H1CaMTf6XvzSYLcLe4AhnXwttQ4z3ry6fy9XzS9wrxV5vFA.4c513cc6-84b8-11ee-9fff-3ceceff2faf8.5a6b75ebbd1630c9bae2d01183a8b4f381cd85fef04d09b97918effa05562b45 and 0x560896ae7a28146471130448126bb8c8b9ec9ec1480ffcf83c6ccd42ca7d5e044c1661296c6726ad36e582fc5132e1794ebe6f22e84772053e3bba53ad313b87\n"
     ]
    },
    {
     "data": {
      "text/plain": [
       "[Store(required_hash_fields=['curve', 'g', 'h', 'seed', 'randomness', 'commitment', 'signature', 'commitment_hash'], encrypted_data='zge84tNAjyYzDBugZtk7m6SQu92O1Fw+7l4tABHkO1xoWQg0+ZogXSoNupXnnf4bA13iKtmZfE7IFLSJXQxlxDNmQgm6c28xHlMUAFReBD3LjctWiXjv7e91HrsyFCCXXw==', curve='P-256', g='38303130353035383830303530393633323231373337313435303734353631383135383133383633303033393338363732393030353834303132363132333536353937393930393639353930372c313130353430313238353737343232393933353930343536373632363030373332303733383939323333393735323136353437333431313539353635343238323438323134303337343831373135', h='36313733333739303537303631363930323433353136343739373331353130363438383537373130313634393935343039393039333639343734333738313836363336313334353230363138372c3633393232383234323936313030343830323539373735343130393834343631373834353137353932393034353732383431333831333937363036343532313033333338393331303334363730', seed='73707881062fee6bf58c2926933e1d760744e8b6e1af3ec929eb056d51d9d552', randomness=None, commitment=None, signature=None, commitment_hash=None)]"
      ]
     },
     "execution_count": 15,
     "metadata": {},
     "output_type": "execute_result"
    }
   ],
   "source": [
    "# Send a request to the Axon using the Dendrite, passing in a Synapse \n",
    "# instance with the data_hash field. \n",
    "responses = await d(\n",
    "    [axon],\n",
    "    synapse,\n",
    "    deserialize=False,\n",
    ")\n",
    "responses"
   ]
  },
  {
   "cell_type": "code",
   "execution_count": 20,
   "metadata": {},
   "outputs": [
    {
     "data": {
      "text/plain": [
       "{'name': 'Synapse',\n",
       " 'timeout': 12.0,\n",
       " 'total_size': 4044,\n",
       " 'header_size': 0,\n",
       " 'dendrite': {'status_code': 401,\n",
       "  'status_message': 'Not Verified with error: Signature mismatch with 11073186306859948.5C86aJ2uQawR6P6veaJQXNK9HaWh6NMbUhTiLs65kq4ZW3NH.5H1CaMTf6XvzSYLcLe4AhnXwttQ4z3ry6fy9XzS9wrxV5vFA.c2153ac0-84b8-11ee-8804-3ceceff2faf8.a7ffc6f8bf1ed76651c14756a061d662f580ff4de43b49fa82d80a4b80f8434a and 0x6c6879815c3ab482c774a101b89d4c1ecd3d8047aa7f1530a4cab600b9cc040b631ad65473005f57feb1dd4cfa683137a08eb23b6587a82dc1d955f5b4d0648b',\n",
       "  'process_time': 0.021933555603027344,\n",
       "  'ip': '127.0.0.1',\n",
       "  'port': 35890,\n",
       "  'version': 620,\n",
       "  'nonce': 11073186306859948,\n",
       "  'uuid': 'c2153ac0-84b8-11ee-8804-3ceceff2faf8',\n",
       "  'hotkey': '5C86aJ2uQawR6P6veaJQXNK9HaWh6NMbUhTiLs65kq4ZW3NH',\n",
       "  'signature': '0x6c6879815c3ab482c774a101b89d4c1ecd3d8047aa7f1530a4cab600b9cc040b631ad65473005f57feb1dd4cfa683137a08eb23b6587a82dc1d955f5b4d0648b'},\n",
       " 'axon': {'status_code': 401,\n",
       "  'status_message': 'Not Verified with error: Signature mismatch with 11073186306859948.5C86aJ2uQawR6P6veaJQXNK9HaWh6NMbUhTiLs65kq4ZW3NH.5H1CaMTf6XvzSYLcLe4AhnXwttQ4z3ry6fy9XzS9wrxV5vFA.c2153ac0-84b8-11ee-8804-3ceceff2faf8.a7ffc6f8bf1ed76651c14756a061d662f580ff4de43b49fa82d80a4b80f8434a and 0x6c6879815c3ab482c774a101b89d4c1ecd3d8047aa7f1530a4cab600b9cc040b631ad65473005f57feb1dd4cfa683137a08eb23b6587a82dc1d955f5b4d0648b',\n",
       "  'process_time': 0.0014989376068115234,\n",
       "  'ip': '149.137.225.62',\n",
       "  'port': 10004,\n",
       "  'version': 620,\n",
       "  'nonce': 11073186318165430,\n",
       "  'uuid': '9cec5e38-8402-11ee-b4f4-3ceceff2faf8',\n",
       "  'hotkey': '5FKwbwguHU1SVQiGot5YKSTQ6fWGVv2wRHFrWfwp9X9nWbyU',\n",
       "  'signature': '0x6c08972e2a357642496dc667e0e7fe41b96205377e2a0d42604db34b425ac066b9bcb985361d80cbd457f45153092a433d8a0fd3838fa27d1f987e90d7cb2281'},\n",
       " 'computed_body_hash': '',\n",
       " 'required_hash_fields': []}"
      ]
     },
     "execution_count": 20,
     "metadata": {},
     "output_type": "execute_result"
    }
   ],
   "source": [
    "resp = responses[0]\n",
    "resp.dict()"
   ]
  },
  {
   "cell_type": "code",
   "execution_count": 10,
   "metadata": {},
   "outputs": [
    {
     "data": {
      "text/plain": [
       "{'size': 130,\n",
       " 'prev_seed': '09267afc92212859ffbeb8d7be0bcec6d8d799dc4d3cf616087dbf3a7e5d54a3',\n",
       " 'commitment_hash': None,\n",
       " 'encryption_payload': '{\"nonce\": \"3bc21783a90e2555951bf5a57fac20d45a07e3e4bfc17bda\", \"ciphertext\": \"9f7bb2f35b212123af59b0f4a204d86b03a78be1607fc3147a06eff51f059092cb09147a730cffc7d8f648f3a01b0198f5728f1ddfae80a086ae5520c5654b506126a13d052d05d11d45d065928b18961140662b46275577fbfbb8196c41ede3fa5d005bdbdcd9330f6f798a103b4bf1199320cfcea208ed2fe22c00be402df380a7ca532cb983534293d09b105227510eda18abee7de1061708b20222d39490ad7dc60e8ac2404561962d92c685a656f160536931d1a5\"}'}"
      ]
     },
     "execution_count": 10,
     "metadata": {},
     "output_type": "execute_result"
    }
   ],
   "source": [
    "# Store necessary data on the validator side\n",
    "response_storage = {\n",
    "    \"size\": sys.getsizeof(encrypted_data),\n",
    "    \"prev_seed\": synapse.seed,\n",
    "    \"commitment_hash\": resp.commitment_hash,  # contains the seed\n",
    "    # these will be private to the validator, not stored in decentralized GUN db\n",
    "    # just here now for testing purposes\n",
    "    \"encryption_payload\": encryption_payload\n",
    "}\n",
    "response_storage"
   ]
  },
  {
   "cell_type": "code",
   "execution_count": 11,
   "metadata": {},
   "outputs": [
    {
     "name": "stdout",
     "output_type": "stream",
     "text": [
      "validator storage key: 45523629128671725334410933537370912552436178063014474958404965724993446848727.5EJ2bC6t77aGaYcQzBkMsFKKiYSNedNq6ugEJPiW7RvtQsw7\n"
     ]
    },
    {
     "data": {
      "text/plain": [
       "True"
      ]
     },
     "execution_count": 11,
     "metadata": {},
     "output_type": "execute_result"
    }
   ],
   "source": [
    "# Store in the database according to the data hash and the miner hotkey\n",
    "key = f\"{data_hash}.{resp.axon.hotkey}\"\n",
    "print(\"validator storage key:\", key)\n",
    "db.set(key, json.dumps(response_storage).encode())"
   ]
  },
  {
   "cell_type": "code",
   "execution_count": 12,
   "metadata": {},
   "outputs": [
    {
     "name": "stdout",
     "output_type": "stream",
     "text": [
      "\u001b[34m2023-11-16 19:17:44.201\u001b[0m | \u001b[31m\u001b[1m     ERROR      \u001b[0m | Initial commitment hash does not match hash(data + seed)\n",
      "\u001b[34m2023-11-16 19:17:44.201\u001b[0m | \u001b[31m\u001b[1m     ERROR      \u001b[0m | synapse: {'status_code': 503, 'status_message': 'Service at 23.228.172.18:9999/Store unavailable.', 'process_time': None, 'ip': '149.137.225.62', 'port': None, 'version': 620, 'nonce': 11071018589697251, 'uuid': 'c911ac2c-84b4-11ee-b2f1-3ceceff2faf8', 'hotkey': '5C86aJ2uQawR6P6veaJQXNK9HaWh6NMbUhTiLs65kq4ZW3NH', 'signature': '0x94aa6c7b4865abdd1a57c39b43a967a5229dc6620fd2887b1c4408e430366f1f8ddaad25c10a6f27b393c481ac353e6f64bc8ebd9047f58a1310e332755e6a84'}\n"
     ]
    },
    {
     "data": {
      "text/plain": [
       "False"
      ]
     },
     "execution_count": 12,
     "metadata": {},
     "output_type": "execute_result"
    }
   ],
   "source": [
    "storage.validator.verify.verify_store_with_seed(resp)"
   ]
  },
  {
   "cell_type": "code",
   "execution_count": 13,
   "metadata": {},
   "outputs": [
    {
     "data": {
      "text/plain": [
       "Challenge(required_hash_fields=['commitment_hash', 'commitment_proof', 'commitment', 'data_chunk', 'randomness', 'merkle_proof', 'merkle_root'], challenge_hash='45523629128671725334410933537370912552436178063014474958404965724993446848727', challenge_index=1, chunk_size=74, g='3131303435303736383734393135383738313834323131373231373737343637363735333539383139373930333031343637323634363134343633393936393935383832383739383832383736312c313032383035373634303433343134353630303439333733333738343135343837333030323438373734383637393531363633383735393631343630383039373339323732323039393035373438', h='38383836343532383831383336373931323032373937333730363834383733383038383430393533333434353834333230353533353731373830313333303736363438343238373339363134382c3230393539353537373230393135313937343932363436393337393039363931343334313337363539363736303234353937323534313838303439323931353037323930393530353230333933', curve='P-256', seed='e3fbb74a319ba941ccb8fdfbf862e20976d44c22d4698b250fa502e49a3cb745', commitment_hash=None, commitment_proof=None, commitment=None, data_chunk=None, randomness=None, merkle_proof=None, merkle_root=None)"
      ]
     },
     "execution_count": 13,
     "metadata": {},
     "output_type": "execute_result"
    }
   ],
   "source": [
    "# Setup a challenge to the miner with a new CRS and on data we just stored\n",
    "g, h = storage.shared.ecc.setup_CRS(curve=\"P-256\")\n",
    "challenge = storage.protocol.Challenge(\n",
    "    challenge_hash=data_hash,\n",
    "    g=storage.shared.ecc.ecc_point_to_hex(g),\n",
    "    h=storage.shared.ecc.ecc_point_to_hex(h),\n",
    "    curve=\"P-256\",\n",
    "    seed=os.urandom(32).hex(),\n",
    "    challenge_index=1,\n",
    "    chunk_size=storage.validator.utils.get_random_chunksize(sys.getsizeof(data)) // 4, # bytes\n",
    ")\n",
    "challenge"
   ]
  },
  {
   "cell_type": "code",
   "execution_count": 14,
   "metadata": {},
   "outputs": [
    {
     "data": {
      "text/html": [
       "<pre style=\"white-space:pre;overflow-x:auto;line-height:normal;font-family:Menlo,'DejaVu Sans Mono',consolas,'Courier New',monospace\"><span style=\"color: #800000; text-decoration-color: #800000\">╭─────────────────────────────── </span><span style=\"color: #800000; text-decoration-color: #800000; font-weight: bold\">Traceback </span><span style=\"color: #bf7f7f; text-decoration-color: #bf7f7f; font-weight: bold\">(most recent call last)</span><span style=\"color: #800000; text-decoration-color: #800000\"> ────────────────────────────────╮</span>\n",
       "<span style=\"color: #800000; text-decoration-color: #800000\">│</span> in <span style=\"color: #00ff00; text-decoration-color: #00ff00\">&lt;module&gt;</span>:<span style=\"color: #0000ff; text-decoration-color: #0000ff\">3</span>                                                                                    <span style=\"color: #800000; text-decoration-color: #800000\">│</span>\n",
       "<span style=\"color: #800000; text-decoration-color: #800000\">│</span>                                                                                                  <span style=\"color: #800000; text-decoration-color: #800000\">│</span>\n",
       "<span style=\"color: #800000; text-decoration-color: #800000\">│</span>   <span style=\"color: #7f7f7f; text-decoration-color: #7f7f7f\">1 # Send the challenge to the miner</span>                                                            <span style=\"color: #800000; text-decoration-color: #800000\">│</span>\n",
       "<span style=\"color: #800000; text-decoration-color: #800000\">│</span>   <span style=\"color: #7f7f7f; text-decoration-color: #7f7f7f\">2 </span>responses = d.query(                                                                         <span style=\"color: #800000; text-decoration-color: #800000\">│</span>\n",
       "<span style=\"color: #800000; text-decoration-color: #800000\">│</span> <span style=\"color: #800000; text-decoration-color: #800000\">❱ </span>3 <span style=\"color: #7f7f7f; text-decoration-color: #7f7f7f\">│   </span>[metagraph.axons[<span style=\"color: #0000ff; text-decoration-color: #0000ff\">13</span>]],                                                                   <span style=\"color: #800000; text-decoration-color: #800000\">│</span>\n",
       "<span style=\"color: #800000; text-decoration-color: #800000\">│</span>   <span style=\"color: #7f7f7f; text-decoration-color: #7f7f7f\">4 </span><span style=\"color: #7f7f7f; text-decoration-color: #7f7f7f\">│   </span>challenge,                                                                               <span style=\"color: #800000; text-decoration-color: #800000\">│</span>\n",
       "<span style=\"color: #800000; text-decoration-color: #800000\">│</span>   <span style=\"color: #7f7f7f; text-decoration-color: #7f7f7f\">5 </span><span style=\"color: #7f7f7f; text-decoration-color: #7f7f7f\">│   </span>deserialize=<span style=\"color: #0000ff; text-decoration-color: #0000ff\">False</span>,                                                                       <span style=\"color: #800000; text-decoration-color: #800000\">│</span>\n",
       "<span style=\"color: #800000; text-decoration-color: #800000\">│</span>   <span style=\"color: #7f7f7f; text-decoration-color: #7f7f7f\">6 </span>)                                                                                            <span style=\"color: #800000; text-decoration-color: #800000\">│</span>\n",
       "<span style=\"color: #800000; text-decoration-color: #800000\">╰──────────────────────────────────────────────────────────────────────────────────────────────────╯</span>\n",
       "<span style=\"color: #ff0000; text-decoration-color: #ff0000; font-weight: bold\">IndexError: </span>list index out of range\n",
       "</pre>\n"
      ],
      "text/plain": [
       "\u001b[31m╭─\u001b[0m\u001b[31m──────────────────────────────\u001b[0m\u001b[31m \u001b[0m\u001b[1;31mTraceback \u001b[0m\u001b[1;2;31m(most recent call last)\u001b[0m\u001b[31m \u001b[0m\u001b[31m───────────────────────────────\u001b[0m\u001b[31m─╮\u001b[0m\n",
       "\u001b[31m│\u001b[0m in \u001b[92m<module>\u001b[0m:\u001b[94m3\u001b[0m                                                                                    \u001b[31m│\u001b[0m\n",
       "\u001b[31m│\u001b[0m                                                                                                  \u001b[31m│\u001b[0m\n",
       "\u001b[31m│\u001b[0m   \u001b[2m1 \u001b[0m\u001b[2m# Send the challenge to the miner\u001b[0m                                                            \u001b[31m│\u001b[0m\n",
       "\u001b[31m│\u001b[0m   \u001b[2m2 \u001b[0mresponses = d.query(                                                                         \u001b[31m│\u001b[0m\n",
       "\u001b[31m│\u001b[0m \u001b[31m❱ \u001b[0m3 \u001b[2m│   \u001b[0m[metagraph.axons[\u001b[94m13\u001b[0m]],                                                                   \u001b[31m│\u001b[0m\n",
       "\u001b[31m│\u001b[0m   \u001b[2m4 \u001b[0m\u001b[2m│   \u001b[0mchallenge,                                                                               \u001b[31m│\u001b[0m\n",
       "\u001b[31m│\u001b[0m   \u001b[2m5 \u001b[0m\u001b[2m│   \u001b[0mdeserialize=\u001b[94mFalse\u001b[0m,                                                                       \u001b[31m│\u001b[0m\n",
       "\u001b[31m│\u001b[0m   \u001b[2m6 \u001b[0m)                                                                                            \u001b[31m│\u001b[0m\n",
       "\u001b[31m╰──────────────────────────────────────────────────────────────────────────────────────────────────╯\u001b[0m\n",
       "\u001b[1;91mIndexError: \u001b[0mlist index out of range\n"
      ]
     },
     "metadata": {},
     "output_type": "display_data"
    }
   ],
   "source": [
    "# Send the challenge to the miner\n",
    "responses = d.query(\n",
    "    [metagraph.axons[13]],\n",
    "    challenge,\n",
    "    deserialize=False,\n",
    ")\n",
    "responses[0]"
   ]
  },
  {
   "cell_type": "code",
   "execution_count": 15,
   "metadata": {},
   "outputs": [
    {
     "name": "stdout",
     "output_type": "stream",
     "text": [
      "\u001b[34m2023-11-16 19:17:44.699\u001b[0m | \u001b[31m\u001b[1m     ERROR      \u001b[0m | Missing commitment hash or proof for synapse: {'status_code': 503, 'status_message': 'Service at 23.228.172.18:9999/Store unavailable.', 'process_time': None, 'ip': '149.137.225.62', 'port': None, 'version': 620, 'nonce': 11071018589697251, 'uuid': 'c911ac2c-84b4-11ee-b2f1-3ceceff2faf8', 'hotkey': '5C86aJ2uQawR6P6veaJQXNK9HaWh6NMbUhTiLs65kq4ZW3NH', 'signature': '0x94aa6c7b4865abdd1a57c39b43a967a5229dc6620fd2887b1c4408e430366f1f8ddaad25c10a6f27b393c481ac353e6f64bc8ebd9047f58a1310e332755e6a84'}.\n"
     ]
    },
    {
     "data": {
      "text/plain": [
       "False"
      ]
     },
     "execution_count": 15,
     "metadata": {},
     "output_type": "execute_result"
    }
   ],
   "source": [
    "# Verify the challenge\n",
    "storage.validator.verify.verify_challenge_with_seed(responses[0])"
   ]
  },
  {
   "cell_type": "code",
   "execution_count": 16,
   "metadata": {},
   "outputs": [
    {
     "data": {
      "text/plain": [
       "Retrieve(required_hash_fields=['data', 'data_hash', 'seed', 'commtiment_proof', 'commitment_hash'], data_hash='45523629128671725334410933537370912552436178063014474958404965724993446848727', seed='71d86a6672f385fd521968937d3fef9ad8db67a4bc9d010b1e77133fdca683d5', data=None, commitment_hash=None, commitment_proof=None)"
      ]
     },
     "execution_count": 16,
     "metadata": {},
     "output_type": "execute_result"
    }
   ],
   "source": [
    "# Now retrieve the data we stored and successfully challenged\n",
    "syn = storage.protocol.Retrieve(\n",
    "    data_hash=data_hash,\n",
    "    seed=os.urandom(32).hex(),\n",
    ")\n",
    "syn"
   ]
  },
  {
   "cell_type": "code",
   "execution_count": 17,
   "metadata": {},
   "outputs": [
    {
     "name": "stdout",
     "output_type": "stream",
     "text": [
      "\u001b[34m2023-11-16 19:17:44.712\u001b[0m | \u001b[34m\u001b[1m     DEBUG      \u001b[0m | dendrite | --> | 4100 B | Retrieve | 5EJ2bC6t77aGaYcQzBkMsFKKiYSNedNq6ugEJPiW7RvtQsw7 | 23.228.172.18:9999 | 0 | Success\n",
      "\u001b[34m2023-11-16 19:17:44.758\u001b[0m | \u001b[34m\u001b[1m     DEBUG      \u001b[0m | dendrite | <-- | 4256 B | Retrieve | 5EJ2bC6t77aGaYcQzBkMsFKKiYSNedNq6ugEJPiW7RvtQsw7 | 23.228.172.18:9999 | 503 | Service at 23.228.172.18:9999/Retrieve unavailable.\n"
     ]
    },
    {
     "data": {
      "text/plain": [
       "[Retrieve(required_hash_fields=['data', 'data_hash', 'seed', 'commtiment_proof', 'commitment_hash'], data_hash='45523629128671725334410933537370912552436178063014474958404965724993446848727', seed='71d86a6672f385fd521968937d3fef9ad8db67a4bc9d010b1e77133fdca683d5', data=None, commitment_hash=None, commitment_proof=None)]"
      ]
     },
     "execution_count": 17,
     "metadata": {},
     "output_type": "execute_result"
    }
   ],
   "source": [
    "# Send a request to the Axon using the Dendrite, passing in a Synapse \n",
    "# instance with the data_hash field. \n",
    "responses = await d(\n",
    "    [axon],\n",
    "    syn,\n",
    "    deserialize=False,\n",
    ")\n",
    "responses "
   ]
  },
  {
   "cell_type": "code",
   "execution_count": 18,
   "metadata": {},
   "outputs": [],
   "source": [
    "# extract the base64 encoded string of the data\n",
    "resp = responses[0]\n",
    "resp.data"
   ]
  },
  {
   "cell_type": "code",
   "execution_count": 19,
   "metadata": {},
   "outputs": [
    {
     "data": {
      "text/html": [
       "<pre style=\"white-space:pre;overflow-x:auto;line-height:normal;font-family:Menlo,'DejaVu Sans Mono',consolas,'Courier New',monospace\"><span style=\"color: #800000; text-decoration-color: #800000\">╭─────────────────────────────── </span><span style=\"color: #800000; text-decoration-color: #800000; font-weight: bold\">Traceback </span><span style=\"color: #bf7f7f; text-decoration-color: #bf7f7f; font-weight: bold\">(most recent call last)</span><span style=\"color: #800000; text-decoration-color: #800000\"> ────────────────────────────────╮</span>\n",
       "<span style=\"color: #800000; text-decoration-color: #800000\">│</span> in <span style=\"color: #00ff00; text-decoration-color: #00ff00\">&lt;module&gt;</span>:<span style=\"color: #0000ff; text-decoration-color: #0000ff\">2</span>                                                                                    <span style=\"color: #800000; text-decoration-color: #800000\">│</span>\n",
       "<span style=\"color: #800000; text-decoration-color: #800000\">│</span>                                                                                                  <span style=\"color: #800000; text-decoration-color: #800000\">│</span>\n",
       "<span style=\"color: #800000; text-decoration-color: #800000\">│</span>   <span style=\"color: #7f7f7f; text-decoration-color: #7f7f7f\">1 # decode from base64 to bytes</span>                                                                <span style=\"color: #800000; text-decoration-color: #800000\">│</span>\n",
       "<span style=\"color: #800000; text-decoration-color: #800000\">│</span> <span style=\"color: #800000; text-decoration-color: #800000\">❱ </span>2 decoded_data = base64.b64decode(resp.data)                                                   <span style=\"color: #800000; text-decoration-color: #800000\">│</span>\n",
       "<span style=\"color: #800000; text-decoration-color: #800000\">│</span>   <span style=\"color: #7f7f7f; text-decoration-color: #7f7f7f\">3 </span>decoded_data                                                                                 <span style=\"color: #800000; text-decoration-color: #800000\">│</span>\n",
       "<span style=\"color: #800000; text-decoration-color: #800000\">│</span>   <span style=\"color: #7f7f7f; text-decoration-color: #7f7f7f\">4 </span>                                                                                             <span style=\"color: #800000; text-decoration-color: #800000\">│</span>\n",
       "<span style=\"color: #800000; text-decoration-color: #800000\">│</span>                                                                                                  <span style=\"color: #800000; text-decoration-color: #800000\">│</span>\n",
       "<span style=\"color: #800000; text-decoration-color: #800000\">│</span> <span style=\"color: #bfbf7f; text-decoration-color: #bfbf7f\">/home/phil/miniconda3/envs/storage/lib/python3.10/</span><span style=\"color: #808000; text-decoration-color: #808000; font-weight: bold\">base64.py</span>:<span style=\"color: #0000ff; text-decoration-color: #0000ff\">80</span> in <span style=\"color: #00ff00; text-decoration-color: #00ff00\">b64decode</span>                      <span style=\"color: #800000; text-decoration-color: #800000\">│</span>\n",
       "<span style=\"color: #800000; text-decoration-color: #800000\">│</span>                                                                                                  <span style=\"color: #800000; text-decoration-color: #800000\">│</span>\n",
       "<span style=\"color: #800000; text-decoration-color: #800000\">│</span>   <span style=\"color: #7f7f7f; text-decoration-color: #7f7f7f\"> 77 </span><span style=\"color: #bfbf7f; text-decoration-color: #bfbf7f\">│   </span><span style=\"color: #808000; text-decoration-color: #808000\">to the padding check.  If validate is True, these non-alphabet characters</span>              <span style=\"color: #800000; text-decoration-color: #800000\">│</span>\n",
       "<span style=\"color: #800000; text-decoration-color: #800000\">│</span>   <span style=\"color: #7f7f7f; text-decoration-color: #7f7f7f\"> 78 </span><span style=\"color: #bfbf7f; text-decoration-color: #bfbf7f\">│   </span><span style=\"color: #808000; text-decoration-color: #808000\">in the input result in a binascii.Error.</span>                                               <span style=\"color: #800000; text-decoration-color: #800000\">│</span>\n",
       "<span style=\"color: #800000; text-decoration-color: #800000\">│</span>   <span style=\"color: #7f7f7f; text-decoration-color: #7f7f7f\"> 79 </span><span style=\"color: #bfbf7f; text-decoration-color: #bfbf7f\">│   </span><span style=\"color: #808000; text-decoration-color: #808000\">\"\"\"</span>                                                                                    <span style=\"color: #800000; text-decoration-color: #800000\">│</span>\n",
       "<span style=\"color: #800000; text-decoration-color: #800000\">│</span> <span style=\"color: #800000; text-decoration-color: #800000\">❱ </span> 80 <span style=\"color: #7f7f7f; text-decoration-color: #7f7f7f\">│   </span>s = _bytes_from_decode_data(s)                                                         <span style=\"color: #800000; text-decoration-color: #800000\">│</span>\n",
       "<span style=\"color: #800000; text-decoration-color: #800000\">│</span>   <span style=\"color: #7f7f7f; text-decoration-color: #7f7f7f\"> 81 </span><span style=\"color: #7f7f7f; text-decoration-color: #7f7f7f\">│   </span><span style=\"color: #0000ff; text-decoration-color: #0000ff\">if</span> altchars <span style=\"color: #ff00ff; text-decoration-color: #ff00ff\">is</span> <span style=\"color: #ff00ff; text-decoration-color: #ff00ff\">not</span> <span style=\"color: #0000ff; text-decoration-color: #0000ff\">None</span>:                                                               <span style=\"color: #800000; text-decoration-color: #800000\">│</span>\n",
       "<span style=\"color: #800000; text-decoration-color: #800000\">│</span>   <span style=\"color: #7f7f7f; text-decoration-color: #7f7f7f\"> 82 </span><span style=\"color: #7f7f7f; text-decoration-color: #7f7f7f\">│   │   </span>altchars = _bytes_from_decode_data(altchars)                                       <span style=\"color: #800000; text-decoration-color: #800000\">│</span>\n",
       "<span style=\"color: #800000; text-decoration-color: #800000\">│</span>   <span style=\"color: #7f7f7f; text-decoration-color: #7f7f7f\"> 83 </span><span style=\"color: #7f7f7f; text-decoration-color: #7f7f7f\">│   │   </span><span style=\"color: #0000ff; text-decoration-color: #0000ff\">assert</span> <span style=\"color: #00ffff; text-decoration-color: #00ffff\">len</span>(altchars) == <span style=\"color: #0000ff; text-decoration-color: #0000ff\">2</span>, <span style=\"color: #00ffff; text-decoration-color: #00ffff\">repr</span>(altchars)                                          <span style=\"color: #800000; text-decoration-color: #800000\">│</span>\n",
       "<span style=\"color: #800000; text-decoration-color: #800000\">│</span>                                                                                                  <span style=\"color: #800000; text-decoration-color: #800000\">│</span>\n",
       "<span style=\"color: #800000; text-decoration-color: #800000\">│</span> <span style=\"color: #bfbf7f; text-decoration-color: #bfbf7f\">/home/phil/miniconda3/envs/storage/lib/python3.10/</span><span style=\"color: #808000; text-decoration-color: #808000; font-weight: bold\">base64.py</span>:<span style=\"color: #0000ff; text-decoration-color: #0000ff\">45</span> in <span style=\"color: #00ff00; text-decoration-color: #00ff00\">_bytes_from_decode_data</span>        <span style=\"color: #800000; text-decoration-color: #800000\">│</span>\n",
       "<span style=\"color: #800000; text-decoration-color: #800000\">│</span>                                                                                                  <span style=\"color: #800000; text-decoration-color: #800000\">│</span>\n",
       "<span style=\"color: #800000; text-decoration-color: #800000\">│</span>   <span style=\"color: #7f7f7f; text-decoration-color: #7f7f7f\"> 42 </span><span style=\"color: #7f7f7f; text-decoration-color: #7f7f7f\">│   </span><span style=\"color: #0000ff; text-decoration-color: #0000ff\">try</span>:                                                                                   <span style=\"color: #800000; text-decoration-color: #800000\">│</span>\n",
       "<span style=\"color: #800000; text-decoration-color: #800000\">│</span>   <span style=\"color: #7f7f7f; text-decoration-color: #7f7f7f\"> 43 </span><span style=\"color: #7f7f7f; text-decoration-color: #7f7f7f\">│   │   </span><span style=\"color: #0000ff; text-decoration-color: #0000ff\">return</span> <span style=\"color: #00ffff; text-decoration-color: #00ffff\">memoryview</span>(s).tobytes()                                                     <span style=\"color: #800000; text-decoration-color: #800000\">│</span>\n",
       "<span style=\"color: #800000; text-decoration-color: #800000\">│</span>   <span style=\"color: #7f7f7f; text-decoration-color: #7f7f7f\"> 44 </span><span style=\"color: #7f7f7f; text-decoration-color: #7f7f7f\">│   </span><span style=\"color: #0000ff; text-decoration-color: #0000ff\">except</span> <span style=\"color: #00ffff; text-decoration-color: #00ffff\">TypeError</span>:                                                                      <span style=\"color: #800000; text-decoration-color: #800000\">│</span>\n",
       "<span style=\"color: #800000; text-decoration-color: #800000\">│</span> <span style=\"color: #800000; text-decoration-color: #800000\">❱ </span> 45 <span style=\"color: #7f7f7f; text-decoration-color: #7f7f7f\">│   │   </span><span style=\"color: #0000ff; text-decoration-color: #0000ff\">raise</span> <span style=\"color: #00ffff; text-decoration-color: #00ffff\">TypeError</span>(<span style=\"color: #808000; text-decoration-color: #808000\">\"argument should be a bytes-like object or ASCII \"</span>                 <span style=\"color: #800000; text-decoration-color: #800000\">│</span>\n",
       "<span style=\"color: #800000; text-decoration-color: #800000\">│</span>   <span style=\"color: #7f7f7f; text-decoration-color: #7f7f7f\"> 46 </span><span style=\"color: #7f7f7f; text-decoration-color: #7f7f7f\">│   │   │   │   │   │   </span><span style=\"color: #808000; text-decoration-color: #808000\">\"string, not %r\"</span> % s.<span style=\"color: #ff0000; text-decoration-color: #ff0000\">__class__</span>.<span style=\"color: #ff0000; text-decoration-color: #ff0000\">__name__</span>) <span style=\"color: #0000ff; text-decoration-color: #0000ff\">from</span> <span style=\"color: #0000ff; text-decoration-color: #0000ff\">None</span>                 <span style=\"color: #800000; text-decoration-color: #800000\">│</span>\n",
       "<span style=\"color: #800000; text-decoration-color: #800000\">│</span>   <span style=\"color: #7f7f7f; text-decoration-color: #7f7f7f\"> 47 </span>                                                                                           <span style=\"color: #800000; text-decoration-color: #800000\">│</span>\n",
       "<span style=\"color: #800000; text-decoration-color: #800000\">│</span>   <span style=\"color: #7f7f7f; text-decoration-color: #7f7f7f\"> 48 </span>                                                                                           <span style=\"color: #800000; text-decoration-color: #800000\">│</span>\n",
       "<span style=\"color: #800000; text-decoration-color: #800000\">╰──────────────────────────────────────────────────────────────────────────────────────────────────╯</span>\n",
       "<span style=\"color: #ff0000; text-decoration-color: #ff0000; font-weight: bold\">TypeError: </span>argument should be a bytes-like object or ASCII string, not <span style=\"color: #008000; text-decoration-color: #008000\">'NoneType'</span>\n",
       "</pre>\n"
      ],
      "text/plain": [
       "\u001b[31m╭─\u001b[0m\u001b[31m──────────────────────────────\u001b[0m\u001b[31m \u001b[0m\u001b[1;31mTraceback \u001b[0m\u001b[1;2;31m(most recent call last)\u001b[0m\u001b[31m \u001b[0m\u001b[31m───────────────────────────────\u001b[0m\u001b[31m─╮\u001b[0m\n",
       "\u001b[31m│\u001b[0m in \u001b[92m<module>\u001b[0m:\u001b[94m2\u001b[0m                                                                                    \u001b[31m│\u001b[0m\n",
       "\u001b[31m│\u001b[0m                                                                                                  \u001b[31m│\u001b[0m\n",
       "\u001b[31m│\u001b[0m   \u001b[2m1 \u001b[0m\u001b[2m# decode from base64 to bytes\u001b[0m                                                                \u001b[31m│\u001b[0m\n",
       "\u001b[31m│\u001b[0m \u001b[31m❱ \u001b[0m2 decoded_data = base64.b64decode(resp.data)                                                   \u001b[31m│\u001b[0m\n",
       "\u001b[31m│\u001b[0m   \u001b[2m3 \u001b[0mdecoded_data                                                                                 \u001b[31m│\u001b[0m\n",
       "\u001b[31m│\u001b[0m   \u001b[2m4 \u001b[0m                                                                                             \u001b[31m│\u001b[0m\n",
       "\u001b[31m│\u001b[0m                                                                                                  \u001b[31m│\u001b[0m\n",
       "\u001b[31m│\u001b[0m \u001b[2;33m/home/phil/miniconda3/envs/storage/lib/python3.10/\u001b[0m\u001b[1;33mbase64.py\u001b[0m:\u001b[94m80\u001b[0m in \u001b[92mb64decode\u001b[0m                      \u001b[31m│\u001b[0m\n",
       "\u001b[31m│\u001b[0m                                                                                                  \u001b[31m│\u001b[0m\n",
       "\u001b[31m│\u001b[0m   \u001b[2m 77 \u001b[0m\u001b[2;33m│   \u001b[0m\u001b[33mto the padding check.  If validate is True, these non-alphabet characters\u001b[0m              \u001b[31m│\u001b[0m\n",
       "\u001b[31m│\u001b[0m   \u001b[2m 78 \u001b[0m\u001b[2;33m│   \u001b[0m\u001b[33min the input result in a binascii.Error.\u001b[0m                                               \u001b[31m│\u001b[0m\n",
       "\u001b[31m│\u001b[0m   \u001b[2m 79 \u001b[0m\u001b[2;33m│   \u001b[0m\u001b[33m\"\"\"\u001b[0m                                                                                    \u001b[31m│\u001b[0m\n",
       "\u001b[31m│\u001b[0m \u001b[31m❱ \u001b[0m 80 \u001b[2m│   \u001b[0ms = _bytes_from_decode_data(s)                                                         \u001b[31m│\u001b[0m\n",
       "\u001b[31m│\u001b[0m   \u001b[2m 81 \u001b[0m\u001b[2m│   \u001b[0m\u001b[94mif\u001b[0m altchars \u001b[95mis\u001b[0m \u001b[95mnot\u001b[0m \u001b[94mNone\u001b[0m:                                                               \u001b[31m│\u001b[0m\n",
       "\u001b[31m│\u001b[0m   \u001b[2m 82 \u001b[0m\u001b[2m│   │   \u001b[0maltchars = _bytes_from_decode_data(altchars)                                       \u001b[31m│\u001b[0m\n",
       "\u001b[31m│\u001b[0m   \u001b[2m 83 \u001b[0m\u001b[2m│   │   \u001b[0m\u001b[94massert\u001b[0m \u001b[96mlen\u001b[0m(altchars) == \u001b[94m2\u001b[0m, \u001b[96mrepr\u001b[0m(altchars)                                          \u001b[31m│\u001b[0m\n",
       "\u001b[31m│\u001b[0m                                                                                                  \u001b[31m│\u001b[0m\n",
       "\u001b[31m│\u001b[0m \u001b[2;33m/home/phil/miniconda3/envs/storage/lib/python3.10/\u001b[0m\u001b[1;33mbase64.py\u001b[0m:\u001b[94m45\u001b[0m in \u001b[92m_bytes_from_decode_data\u001b[0m        \u001b[31m│\u001b[0m\n",
       "\u001b[31m│\u001b[0m                                                                                                  \u001b[31m│\u001b[0m\n",
       "\u001b[31m│\u001b[0m   \u001b[2m 42 \u001b[0m\u001b[2m│   \u001b[0m\u001b[94mtry\u001b[0m:                                                                                   \u001b[31m│\u001b[0m\n",
       "\u001b[31m│\u001b[0m   \u001b[2m 43 \u001b[0m\u001b[2m│   │   \u001b[0m\u001b[94mreturn\u001b[0m \u001b[96mmemoryview\u001b[0m(s).tobytes()                                                     \u001b[31m│\u001b[0m\n",
       "\u001b[31m│\u001b[0m   \u001b[2m 44 \u001b[0m\u001b[2m│   \u001b[0m\u001b[94mexcept\u001b[0m \u001b[96mTypeError\u001b[0m:                                                                      \u001b[31m│\u001b[0m\n",
       "\u001b[31m│\u001b[0m \u001b[31m❱ \u001b[0m 45 \u001b[2m│   │   \u001b[0m\u001b[94mraise\u001b[0m \u001b[96mTypeError\u001b[0m(\u001b[33m\"\u001b[0m\u001b[33margument should be a bytes-like object or ASCII \u001b[0m\u001b[33m\"\u001b[0m                 \u001b[31m│\u001b[0m\n",
       "\u001b[31m│\u001b[0m   \u001b[2m 46 \u001b[0m\u001b[2m│   │   │   │   │   │   \u001b[0m\u001b[33m\"\u001b[0m\u001b[33mstring, not \u001b[0m\u001b[33m%r\u001b[0m\u001b[33m\"\u001b[0m % s.\u001b[91m__class__\u001b[0m.\u001b[91m__name__\u001b[0m) \u001b[94mfrom\u001b[0m \u001b[94mNone\u001b[0m                 \u001b[31m│\u001b[0m\n",
       "\u001b[31m│\u001b[0m   \u001b[2m 47 \u001b[0m                                                                                           \u001b[31m│\u001b[0m\n",
       "\u001b[31m│\u001b[0m   \u001b[2m 48 \u001b[0m                                                                                           \u001b[31m│\u001b[0m\n",
       "\u001b[31m╰──────────────────────────────────────────────────────────────────────────────────────────────────╯\u001b[0m\n",
       "\u001b[1;91mTypeError: \u001b[0margument should be a bytes-like object or ASCII string, not \u001b[32m'NoneType'\u001b[0m\n"
      ]
     },
     "metadata": {},
     "output_type": "display_data"
    }
   ],
   "source": [
    "# decode from base64 to bytes\n",
    "decoded_data = base64.b64decode(resp.data)\n",
    "decoded_data"
   ]
  },
  {
   "cell_type": "code",
   "execution_count": 20,
   "metadata": {},
   "outputs": [
    {
     "data": {
      "text/html": [
       "<pre style=\"white-space:pre;overflow-x:auto;line-height:normal;font-family:Menlo,'DejaVu Sans Mono',consolas,'Courier New',monospace\"><span style=\"color: #800000; text-decoration-color: #800000\">╭─────────────────────────────── </span><span style=\"color: #800000; text-decoration-color: #800000; font-weight: bold\">Traceback </span><span style=\"color: #bf7f7f; text-decoration-color: #bf7f7f; font-weight: bold\">(most recent call last)</span><span style=\"color: #800000; text-decoration-color: #800000\"> ────────────────────────────────╮</span>\n",
       "<span style=\"color: #800000; text-decoration-color: #800000\">│</span> in <span style=\"color: #00ff00; text-decoration-color: #00ff00\">&lt;module&gt;</span>:<span style=\"color: #0000ff; text-decoration-color: #0000ff\">3</span>                                                                                    <span style=\"color: #800000; text-decoration-color: #800000\">│</span>\n",
       "<span style=\"color: #800000; text-decoration-color: #800000\">│</span>                                                                                                  <span style=\"color: #800000; text-decoration-color: #800000\">│</span>\n",
       "<span style=\"color: #800000; text-decoration-color: #800000\">│</span>   <span style=\"color: #7f7f7f; text-decoration-color: #7f7f7f\">1 # decrypt back to the original file content bytes</span>                                            <span style=\"color: #800000; text-decoration-color: #800000\">│</span>\n",
       "<span style=\"color: #800000; text-decoration-color: #800000\">│</span>   <span style=\"color: #7f7f7f; text-decoration-color: #7f7f7f\">2 </span>storage.validator.encryption.decrypt_data(                                                   <span style=\"color: #800000; text-decoration-color: #800000\">│</span>\n",
       "<span style=\"color: #800000; text-decoration-color: #800000\">│</span> <span style=\"color: #800000; text-decoration-color: #800000\">❱ </span>3 <span style=\"color: #7f7f7f; text-decoration-color: #7f7f7f\">│   </span>decoded_data,                                                                            <span style=\"color: #800000; text-decoration-color: #800000\">│</span>\n",
       "<span style=\"color: #800000; text-decoration-color: #800000\">│</span>   <span style=\"color: #7f7f7f; text-decoration-color: #7f7f7f\">4 </span><span style=\"color: #7f7f7f; text-decoration-color: #7f7f7f\">│   </span>response_storage[<span style=\"color: #808000; text-decoration-color: #808000\">'encryption_payload'</span>],                                                  <span style=\"color: #800000; text-decoration-color: #800000\">│</span>\n",
       "<span style=\"color: #800000; text-decoration-color: #800000\">│</span>   <span style=\"color: #7f7f7f; text-decoration-color: #7f7f7f\">5 </span><span style=\"color: #7f7f7f; text-decoration-color: #7f7f7f\">│   </span>wallet=wallet,                                                                           <span style=\"color: #800000; text-decoration-color: #800000\">│</span>\n",
       "<span style=\"color: #800000; text-decoration-color: #800000\">│</span>   <span style=\"color: #7f7f7f; text-decoration-color: #7f7f7f\">6 </span>)                                                                                            <span style=\"color: #800000; text-decoration-color: #800000\">│</span>\n",
       "<span style=\"color: #800000; text-decoration-color: #800000\">╰──────────────────────────────────────────────────────────────────────────────────────────────────╯</span>\n",
       "<span style=\"color: #ff0000; text-decoration-color: #ff0000; font-weight: bold\">NameError: </span>name <span style=\"color: #008000; text-decoration-color: #008000\">'decoded_data'</span> is not defined\n",
       "</pre>\n"
      ],
      "text/plain": [
       "\u001b[31m╭─\u001b[0m\u001b[31m──────────────────────────────\u001b[0m\u001b[31m \u001b[0m\u001b[1;31mTraceback \u001b[0m\u001b[1;2;31m(most recent call last)\u001b[0m\u001b[31m \u001b[0m\u001b[31m───────────────────────────────\u001b[0m\u001b[31m─╮\u001b[0m\n",
       "\u001b[31m│\u001b[0m in \u001b[92m<module>\u001b[0m:\u001b[94m3\u001b[0m                                                                                    \u001b[31m│\u001b[0m\n",
       "\u001b[31m│\u001b[0m                                                                                                  \u001b[31m│\u001b[0m\n",
       "\u001b[31m│\u001b[0m   \u001b[2m1 \u001b[0m\u001b[2m# decrypt back to the original file content bytes\u001b[0m                                            \u001b[31m│\u001b[0m\n",
       "\u001b[31m│\u001b[0m   \u001b[2m2 \u001b[0mstorage.validator.encryption.decrypt_data(                                                   \u001b[31m│\u001b[0m\n",
       "\u001b[31m│\u001b[0m \u001b[31m❱ \u001b[0m3 \u001b[2m│   \u001b[0mdecoded_data,                                                                            \u001b[31m│\u001b[0m\n",
       "\u001b[31m│\u001b[0m   \u001b[2m4 \u001b[0m\u001b[2m│   \u001b[0mresponse_storage[\u001b[33m'\u001b[0m\u001b[33mencryption_payload\u001b[0m\u001b[33m'\u001b[0m],                                                  \u001b[31m│\u001b[0m\n",
       "\u001b[31m│\u001b[0m   \u001b[2m5 \u001b[0m\u001b[2m│   \u001b[0mwallet=wallet,                                                                           \u001b[31m│\u001b[0m\n",
       "\u001b[31m│\u001b[0m   \u001b[2m6 \u001b[0m)                                                                                            \u001b[31m│\u001b[0m\n",
       "\u001b[31m╰──────────────────────────────────────────────────────────────────────────────────────────────────╯\u001b[0m\n",
       "\u001b[1;91mNameError: \u001b[0mname \u001b[32m'decoded_data'\u001b[0m is not defined\n"
      ]
     },
     "metadata": {},
     "output_type": "display_data"
    }
   ],
   "source": [
    "# decrypt back to the original file content bytes\n",
    "storage.validator.encryption.decrypt_data(\n",
    "    decoded_data,\n",
    "    response_storage['encryption_payload'],\n",
    "    wallet=wallet,\n",
    ")"
   ]
  },
  {
   "cell_type": "code",
   "execution_count": 21,
   "metadata": {},
   "outputs": [],
   "source": [
    "import torch"
   ]
  },
  {
   "cell_type": "code",
   "execution_count": 26,
   "metadata": {},
   "outputs": [
    {
     "data": {
      "text/plain": [
       "Parameter containing:\n",
       "tensor([ True,  True,  True,  True,  True,  True,  True,  True,  True, False,\n",
       "        False])"
      ]
     },
     "execution_count": 26,
     "metadata": {},
     "output_type": "execute_result"
    }
   ],
   "source": [
    "vpermits = metagraph.validator_permit\n",
    "vpermits"
   ]
  },
  {
   "cell_type": "code",
   "execution_count": 27,
   "metadata": {},
   "outputs": [
    {
     "data": {
      "text/plain": [
       "[0, 1, 2, 3, 4, 5, 6, 7, 8]"
      ]
     },
     "execution_count": 27,
     "metadata": {},
     "output_type": "execute_result"
    }
   ],
   "source": [
    "vpermit_uids = [uid for uid, permit in enumerate(vpermits) if permit]\n",
    "vpermit_uids"
   ]
  },
  {
   "cell_type": "code",
   "execution_count": 28,
   "metadata": {},
   "outputs": [
    {
     "data": {
      "text/plain": [
       "tensor([0, 1, 2, 3, 4, 5, 6, 7, 8])"
      ]
     },
     "execution_count": 28,
     "metadata": {},
     "output_type": "execute_result"
    }
   ],
   "source": [
    "vpermit_uids = torch.where(vpermits)[0]\n",
    "vpermit_uids"
   ]
  },
  {
   "cell_type": "code",
   "execution_count": 29,
   "metadata": {},
   "outputs": [
    {
     "data": {
      "text/plain": [
       "tensor([1, 2, 3, 4, 5, 6, 7, 8])"
      ]
     },
     "execution_count": 29,
     "metadata": {},
     "output_type": "execute_result"
    }
   ],
   "source": [
    "# Exclude your own uid\n",
    "vpermit_uids = vpermit_uids[\n",
    "    vpermit_uids\n",
    "    != metagraph.hotkeys.index(wallet.hotkey.ss58_address)\n",
    "]\n",
    "vpermit_uids"
   ]
  },
  {
   "cell_type": "code",
   "execution_count": 35,
   "metadata": {},
   "outputs": [
    {
     "data": {
      "text/plain": [
       "tensor([3.9402e+01, 5.4623e+01, 2.0966e+02, 3.3365e+01, 3.5353e+04, 1.0174e+02,\n",
       "        5.0871e+03, 0.0000e+00])"
      ]
     },
     "execution_count": 35,
     "metadata": {},
     "output_type": "execute_result"
    }
   ],
   "source": [
    "metagraph.S[vpermit_uids]"
   ]
  },
  {
   "cell_type": "code",
   "execution_count": 37,
   "metadata": {},
   "outputs": [
    {
     "data": {
      "text/plain": [
       "tensor([4, 6])"
      ]
     },
     "execution_count": 37,
     "metadata": {},
     "output_type": "execute_result"
    }
   ],
   "source": [
    "query_idxs = torch.where(\n",
    "    metagraph.S[vpermit_uids] > 1000\n",
    ")[0]\n",
    "query_idxs"
   ]
  },
  {
   "cell_type": "code",
   "execution_count": null,
   "metadata": {},
   "outputs": [],
   "source": [
    "query_uids = vpermit_uids[query_idxs]"
   ]
  },
  {
   "cell_type": "code",
   "execution_count": null,
   "metadata": {},
   "outputs": [],
   "source": [
    "axons = [metagraph.axons[uid] for uid in query_uids]\n",
    "query_uids"
   ]
  }
 ],
 "metadata": {
  "kernelspec": {
   "display_name": "store",
   "language": "python",
   "name": "python3"
  },
  "language_info": {
   "codemirror_mode": {
    "name": "ipython",
    "version": 3
   },
   "file_extension": ".py",
   "mimetype": "text/x-python",
   "name": "python",
   "nbconvert_exporter": "python",
   "pygments_lexer": "ipython3",
   "version": "3.10.13"
  }
 },
 "nbformat": 4,
 "nbformat_minor": 2
}
