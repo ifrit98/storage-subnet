{
 "cells": [
  {
   "cell_type": "code",
   "execution_count": 1,
   "metadata": {},
   "outputs": [
    {
     "data": {
      "text/plain": [
       "Redis<ConnectionPool<Connection<host=localhost,port=6379,db=0>>>"
      ]
     },
     "execution_count": 1,
     "metadata": {},
     "output_type": "execute_result"
    }
   ],
   "source": [
    "import bittensor as bt\n",
    "import storage\n",
    "import redis\n",
    "import base64\n",
    "import json\n",
    "import sys\n",
    "import os\n",
    "\n",
    "bt.trace()\n",
    "\n",
    "db = redis.Redis(host=\"localhost\", port=6379, db=0)\n",
    "db"
   ]
  },
  {
   "cell_type": "code",
   "execution_count": 2,
   "metadata": {},
   "outputs": [
    {
     "name": "stdout",
     "output_type": "stream",
     "text": [
      "wallet(default, default, ~/.bittensor/wallets/)\n",
      "metagraph(netuid:8, n:65, block:619716, network:test)\n",
      "AxonInfo( /ipv4/149.137.225.62:8091, 5C86aJ2uQawR6P6veaJQXNK9HaWh6NMbUhTiLs65kq4ZW3NH, 5GeYLB44QY9wcqJmFZvJW8D3EYPDaJGSgGfkbJVxUbkVcU7C, 610 )\n",
      "dendrite(5C86aJ2uQawR6P6veaJQXNK9HaWh6NMbUhTiLs65kq4ZW3NH)\n"
     ]
    }
   ],
   "source": [
    "# create a wallet instance that must be registered on the network\n",
    "wallet = bt.wallet(name=\"default\", hotkey=\"default\")\n",
    "print(wallet)\n",
    "\n",
    "# instantiate the metagraph\n",
    "metagraph = bt.metagraph(\n",
    "    netuid=8, network=\"test\", sync=True, lite=False\n",
    ")\n",
    "print(metagraph)\n",
    "\n",
    "# Grab the axon you're serving\n",
    "axon = metagraph.axons[13]\n",
    "print(axon)\n",
    "\n",
    "# Create a Dendrite instance to handle client-side communication.\n",
    "d = bt.dendrite(wallet=wallet)\n",
    "print(d)"
   ]
  },
  {
   "cell_type": "code",
   "execution_count": 3,
   "metadata": {},
   "outputs": [
    {
     "data": {
      "text/html": [
       "<pre style=\"white-space:pre;overflow-x:auto;line-height:normal;font-family:Menlo,'DejaVu Sans Mono',consolas,'Courier New',monospace\"></pre>\n"
      ],
      "text/plain": []
     },
     "metadata": {},
     "output_type": "display_data"
    },
    {
     "data": {
      "text/plain": [
       "b'\\x87\\xc1\\xbc\\x06@u\\x95\\xb3o\\xd4\\x0c\\x95\\xfb[\\r\\xb5+\\xd9,>\\x0f\\xd2\\xd8l\\xd5\\xc1<\\xdbz^\\xc0v\\x9dA\\xb9\\xf5\\xc59\\x04\\x01\\x7f\\x87\\x82Ul\\xeb\\xd3Y\\xdd\\x8d\\xbb\\x19\\xcc`\\x9b\\x0cL\\t\"C\\xbc7\\xa3\\xbb\\x1bB\\x88\\x10\\x8d\\xd1^A\\xa8\\xe5\\xffA\\x12\\x14\\xbbG\\xe1_*r\\x1f\\x97\\x02vB\\x16\\xd2\\t\\xe9\\xdc\\xcc\\xe4>'"
      ]
     },
     "execution_count": 3,
     "metadata": {},
     "output_type": "execute_result"
    }
   ],
   "source": [
    "# Setup CRS for initial round of validation\n",
    "g, h = storage.shared.ecc.setup_CRS(curve=\"P-256\")\n",
    "\n",
    "# Make a bytes string to test the miner\n",
    "data = b\"this is a random bytestring, long enough to be chunked into segments and reconstructed at the end\"\n",
    "\n",
    "# Encrypt the data\n",
    "encrypted_data, encryption_payload = storage.validator.encryption.encrypt_data(\n",
    "    data,\n",
    "    wallet,\n",
    ")\n",
    "encrypted_data"
   ]
  },
  {
   "cell_type": "code",
   "execution_count": 4,
   "metadata": {},
   "outputs": [
    {
     "name": "stdout",
     "output_type": "stream",
     "text": [
      "data_hash: 20192024516852024298847601818161253952637065606622713604040224283723139441518\n"
     ]
    },
    {
     "data": {
      "text/plain": [
       "b'\\x87\\xc1\\xbc\\x06@u\\x95\\xb3o\\xd4\\x0c\\x95\\xfb[\\r\\xb5+\\xd9,>\\x0f\\xd2\\xd8l\\xd5\\xc1<\\xdbz^\\xc0v\\x9dA\\xb9\\xf5\\xc59\\x04\\x01\\x7f\\x87\\x82Ul\\xeb\\xd3Y\\xdd\\x8d\\xbb\\x19\\xcc`\\x9b\\x0cL\\t\"C\\xbc7\\xa3\\xbb\\x1bB\\x88\\x10\\x8d\\xd1^A\\xa8\\xe5\\xffA\\x12\\x14\\xbbG\\xe1_*r\\x1f\\x97\\x02vB\\x16\\xd2\\t\\xe9\\xdc\\xcc\\xe4>'"
      ]
     },
     "execution_count": 4,
     "metadata": {},
     "output_type": "execute_result"
    }
   ],
   "source": [
    "data_hash = storage.shared.ecc.hash_data(encrypted_data)\n",
    "print(\"data_hash:\", data_hash)\n",
    "\n",
    "encrypted_data"
   ]
  },
  {
   "cell_type": "code",
   "execution_count": 5,
   "metadata": {},
   "outputs": [
    {
     "data": {
      "text/plain": [
       "'h8G8BkB1lbNv1AyV+1sNtSvZLD4P0ths1cE823pewHadQbn1xTkEAX+HglVs69NZ3Y27GcxgmwxMCSJDvDejuxtCiBCN0V5BqOX/QRIUu0fhXypyH5cCdkIW0gnp3MzkPg=='"
      ]
     },
     "execution_count": 5,
     "metadata": {},
     "output_type": "execute_result"
    }
   ],
   "source": [
    "# Convert to base64 for compactness\n",
    "b64_encrypted_data = base64.b64encode(encrypted_data).decode(\"utf-8\")\n",
    "b64_encrypted_data"
   ]
  },
  {
   "cell_type": "code",
   "execution_count": 6,
   "metadata": {},
   "outputs": [
    {
     "data": {
      "text/plain": [
       "Store(required_hash_fields=['curve', 'g', 'h', 'seed', 'randomness', 'commitment', 'signature', 'commitment_hash'], encrypted_data='h8G8BkB1lbNv1AyV+1sNtSvZLD4P0ths1cE823pewHadQbn1xTkEAX+HglVs69NZ3Y27GcxgmwxMCSJDvDejuxtCiBCN0V5BqOX/QRIUu0fhXypyH5cCdkIW0gnp3MzkPg==', curve='P-256', g='31383532323531343834343331393830333231353130303232343930373337363933303235343937373932383337353435363232383938323634313638323237353835343630363139333139312c3938383837333837393637343631333135303437353033323733393739333831363432343538363839373638353232323535323535383337333437383835323438333337333730393532323235', h='35333635393534353036353831343036343432393539313536353831383437363831373737383531323033343035393135333835383939393532303837363030343432333637383133313735392c313130313739343933323630323432393633373230353635323632383938313638303331353835333832363538363439353432373634353436333237363731393430383630343832363730313038', seed='370700cabfb7e4dd615b53ed39bbfd569184c1d84f83c22cf9cf0f76132cc36e', randomness=None, commitment=None, signature=None, commitment_hash=None)"
      ]
     },
     "execution_count": 6,
     "metadata": {},
     "output_type": "execute_result"
    }
   ],
   "source": [
    "# Create the synapse to store it\n",
    "synapse = storage.protocol.Store(\n",
    "    encrypted_data=b64_encrypted_data,\n",
    "    data_hash=data_hash,\n",
    "    curve=\"P-256\",\n",
    "    g=storage.shared.ecc.ecc_point_to_hex(g),\n",
    "    h=storage.shared.ecc.ecc_point_to_hex(h),\n",
    "    seed=os.urandom(32).hex(),\n",
    ")\n",
    "synapse"
   ]
  },
  {
   "cell_type": "code",
   "execution_count": 7,
   "metadata": {},
   "outputs": [
    {
     "name": "stdout",
     "output_type": "stream",
     "text": [
      "\u001b[34m2023-11-13 02:45:30.672\u001b[0m | \u001b[34m\u001b[1m     DEBUG      \u001b[0m | dendrite | --> | 5021 B | Store | 5C86aJ2uQawR6P6veaJQXNK9HaWh6NMbUhTiLs65kq4ZW3NH | 149.137.225.62:8091 | 0 | Success\n",
      "\u001b[34m2023-11-13 02:45:30.710\u001b[0m | \u001b[34m\u001b[1m     DEBUG      \u001b[0m | dendrite | <-- | 6218 B | Store | 5C86aJ2uQawR6P6veaJQXNK9HaWh6NMbUhTiLs65kq4ZW3NH | 149.137.225.62:8091 | 200 | Success\n"
     ]
    },
    {
     "data": {
      "text/plain": [
       "[Store(required_hash_fields=['curve', 'g', 'h', 'seed', 'randomness', 'commitment', 'signature', 'commitment_hash'], encrypted_data='h8G8BkB1lbNv1AyV+1sNtSvZLD4P0ths1cE823pewHadQbn1xTkEAX+HglVs69NZ3Y27GcxgmwxMCSJDvDejuxtCiBCN0V5BqOX/QRIUu0fhXypyH5cCdkIW0gnp3MzkPg==', curve='P-256', g='31383532323531343834343331393830333231353130303232343930373337363933303235343937373932383337353435363232383938323634313638323237353835343630363139333139312c3938383837333837393637343631333135303437353033323733393739333831363432343538363839373638353232323535323535383337333437383835323438333337333730393532323235', h='35333635393534353036353831343036343432393539313536353831383437363831373737383531323033343035393135333835383939393532303837363030343432333637383133313735392c313130313739343933323630323432393633373230353635323632383938313638303331353835333832363538363439353432373634353436333237363731393430383630343832363730313038', seed='370700cabfb7e4dd615b53ed39bbfd569184c1d84f83c22cf9cf0f76132cc36e', randomness=27599046200187235084479121980158404485062853733500696119475339639020442829727, commitment='37333836363432303234323832313037333437393539313637343233353832393533383130363833373334303530363632393132303634393333373930313633343530353435343033373632392c3233323536313538343937393231323436363039323737353939363636333830393936333231323032363635363331363433303431383234303138373537353431373839353339343832363938', signature=b'86ba79e5c11e0c1c25e51bd208fc3f906b6c11d1d87e0c6ce07073329c45eb6a826d563ea6aa3b798d124c9d4b288eeb87fbcb896bbaa9ead48969949259b885', commitment_hash='22401124309269929695136204336705305315153615166743524792851801992055863296944')]"
      ]
     },
     "execution_count": 7,
     "metadata": {},
     "output_type": "execute_result"
    }
   ],
   "source": [
    "# Send a request to the Axon using the Dendrite, passing in a Synapse \n",
    "# instance with the data_hash field. \n",
    "responses = await d(\n",
    "    [axon],\n",
    "    synapse,\n",
    "    deserialize=False,\n",
    ")\n",
    "responses"
   ]
  },
  {
   "cell_type": "code",
   "execution_count": 8,
   "metadata": {},
   "outputs": [
    {
     "data": {
      "text/plain": [
       "{'name': 'Store',\n",
       " 'timeout': 12.0,\n",
       " 'total_size': 6218,\n",
       " 'header_size': 0,\n",
       " 'dendrite': {'status_code': 200,\n",
       "  'status_message': 'Success',\n",
       "  'process_time': 0.038819313049316406,\n",
       "  'ip': '127.0.0.1',\n",
       "  'port': 38208,\n",
       "  'version': 610,\n",
       "  'nonce': 10752285157787636,\n",
       "  'uuid': 'b025ef54-81ce-11ee-9fa3-3ceceff2faf8',\n",
       "  'hotkey': '5C86aJ2uQawR6P6veaJQXNK9HaWh6NMbUhTiLs65kq4ZW3NH',\n",
       "  'signature': '0xb0a95edfdc06950d7e5f525411c86f366d5a51be2951a127ad77537f04c0fc58d0f25e2a6ba2a73cb65638175ab1b9cde65dde38fa5660af26a4feec0ce35989'},\n",
       " 'axon': {'status_code': 200,\n",
       "  'status_message': 'Success',\n",
       "  'process_time': 0.009520769119262695,\n",
       "  'ip': '149.137.225.62',\n",
       "  'port': 8091,\n",
       "  'version': 610,\n",
       "  'nonce': 10752285176109371,\n",
       "  'uuid': '88afb13a-81ce-11ee-acda-3ceceff2faf8',\n",
       "  'hotkey': '5C86aJ2uQawR6P6veaJQXNK9HaWh6NMbUhTiLs65kq4ZW3NH',\n",
       "  'signature': '0x044f0962bc5096efe7db27186578faa483cc6b184e1f1ab8d4c0e2f957fcab12da91d37d44d47293e567dd1fab37edbadebd50ad9609b7ff6b673aedee5d7b88'},\n",
       " 'computed_body_hash': '',\n",
       " 'required_hash_fields': ['curve',\n",
       "  'g',\n",
       "  'h',\n",
       "  'seed',\n",
       "  'randomness',\n",
       "  'commitment',\n",
       "  'signature',\n",
       "  'commitment_hash'],\n",
       " 'encrypted_data': 'h8G8BkB1lbNv1AyV+1sNtSvZLD4P0ths1cE823pewHadQbn1xTkEAX+HglVs69NZ3Y27GcxgmwxMCSJDvDejuxtCiBCN0V5BqOX/QRIUu0fhXypyH5cCdkIW0gnp3MzkPg==',\n",
       " 'curve': 'P-256',\n",
       " 'g': '31383532323531343834343331393830333231353130303232343930373337363933303235343937373932383337353435363232383938323634313638323237353835343630363139333139312c3938383837333837393637343631333135303437353033323733393739333831363432343538363839373638353232323535323535383337333437383835323438333337333730393532323235',\n",
       " 'h': '35333635393534353036353831343036343432393539313536353831383437363831373737383531323033343035393135333835383939393532303837363030343432333637383133313735392c313130313739343933323630323432393633373230353635323632383938313638303331353835333832363538363439353432373634353436333237363731393430383630343832363730313038',\n",
       " 'seed': '370700cabfb7e4dd615b53ed39bbfd569184c1d84f83c22cf9cf0f76132cc36e',\n",
       " 'randomness': 27599046200187235084479121980158404485062853733500696119475339639020442829727,\n",
       " 'commitment': '37333836363432303234323832313037333437393539313637343233353832393533383130363833373334303530363632393132303634393333373930313633343530353435343033373632392c3233323536313538343937393231323436363039323737353939363636333830393936333231323032363635363331363433303431383234303138373537353431373839353339343832363938',\n",
       " 'signature': b'86ba79e5c11e0c1c25e51bd208fc3f906b6c11d1d87e0c6ce07073329c45eb6a826d563ea6aa3b798d124c9d4b288eeb87fbcb896bbaa9ead48969949259b885',\n",
       " 'commitment_hash': '22401124309269929695136204336705305315153615166743524792851801992055863296944'}"
      ]
     },
     "execution_count": 8,
     "metadata": {},
     "output_type": "execute_result"
    }
   ],
   "source": [
    "resp = responses[0]\n",
    "resp.dict()"
   ]
  },
  {
   "cell_type": "code",
   "execution_count": 24,
   "metadata": {},
   "outputs": [
    {
     "data": {
      "text/plain": [
       "{'size': 130,\n",
       " 'prev_seed': '370700cabfb7e4dd615b53ed39bbfd569184c1d84f83c22cf9cf0f76132cc36e',\n",
       " 'commitment_hash': '22401124309269929695136204336705305315153615166743524792851801992055863296944',\n",
       " 'encryption_payload': '{\"nonce\": \"1e490b5952f0ce3ad4ccebdbfab5b5ac868141b02ae5d578\", \"ciphertext\": \"7e440cd64f50aeeebbbd77adafd47ad65d0d48eff458095a0a599f3c2fa8f0311e3f3e36c07c8fff1ebb3b0b017f62bb4c8eee73d7e6ef323fb552bb3d266290cac88a6c6bd80cd04a390f45690cdef77e72e706c0234f3f751689bed5d528577e8c35dada40970471e2d67568988c2fe4635511446360038d544cd3808631be23dae2ba4420c51e9401a3743fb6ddddff79df8fd58b8264907bc75b60bfcf77f935a960e84324872a223c914d73185ca8b4af28635a2f\"}'}"
      ]
     },
     "execution_count": 24,
     "metadata": {},
     "output_type": "execute_result"
    }
   ],
   "source": [
    "# Store necessary data on the validator side\n",
    "response_storage = {\n",
    "    \"size\": sys.getsizeof(encrypted_data),\n",
    "    \"prev_seed\": synapse.seed,\n",
    "    \"commitment_hash\": resp.commitment_hash,  # contains the seed\n",
    "    # these will be private to the validator, not stored in decentralized GUN db\n",
    "    # just here now for testing purposes\n",
    "    \"encryption_payload\": encryption_payload\n",
    "}\n",
    "response_storage"
   ]
  },
  {
   "cell_type": "code",
   "execution_count": 25,
   "metadata": {},
   "outputs": [
    {
     "name": "stdout",
     "output_type": "stream",
     "text": [
      "validator storage key: 20192024516852024298847601818161253952637065606622713604040224283723139441518.5C86aJ2uQawR6P6veaJQXNK9HaWh6NMbUhTiLs65kq4ZW3NH\n"
     ]
    },
    {
     "data": {
      "text/plain": [
       "True"
      ]
     },
     "execution_count": 25,
     "metadata": {},
     "output_type": "execute_result"
    }
   ],
   "source": [
    "# Store in the database according to the data hash and the miner hotkey\n",
    "key = f\"{data_hash}.{resp.axon.hotkey}\"\n",
    "print(\"validator storage key:\", key)\n",
    "db.set(key, json.dumps(response_storage).encode())"
   ]
  },
  {
   "cell_type": "code",
   "execution_count": 27,
   "metadata": {},
   "outputs": [
    {
     "data": {
      "text/plain": [
       "True"
      ]
     },
     "execution_count": 27,
     "metadata": {},
     "output_type": "execute_result"
    }
   ],
   "source": [
    "storage.validator.verify.verify_store_with_seed(resp)"
   ]
  },
  {
   "cell_type": "code",
   "execution_count": 34,
   "metadata": {},
   "outputs": [
    {
     "data": {
      "text/plain": [
       "Challenge(required_hash_fields=['commitment_hash', 'commitment_proof', 'commitment', 'data_chunk', 'randomness', 'merkle_proof', 'merkle_root'], challenge_hash='20192024516852024298847601818161253952637065606622713604040224283723139441518', challenge_index=1, chunk_size=68, g='33303532383234323838343431333734343031393030343230343536303737373137303135373635333832393332343031303237383630363436353430303333363330353539323836313233352c3735383132373033323236313631353138373532323337353239303433393133393737353536373637363936323730353838373939353032333333333535363639313234343237303134313731', h='3131303431373239353633373131373731353935383530313638333233373930373638333735303732383938353731393836363537333037353937313335393036303333333639303033343030302c3939323537383035373232353239353537363133363334313532373030363831343534323131313431333235303731353639323539393835393632313136323936303132313731333833333437', curve='P-256', seed='b1ae53e3d3e1c5dd85a3911fc2adaacb72d630c40efc3739ae5b8790c4ba426a', commitment_hash=None, commitment_proof=None, commitment=None, data_chunk=None, randomness=None, merkle_proof=None, merkle_root=None)"
      ]
     },
     "execution_count": 34,
     "metadata": {},
     "output_type": "execute_result"
    }
   ],
   "source": [
    "# Setup a challenge to the miner with a new CRS and on data we just stored\n",
    "g, h = storage.shared.ecc.setup_CRS(curve=\"P-256\")\n",
    "challenge = storage.protocol.Challenge(\n",
    "    challenge_hash=data_hash,\n",
    "    g=storage.shared.ecc.ecc_point_to_hex(g),\n",
    "    h=storage.shared.ecc.ecc_point_to_hex(h),\n",
    "    curve=\"P-256\",\n",
    "    seed=os.urandom(32).hex(),\n",
    "    challenge_index=1,\n",
    "    chunk_size=storage.validator.utils.get_random_chunksize(sys.getsizeof(data)) // 4, # bytes\n",
    ")\n",
    "challenge"
   ]
  },
  {
   "cell_type": "code",
   "execution_count": 35,
   "metadata": {},
   "outputs": [
    {
     "name": "stdout",
     "output_type": "stream",
     "text": [
      "\u001b[34m2023-11-13 02:51:37.386\u001b[0m | \u001b[34m\u001b[1m     DEBUG      \u001b[0m | dendrite | --> | 5930 B | Challenge | 5C86aJ2uQawR6P6veaJQXNK9HaWh6NMbUhTiLs65kq4ZW3NH | 149.137.225.62:8091 | 0 | Success\n",
      "\u001b[34m2023-11-13 02:51:37.464\u001b[0m | \u001b[34m\u001b[1m     DEBUG      \u001b[0m | dendrite | <-- | 7763 B | Challenge | 5C86aJ2uQawR6P6veaJQXNK9HaWh6NMbUhTiLs65kq4ZW3NH | 149.137.225.62:8091 | 200 | Success\n"
     ]
    },
    {
     "data": {
      "text/plain": [
       "Challenge(required_hash_fields=['commitment_hash', 'commitment_proof', 'commitment', 'data_chunk', 'randomness', 'merkle_proof', 'merkle_root'], challenge_hash='20192024516852024298847601818161253952637065606622713604040224283723139441518', challenge_index=1, chunk_size=68, g='33303532383234323838343431333734343031393030343230343536303737373137303135373635333832393332343031303237383630363436353430303333363330353539323836313233352c3735383132373033323236313631353138373532323337353239303433393133393737353536373637363936323730353838373939353032333333333535363639313234343237303134313731', h='3131303431373239353633373131373731353935383530313638333233373930373638333735303732383938353731393836363537333037353937313335393036303333333639303033343030302c3939323537383035373232353239353537363133363334313532373030363831343534323131313431333235303731353639323539393835393632313136323936303132313731333833333437', curve='P-256', seed='b1ae53e3d3e1c5dd85a3911fc2adaacb72d630c40efc3739ae5b8790c4ba426a', commitment_hash='75273593446598194067036496217441880058454955123817556050252388001681835862340', commitment_proof='22309030708133598734334642287097366166119224286539833198981117811309643161221', commitment='35363439373132393234333930373439343839353934373839373336363039353136383830343239353836363238373536383633303930363933333737313433383734363430373138333539382c3930313531343535383434373533343235333931383630333638323634353731313132383932363636383937323938373130323839373036373032323334343732363138323531393132373633', data_chunk=b'jdFeQajl/0ESFLtH4V8qch+XAnZCFtIJ6dzM5D4=', randomness=67251755172577189866324805869548846862824177702811652901328943556927710387806, merkle_proof='W3sibGVmdCI6ICIzNTM0MzMzNTM4MzAzNjMwMzMzOTMwMzAzNjMzMzUzOTMzMzAzODM2MzkzODM3MzEzNjM0MzUzODM2MzUzNzMwMzczNTM1MzQzOTM3MzUzODM3MzAzOTM0MzYzODM3MzUzODMyMzUzNjM3MzkzMzM0MzgzMDMyMzczNDMwMzgzNTM0MzMzNzM2MzgzMjM5MzkzOTMzMzgzMTMzMmMzMTMwMzEzNzM1MzczMTMxMzgzNDM4MzYzODMwMzEzMTM2MzEzNjMyMzczMjM4MzQzNzM5MzEzMTM2MzgzODMyMzQzNTMyMzEzNTM1MzUzNjM0MzIzNDM4MzkzODMzMzkzNzM0MzUzMDMyMzIzODMwMzczODM1MzEzNTM1MzQzNTMyMzIzNTM0MzczNzM2MzQzMTM1MzUzNDM3MzMifV0=', merkle_root='83842b060257fdf04d1904e303cdc75b90260aa396b438021fb3321b7fb0b545')"
      ]
     },
     "execution_count": 35,
     "metadata": {},
     "output_type": "execute_result"
    }
   ],
   "source": [
    "# Send the challenge to the miner\n",
    "responses = d.query(\n",
    "    [metagraph.axons[13]],\n",
    "    challenge,\n",
    "    deserialize=False,\n",
    ")\n",
    "responses[0]"
   ]
  },
  {
   "cell_type": "code",
   "execution_count": 36,
   "metadata": {},
   "outputs": [
    {
     "data": {
      "text/plain": [
       "True"
      ]
     },
     "execution_count": 36,
     "metadata": {},
     "output_type": "execute_result"
    }
   ],
   "source": [
    "# Verify the challenge\n",
    "storage.validator.verify.verify_challenge_with_seed(responses[0])"
   ]
  },
  {
   "cell_type": "code",
   "execution_count": 39,
   "metadata": {},
   "outputs": [
    {
     "data": {
      "text/plain": [
       "Retrieve(required_hash_fields=['data', 'data_hash', 'seed', 'commtiment_proof', 'commitment_hash'], data_hash='20192024516852024298847601818161253952637065606622713604040224283723139441518', seed='cc505af5cf93d94bd26eeb508b5e486fefba4f4552d0cb77e6620e038b823a49', data=None, commitment_hash=None, commitment_proof=None)"
      ]
     },
     "execution_count": 39,
     "metadata": {},
     "output_type": "execute_result"
    }
   ],
   "source": [
    "# Now retrieve the data we stored and successfully challenged\n",
    "syn = storage.protocol.Retrieve(\n",
    "    data_hash=data_hash,\n",
    "    seed=os.urandom(32).hex(),\n",
    ")\n",
    "syn"
   ]
  },
  {
   "cell_type": "code",
   "execution_count": 40,
   "metadata": {},
   "outputs": [
    {
     "name": "stdout",
     "output_type": "stream",
     "text": [
      "\u001b[34m2023-11-13 02:53:58.457\u001b[0m | \u001b[34m\u001b[1m     DEBUG      \u001b[0m | dendrite | --> | 4101 B | Retrieve | 5C86aJ2uQawR6P6veaJQXNK9HaWh6NMbUhTiLs65kq4ZW3NH | 149.137.225.62:8091 | 0 | Success\n",
      "\u001b[34m2023-11-13 02:53:58.502\u001b[0m | \u001b[34m\u001b[1m     DEBUG      \u001b[0m | dendrite | <-- | 5025 B | Retrieve | 5C86aJ2uQawR6P6veaJQXNK9HaWh6NMbUhTiLs65kq4ZW3NH | 149.137.225.62:8091 | 200 | Success\n"
     ]
    },
    {
     "data": {
      "text/plain": [
       "[Retrieve(required_hash_fields=['data', 'data_hash', 'seed', 'commtiment_proof', 'commitment_hash'], data_hash='20192024516852024298847601818161253952637065606622713604040224283723139441518', seed='cc505af5cf93d94bd26eeb508b5e486fefba4f4552d0cb77e6620e038b823a49', data='h8G8BkB1lbNv1AyV+1sNtSvZLD4P0ths1cE823pewHadQbn1xTkEAX+HglVs69NZ3Y27GcxgmwxMCSJDvDejuxtCiBCN0V5BqOX/QRIUu0fhXypyH5cCdkIW0gnp3MzkPg==', commitment_hash='13456453580021765705508015074074487849084226271130232772016458377822729844935', commitment_proof='13623431165461458479630801995263404700046767654466537693643932201000109609059')]"
      ]
     },
     "execution_count": 40,
     "metadata": {},
     "output_type": "execute_result"
    }
   ],
   "source": [
    "# Send a request to the Axon using the Dendrite, passing in a Synapse \n",
    "# instance with the data_hash field. \n",
    "responses = await d(\n",
    "    [axon],\n",
    "    syn,\n",
    "    deserialize=False,\n",
    ")\n",
    "responses "
   ]
  },
  {
   "cell_type": "code",
   "execution_count": 41,
   "metadata": {},
   "outputs": [
    {
     "data": {
      "text/plain": [
       "'h8G8BkB1lbNv1AyV+1sNtSvZLD4P0ths1cE823pewHadQbn1xTkEAX+HglVs69NZ3Y27GcxgmwxMCSJDvDejuxtCiBCN0V5BqOX/QRIUu0fhXypyH5cCdkIW0gnp3MzkPg=='"
      ]
     },
     "execution_count": 41,
     "metadata": {},
     "output_type": "execute_result"
    }
   ],
   "source": [
    "# extract the base64 encoded string of the data\n",
    "resp = responses[0]\n",
    "resp.data"
   ]
  },
  {
   "cell_type": "code",
   "execution_count": 42,
   "metadata": {},
   "outputs": [
    {
     "data": {
      "text/plain": [
       "b'\\x87\\xc1\\xbc\\x06@u\\x95\\xb3o\\xd4\\x0c\\x95\\xfb[\\r\\xb5+\\xd9,>\\x0f\\xd2\\xd8l\\xd5\\xc1<\\xdbz^\\xc0v\\x9dA\\xb9\\xf5\\xc59\\x04\\x01\\x7f\\x87\\x82Ul\\xeb\\xd3Y\\xdd\\x8d\\xbb\\x19\\xcc`\\x9b\\x0cL\\t\"C\\xbc7\\xa3\\xbb\\x1bB\\x88\\x10\\x8d\\xd1^A\\xa8\\xe5\\xffA\\x12\\x14\\xbbG\\xe1_*r\\x1f\\x97\\x02vB\\x16\\xd2\\t\\xe9\\xdc\\xcc\\xe4>'"
      ]
     },
     "execution_count": 42,
     "metadata": {},
     "output_type": "execute_result"
    }
   ],
   "source": [
    "# decode from base64 to bytes\n",
    "decoded_data = base64.b64decode(resp.data)\n",
    "decoded_data"
   ]
  },
  {
   "cell_type": "code",
   "execution_count": 44,
   "metadata": {},
   "outputs": [
    {
     "data": {
      "text/plain": [
       "b'this is a random bytestring, long enough to be chunked into segments and reconstructed at the end'"
      ]
     },
     "execution_count": 44,
     "metadata": {},
     "output_type": "execute_result"
    }
   ],
   "source": [
    "# decrypt back to the original file content bytes\n",
    "storage.validator.encryption.decrypt_data(\n",
    "    decoded_data,\n",
    "    response_storage['encryption_payload'],\n",
    "    wallet=wallet,\n",
    ")"
   ]
  }
 ],
 "metadata": {
  "kernelspec": {
   "display_name": "store",
   "language": "python",
   "name": "python3"
  },
  "language_info": {
   "codemirror_mode": {
    "name": "ipython",
    "version": 3
   },
   "file_extension": ".py",
   "mimetype": "text/x-python",
   "name": "python",
   "nbconvert_exporter": "python",
   "pygments_lexer": "ipython3",
   "version": "3.10.13"
  }
 },
 "nbformat": 4,
 "nbformat_minor": 2
}
