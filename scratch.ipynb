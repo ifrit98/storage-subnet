{
 "cells": [
  {
   "cell_type": "code",
   "execution_count": 1,
   "metadata": {},
   "outputs": [],
   "source": [
    "import bittensor as bt\n",
    "import storage\n",
    "from storage.validator.database import *\n",
    "from storage.validator.bonding import *\n",
    "from storage.shared.utils import get_redis_password\n",
    "pw = get_redis_password()\n"
   ]
  },
  {
   "cell_type": "code",
   "execution_count": 2,
   "metadata": {},
   "outputs": [
    {
     "data": {
      "text/plain": [
       "[b'stats:5CVSjN2fMU7mP4B7oAG1V6LsNqyQNLLhDWsot1xiPAPVVHj1',\n",
       " b'hotkey:5EZCtyfQrDUQqRKYDdq1eaKSB9Ugkr3GxMb8XadewMRMxdev',\n",
       " b'stats:5Gpjcz44ViQJzjA14xAgMSZwTLeULeJdXhjKMV6JM3XrGkUw',\n",
       " b'hotkey:5E4yZGgFSYvMn9gG9U6ciHZgXdPcRxmbX27mbTsz7yRspKiy',\n",
       " b'hotkey:5C82pPChStvLQhLVWxbQSQ52diLvYXxezqP9jhFWSRkHSFon',\n",
       " b'stats:5CaFuijc2ucdoWhkjLaYgnzYrpv62KGt1fWWtUxhFHXPA3KK',\n",
       " b'stats:5E4yZGgFSYvMn9gG9U6ciHZgXdPcRxmbX27mbTsz7yRspKiy',\n",
       " b'stats:5EuzvsFVopm2fQ8SLsPsvQdqe4CatZbvrYscxXbrPZsNYmPX',\n",
       " b'stats:5FxGggBG4sc62S4fkDHgsTiPj4fJtpbbed84Yfm1wWtNNZHC',\n",
       " b'hotkey:5CaFuijc2ucdoWhkjLaYgnzYrpv62KGt1fWWtUxhFHXPA3KK',\n",
       " b'hotkey:5CVSjN2fMU7mP4B7oAG1V6LsNqyQNLLhDWsot1xiPAPVVHj1',\n",
       " b'hotkey:5FbHff5f2gUqu4r3Kfcm352VAognfCJv2owqCthiyCw8yTi2',\n",
       " b'hotkey:5C86aJ2uQawR6P6veaJQXNK9HaWh6NMbUhTiLs65kq4ZW3NH',\n",
       " b'stats:5CDTTsvLNyrKX9W9DF2CsvR7jpXaue8SUSntPcem1Psq9eb9',\n",
       " b'hotkey:5H3Hc7G9LprdVod3UMHDhzKmTH2dEW2tcooaBMm8K43Bwjiz',\n",
       " b'stats:5DwMX98sJAaAdb6Hr18H69kr4Py1EQXUHcqDoKnLfZqM617N',\n",
       " b'hotkey:5EuzvsFVopm2fQ8SLsPsvQdqe4CatZbvrYscxXbrPZsNYmPX',\n",
       " b'stats:5C86aJ2uQawR6P6veaJQXNK9HaWh6NMbUhTiLs65kq4ZW3NH',\n",
       " b'stats:5Do7YsNrKEpejfTMsmaCxh9FPHrxgBi4jYh9VcbeifobjNAe',\n",
       " b'stats:5EJ2bC6t77aGaYcQzBkMsFKKiYSNedNq6ugEJPiW7RvtQsw7',\n",
       " b'hotkey:5GjBkhRhq5V7yiqdPDFe3k8rj3CsrfW7r6u7S6FKeYJ8627i',\n",
       " b'stats:5C82pPChStvLQhLVWxbQSQ52diLvYXxezqP9jhFWSRkHSFon',\n",
       " b'stats:5GjBkhRhq5V7yiqdPDFe3k8rj3CsrfW7r6u7S6FKeYJ8627i',\n",
       " b'stats:5FbHff5f2gUqu4r3Kfcm352VAognfCJv2owqCthiyCw8yTi2',\n",
       " b'stats:5EZCtyfQrDUQqRKYDdq1eaKSB9Ugkr3GxMb8XadewMRMxdev',\n",
       " b'stats:5FKwbwguHU1SVQiGot5YKSTQ6fWGVv2wRHFrWfwp9X9nWbyU',\n",
       " b'stats:5HKdvBeq2ZMVHvp8cArMbooHZoxf1Pa2vrKfUYm9HjfZcTnq',\n",
       " b'stats:5HapVLypxEsZWvfwd12jUXdp9W1pXAoSbQVzirC6AUDNYBii',\n",
       " b'stats:5H3Hc7G9LprdVod3UMHDhzKmTH2dEW2tcooaBMm8K43Bwjiz',\n",
       " b'stats:5H1CaMTf6XvzSYLcLe4AhnXwttQ4z3ry6fy9XzS9wrxV5vFA',\n",
       " b'hotkey:5FKwbwguHU1SVQiGot5YKSTQ6fWGVv2wRHFrWfwp9X9nWbyU']"
      ]
     },
     "execution_count": 2,
     "metadata": {},
     "output_type": "execute_result"
    }
   ],
   "source": [
    "import redis.asyncio as redis\n",
    "database= r = redis.StrictRedis(db=3, password=pw)\n",
    "await r.keys()"
   ]
  },
  {
   "cell_type": "code",
   "execution_count": 3,
   "metadata": {},
   "outputs": [
    {
     "data": {
      "text/plain": [
       "21990232555520"
      ]
     },
     "execution_count": 3,
     "metadata": {},
     "output_type": "execute_result"
    }
   ],
   "source": [
    "ncap = await get_network_capacity(r)\n",
    "ncap"
   ]
  },
  {
   "cell_type": "code",
   "execution_count": 4,
   "metadata": {},
   "outputs": [
    {
     "data": {
      "text/plain": [
       "0.17199134826660156"
      ]
     },
     "execution_count": 4,
     "metadata": {},
     "output_type": "execute_result"
    }
   ],
   "source": [
    "size_bytes = await get_redis_db_size(r)\n",
    "size_bytes / (1024 * 1024) # MB"
   ]
  },
  {
   "cell_type": "code",
   "execution_count": 5,
   "metadata": {},
   "outputs": [
    {
     "data": {
      "text/plain": [
       "80"
      ]
     },
     "execution_count": 5,
     "metadata": {},
     "output_type": "execute_result"
    }
   ],
   "source": [
    "all_hashes = await get_all_hashes_in_database(r)\n",
    "len(all_hashes)"
   ]
  },
  {
   "cell_type": "code",
   "execution_count": 6,
   "metadata": {},
   "outputs": [
    {
     "data": {
      "text/plain": [
       "80"
      ]
     },
     "execution_count": 6,
     "metadata": {},
     "output_type": "execute_result"
    }
   ],
   "source": [
    "challenge_hashes = await get_all_challenge_hashes(r)\n",
    "len(challenge_hashes)"
   ]
  },
  {
   "cell_type": "code",
   "execution_count": 7,
   "metadata": {},
   "outputs": [
    {
     "data": {
      "text/plain": [
       "20"
      ]
     },
     "execution_count": 7,
     "metadata": {},
     "output_type": "execute_result"
    }
   ],
   "source": [
    "stats = await get_miner_statistics(r)\n",
    "len(stats)"
   ]
  },
  {
   "cell_type": "code",
   "execution_count": 8,
   "metadata": {},
   "outputs": [
    {
     "data": {
      "text/plain": [
       "{'5EuzvsFVopm2fQ8SLsPsvQdqe4CatZbvrYscxXbrPZsNYmPX': {'store_attempts': '263',\n",
       "  'store_successes': '260',\n",
       "  'challenge_successes': '248',\n",
       "  'challenge_attempts': '351',\n",
       "  'retrieve_successes': '53',\n",
       "  'retrieve_attempts': '77',\n",
       "  'total_successes': '841',\n",
       "  'tier': 'Bronze',\n",
       "  'storage_limit': '1099511627776'},\n",
       " '5HapVLypxEsZWvfwd12jUXdp9W1pXAoSbQVzirC6AUDNYBii': {'store_attempts': '0',\n",
       "  'store_successes': '0',\n",
       "  'challenge_successes': '0',\n",
       "  'challenge_attempts': '0',\n",
       "  'retrieve_successes': '0',\n",
       "  'retrieve_attempts': '0',\n",
       "  'total_successes': '0',\n",
       "  'tier': 'Bronze',\n",
       "  'storage_limit': '1099511627776'},\n",
       " '5H3Hc7G9LprdVod3UMHDhzKmTH2dEW2tcooaBMm8K43Bwjiz': {'store_attempts': '273',\n",
       "  'store_successes': '271',\n",
       "  'challenge_successes': '267',\n",
       "  'challenge_attempts': '370',\n",
       "  'retrieve_successes': '54',\n",
       "  'retrieve_attempts': '74',\n",
       "  'total_successes': '893',\n",
       "  'tier': 'Bronze',\n",
       "  'storage_limit': '1099511627776'},\n",
       " '5FbHff5f2gUqu4r3Kfcm352VAognfCJv2owqCthiyCw8yTi2': {'store_attempts': '277',\n",
       "  'store_successes': '274',\n",
       "  'challenge_successes': '267',\n",
       "  'challenge_attempts': '364',\n",
       "  'retrieve_successes': '57',\n",
       "  'retrieve_attempts': '78',\n",
       "  'total_successes': '894',\n",
       "  'tier': 'Bronze',\n",
       "  'storage_limit': '1099511627776'},\n",
       " '5CDTTsvLNyrKX9W9DF2CsvR7jpXaue8SUSntPcem1Psq9eb9': {'store_attempts': '0',\n",
       "  'store_successes': '0',\n",
       "  'challenge_successes': '0',\n",
       "  'challenge_attempts': '0',\n",
       "  'retrieve_successes': '0',\n",
       "  'retrieve_attempts': '0',\n",
       "  'total_successes': '0',\n",
       "  'tier': 'Bronze',\n",
       "  'storage_limit': '1099511627776'},\n",
       " '5H1CaMTf6XvzSYLcLe4AhnXwttQ4z3ry6fy9XzS9wrxV5vFA': {'store_attempts': '51',\n",
       "  'store_successes': '47',\n",
       "  'challenge_successes': '37',\n",
       "  'challenge_attempts': '67',\n",
       "  'retrieve_successes': '9',\n",
       "  'retrieve_attempts': '9',\n",
       "  'total_successes': '251',\n",
       "  'tier': 'Bronze',\n",
       "  'storage_limit': '1099511627776'},\n",
       " '5HKdvBeq2ZMVHvp8cArMbooHZoxf1Pa2vrKfUYm9HjfZcTnq': {'store_attempts': '0',\n",
       "  'store_successes': '0',\n",
       "  'challenge_successes': '0',\n",
       "  'challenge_attempts': '0',\n",
       "  'retrieve_successes': '0',\n",
       "  'retrieve_attempts': '0',\n",
       "  'total_successes': '0',\n",
       "  'tier': 'Bronze',\n",
       "  'storage_limit': '1099511627776'},\n",
       " '5Do7YsNrKEpejfTMsmaCxh9FPHrxgBi4jYh9VcbeifobjNAe': {'store_attempts': '0',\n",
       "  'store_successes': '0',\n",
       "  'challenge_successes': '0',\n",
       "  'challenge_attempts': '0',\n",
       "  'retrieve_successes': '0',\n",
       "  'retrieve_attempts': '0',\n",
       "  'total_successes': '0',\n",
       "  'tier': 'Bronze',\n",
       "  'storage_limit': '1099511627776'},\n",
       " '5E4yZGgFSYvMn9gG9U6ciHZgXdPcRxmbX27mbTsz7yRspKiy': {'store_attempts': '274',\n",
       "  'store_successes': '272',\n",
       "  'challenge_successes': '260',\n",
       "  'challenge_attempts': '366',\n",
       "  'retrieve_successes': '53',\n",
       "  'retrieve_attempts': '80',\n",
       "  'total_successes': '873',\n",
       "  'tier': 'Bronze',\n",
       "  'storage_limit': '1099511627776'},\n",
       " '5FKwbwguHU1SVQiGot5YKSTQ6fWGVv2wRHFrWfwp9X9nWbyU': {'store_attempts': '81',\n",
       "  'store_successes': '81',\n",
       "  'challenge_successes': '49',\n",
       "  'challenge_attempts': '49',\n",
       "  'retrieve_successes': '9',\n",
       "  'retrieve_attempts': '9',\n",
       "  'total_successes': '139',\n",
       "  'tier': 'Bronze',\n",
       "  'storage_limit': '1099511627776'},\n",
       " '5C82pPChStvLQhLVWxbQSQ52diLvYXxezqP9jhFWSRkHSFon': {'store_attempts': '271',\n",
       "  'store_successes': '269',\n",
       "  'challenge_successes': '269',\n",
       "  'challenge_attempts': '356',\n",
       "  'retrieve_successes': '45',\n",
       "  'retrieve_attempts': '63',\n",
       "  'total_successes': '868',\n",
       "  'tier': 'Bronze',\n",
       "  'storage_limit': '1099511627776'},\n",
       " '5CVSjN2fMU7mP4B7oAG1V6LsNqyQNLLhDWsot1xiPAPVVHj1': {'store_attempts': '270',\n",
       "  'store_successes': '267',\n",
       "  'challenge_successes': '254',\n",
       "  'challenge_attempts': '336',\n",
       "  'retrieve_successes': '51',\n",
       "  'retrieve_attempts': '69',\n",
       "  'total_successes': '866',\n",
       "  'tier': 'Bronze',\n",
       "  'storage_limit': '1099511627776'},\n",
       " '5EZCtyfQrDUQqRKYDdq1eaKSB9Ugkr3GxMb8XadewMRMxdev': {'store_attempts': '273',\n",
       "  'store_successes': '272',\n",
       "  'challenge_successes': '243',\n",
       "  'challenge_attempts': '344',\n",
       "  'retrieve_successes': '55',\n",
       "  'retrieve_attempts': '68',\n",
       "  'total_successes': '870',\n",
       "  'tier': 'Bronze',\n",
       "  'storage_limit': '1099511627776'},\n",
       " '5FxGggBG4sc62S4fkDHgsTiPj4fJtpbbed84Yfm1wWtNNZHC': {'store_attempts': '0',\n",
       "  'store_successes': '0',\n",
       "  'challenge_successes': '0',\n",
       "  'challenge_attempts': '0',\n",
       "  'retrieve_successes': '0',\n",
       "  'retrieve_attempts': '0',\n",
       "  'total_successes': '0',\n",
       "  'tier': 'Bronze',\n",
       "  'storage_limit': '1099511627776'},\n",
       " '5DwMX98sJAaAdb6Hr18H69kr4Py1EQXUHcqDoKnLfZqM617N': {'store_attempts': '0',\n",
       "  'store_successes': '0',\n",
       "  'challenge_successes': '0',\n",
       "  'challenge_attempts': '0',\n",
       "  'retrieve_successes': '0',\n",
       "  'retrieve_attempts': '0',\n",
       "  'total_successes': '0',\n",
       "  'tier': 'Bronze',\n",
       "  'storage_limit': '1099511627776'},\n",
       " '5EJ2bC6t77aGaYcQzBkMsFKKiYSNedNq6ugEJPiW7RvtQsw7': {'store_attempts': '0',\n",
       "  'store_successes': '0',\n",
       "  'challenge_successes': '0',\n",
       "  'challenge_attempts': '0',\n",
       "  'retrieve_successes': '0',\n",
       "  'retrieve_attempts': '0',\n",
       "  'total_successes': '0',\n",
       "  'tier': 'Bronze',\n",
       "  'storage_limit': '1099511627776'},\n",
       " '5Gpjcz44ViQJzjA14xAgMSZwTLeULeJdXhjKMV6JM3XrGkUw': {'store_attempts': '0',\n",
       "  'store_successes': '0',\n",
       "  'challenge_successes': '0',\n",
       "  'challenge_attempts': '0',\n",
       "  'retrieve_successes': '0',\n",
       "  'retrieve_attempts': '0',\n",
       "  'total_successes': '42',\n",
       "  'tier': 'Bronze',\n",
       "  'storage_limit': '1099511627776'},\n",
       " '5C86aJ2uQawR6P6veaJQXNK9HaWh6NMbUhTiLs65kq4ZW3NH': {'store_attempts': '262',\n",
       "  'store_successes': '259',\n",
       "  'challenge_successes': '257',\n",
       "  'challenge_attempts': '377',\n",
       "  'retrieve_successes': '54',\n",
       "  'retrieve_attempts': '81',\n",
       "  'total_successes': '851',\n",
       "  'tier': 'Bronze',\n",
       "  'storage_limit': '1099511627776'},\n",
       " '5CaFuijc2ucdoWhkjLaYgnzYrpv62KGt1fWWtUxhFHXPA3KK': {'store_attempts': '262',\n",
       "  'store_successes': '260',\n",
       "  'challenge_successes': '270',\n",
       "  'challenge_attempts': '371',\n",
       "  'retrieve_successes': '57',\n",
       "  'retrieve_attempts': '77',\n",
       "  'total_successes': '855',\n",
       "  'tier': 'Bronze',\n",
       "  'storage_limit': '1099511627776'},\n",
       " '5GjBkhRhq5V7yiqdPDFe3k8rj3CsrfW7r6u7S6FKeYJ8627i': {'store_attempts': '265',\n",
       "  'store_successes': '262',\n",
       "  'challenge_successes': '242',\n",
       "  'challenge_attempts': '341',\n",
       "  'retrieve_successes': '57',\n",
       "  'retrieve_attempts': '73',\n",
       "  'total_successes': '854',\n",
       "  'tier': 'Bronze',\n",
       "  'storage_limit': '1099511627776'}}"
      ]
     },
     "execution_count": 8,
     "metadata": {},
     "output_type": "execute_result"
    }
   ],
   "source": [
    "stats"
   ]
  },
  {
   "cell_type": "code",
   "execution_count": 9,
   "metadata": {},
   "outputs": [
    {
     "name": "stdout",
     "output_type": "stream",
     "text": [
      "{'store_attempts': '263', 'store_successes': '260', 'challenge_successes': '248', 'challenge_attempts': '351', 'retrieve_successes': '53', 'retrieve_attempts': '77', 'total_successes': '841', 'tier': 'Bronze', 'storage_limit': '1099511627776'}\n",
      "{'store_attempts': '0', 'store_successes': '0', 'challenge_successes': '0', 'challenge_attempts': '0', 'retrieve_successes': '0', 'retrieve_attempts': '0', 'total_successes': '0', 'tier': 'Bronze', 'storage_limit': '1099511627776'}\n",
      "{'store_attempts': '273', 'store_successes': '271', 'challenge_successes': '267', 'challenge_attempts': '370', 'retrieve_successes': '54', 'retrieve_attempts': '74', 'total_successes': '893', 'tier': 'Bronze', 'storage_limit': '1099511627776'}\n",
      "{'store_attempts': '277', 'store_successes': '274', 'challenge_successes': '267', 'challenge_attempts': '364', 'retrieve_successes': '57', 'retrieve_attempts': '78', 'total_successes': '894', 'tier': 'Bronze', 'storage_limit': '1099511627776'}\n",
      "{'store_attempts': '0', 'store_successes': '0', 'challenge_successes': '0', 'challenge_attempts': '0', 'retrieve_successes': '0', 'retrieve_attempts': '0', 'total_successes': '0', 'tier': 'Bronze', 'storage_limit': '1099511627776'}\n",
      "{'store_attempts': '51', 'store_successes': '47', 'challenge_successes': '37', 'challenge_attempts': '67', 'retrieve_successes': '9', 'retrieve_attempts': '9', 'total_successes': '251', 'tier': 'Bronze', 'storage_limit': '1099511627776'}\n",
      "{'store_attempts': '0', 'store_successes': '0', 'challenge_successes': '0', 'challenge_attempts': '0', 'retrieve_successes': '0', 'retrieve_attempts': '0', 'total_successes': '0', 'tier': 'Bronze', 'storage_limit': '1099511627776'}\n",
      "{'store_attempts': '0', 'store_successes': '0', 'challenge_successes': '0', 'challenge_attempts': '0', 'retrieve_successes': '0', 'retrieve_attempts': '0', 'total_successes': '0', 'tier': 'Bronze', 'storage_limit': '1099511627776'}\n",
      "{'store_attempts': '274', 'store_successes': '272', 'challenge_successes': '260', 'challenge_attempts': '366', 'retrieve_successes': '53', 'retrieve_attempts': '80', 'total_successes': '873', 'tier': 'Bronze', 'storage_limit': '1099511627776'}\n",
      "{'store_attempts': '81', 'store_successes': '81', 'challenge_successes': '49', 'challenge_attempts': '49', 'retrieve_successes': '9', 'retrieve_attempts': '9', 'total_successes': '139', 'tier': 'Bronze', 'storage_limit': '1099511627776'}\n",
      "{'store_attempts': '271', 'store_successes': '269', 'challenge_successes': '269', 'challenge_attempts': '356', 'retrieve_successes': '45', 'retrieve_attempts': '63', 'total_successes': '868', 'tier': 'Bronze', 'storage_limit': '1099511627776'}\n",
      "{'store_attempts': '270', 'store_successes': '267', 'challenge_successes': '254', 'challenge_attempts': '336', 'retrieve_successes': '51', 'retrieve_attempts': '69', 'total_successes': '866', 'tier': 'Bronze', 'storage_limit': '1099511627776'}\n",
      "{'store_attempts': '273', 'store_successes': '272', 'challenge_successes': '243', 'challenge_attempts': '344', 'retrieve_successes': '55', 'retrieve_attempts': '68', 'total_successes': '870', 'tier': 'Bronze', 'storage_limit': '1099511627776'}\n",
      "{'store_attempts': '0', 'store_successes': '0', 'challenge_successes': '0', 'challenge_attempts': '0', 'retrieve_successes': '0', 'retrieve_attempts': '0', 'total_successes': '0', 'tier': 'Bronze', 'storage_limit': '1099511627776'}\n",
      "{'store_attempts': '0', 'store_successes': '0', 'challenge_successes': '0', 'challenge_attempts': '0', 'retrieve_successes': '0', 'retrieve_attempts': '0', 'total_successes': '0', 'tier': 'Bronze', 'storage_limit': '1099511627776'}\n",
      "{'store_attempts': '0', 'store_successes': '0', 'challenge_successes': '0', 'challenge_attempts': '0', 'retrieve_successes': '0', 'retrieve_attempts': '0', 'total_successes': '0', 'tier': 'Bronze', 'storage_limit': '1099511627776'}\n",
      "{'store_attempts': '0', 'store_successes': '0', 'challenge_successes': '0', 'challenge_attempts': '0', 'retrieve_successes': '0', 'retrieve_attempts': '0', 'total_successes': '42', 'tier': 'Bronze', 'storage_limit': '1099511627776'}\n",
      "{'store_attempts': '262', 'store_successes': '259', 'challenge_successes': '257', 'challenge_attempts': '377', 'retrieve_successes': '54', 'retrieve_attempts': '81', 'total_successes': '851', 'tier': 'Bronze', 'storage_limit': '1099511627776'}\n",
      "{'store_attempts': '262', 'store_successes': '260', 'challenge_successes': '270', 'challenge_attempts': '371', 'retrieve_successes': '57', 'retrieve_attempts': '77', 'total_successes': '855', 'tier': 'Bronze', 'storage_limit': '1099511627776'}\n",
      "{'store_attempts': '265', 'store_successes': '262', 'challenge_successes': '242', 'challenge_attempts': '341', 'retrieve_successes': '57', 'retrieve_attempts': '73', 'total_successes': '854', 'tier': 'Bronze', 'storage_limit': '1099511627776'}\n"
     ]
    }
   ],
   "source": [
    "for k,v in stats.items():\n",
    "    print(v)"
   ]
  },
  {
   "cell_type": "code",
   "execution_count": 3,
   "metadata": {},
   "outputs": [
    {
     "data": {
      "text/plain": [
       "['5FbHff5f2gUqu4r3Kfcm352VAognfCJv2owqCthiyCw8yTi2',\n",
       " '5CaFuijc2ucdoWhkjLaYgnzYrpv62KGt1fWWtUxhFHXPA3KK',\n",
       " '5H3Hc7G9LprdVod3UMHDhzKmTH2dEW2tcooaBMm8K43Bwjiz',\n",
       " '5C82pPChStvLQhLVWxbQSQ52diLvYXxezqP9jhFWSRkHSFon',\n",
       " '5FKwbwguHU1SVQiGot5YKSTQ6fWGVv2wRHFrWfwp9X9nWbyU',\n",
       " '5EZCtyfQrDUQqRKYDdq1eaKSB9Ugkr3GxMb8XadewMRMxdev',\n",
       " '5EuzvsFVopm2fQ8SLsPsvQdqe4CatZbvrYscxXbrPZsNYmPX',\n",
       " '5C86aJ2uQawR6P6veaJQXNK9HaWh6NMbUhTiLs65kq4ZW3NH',\n",
       " '5E4yZGgFSYvMn9gG9U6ciHZgXdPcRxmbX27mbTsz7yRspKiy',\n",
       " '5GjBkhRhq5V7yiqdPDFe3k8rj3CsrfW7r6u7S6FKeYJ8627i',\n",
       " '5CVSjN2fMU7mP4B7oAG1V6LsNqyQNLLhDWsot1xiPAPVVHj1']"
      ]
     },
     "execution_count": 3,
     "metadata": {},
     "output_type": "execute_result"
    }
   ],
   "source": [
    "hotkeys = await active_hotkeys(r)\n",
    "hotkeys"
   ]
  },
  {
   "cell_type": "code",
   "execution_count": 11,
   "metadata": {},
   "outputs": [
    {
     "data": {
      "text/plain": [
       "[b'23399097068315179173129570487705732962442776409318522559127722344604212428089',\n",
       " b'20426272407592839195260722477134653049818329866495462607970737373933123255095',\n",
       " b'81235527693771513373128871952165240947278114836703145443618693143710405106587',\n",
       " b'37126771235288712682231329162643698920095035479717736651200971174687002118205',\n",
       " b'97493562267162288680348909099867999961125813605820619357984846205199199003684',\n",
       " b'75874901349343040792600229074241222437491736987158447636417385222671857688474',\n",
       " b'85472305096896749909146739422967990519857681725588843558554284082640193280693',\n",
       " b'12626655446789626172894057401400463234512562893863086047784487342626898098597',\n",
       " b'80530548033198852758965270080798200758823723188705669273144334890526368033785',\n",
       " b'14123462951905305641953457106303884571834308903902186516228235969476297033082',\n",
       " b'86285302215778499394032385558738691895839335723531343775592542779784665578212',\n",
       " b'114123709737449883136759727248779931358342524046270912717434002245282173598329',\n",
       " b'47504819309768782719176096537419216188238368034184017526597546390242866306128',\n",
       " b'36938090278907786747819939514456987010550251616113560688719077881092704690030',\n",
       " b'47162947595071244512574385198979447949295195300043537878725764976170176351775',\n",
       " b'83135324807469001489428953979136548672615475172384784904407405825730568636611',\n",
       " b'113989129459546830472385852700232527823990467347366022630096391875994953482577',\n",
       " b'88264461545974326326073818945760740481523780869798033606499918091125008060347',\n",
       " b'99553993400102709677853806779601990247789625332520031689977921199875869308014',\n",
       " b'19612663439936030958765358277814137631280401024191918203986017102951553673438',\n",
       " b'87429159864954142222039810568620326237586173404365923663967030951199431662301',\n",
       " b'114060997137869104872822355646892526379921846600632525310189640519929124438897',\n",
       " b'8382494554154425876858900778576072965650345814701315086094671167906822772049',\n",
       " b'71545872160293589275255362247200965970785435015756228261904478131204423270863',\n",
       " b'112431750261949135939192381795582821899359675664920527968651489972255630560378',\n",
       " b'73547324156465932456911128276535675072379723749634490735050847392359522295122',\n",
       " b'91055576891133306736918589065930416989541540716202288518994623553524717372747']"
      ]
     },
     "execution_count": 11,
     "metadata": {},
     "output_type": "execute_result"
    }
   ],
   "source": [
    "hks = await get_hash_keys(hotkeys[0], r)\n",
    "hks"
   ]
  },
  {
   "cell_type": "code",
   "execution_count": 4,
   "metadata": {},
   "outputs": [
    {
     "data": {
      "text/plain": [
       "{'5FbHff5f2gUqu4r3Kfcm352VAognfCJv2owqCthiyCw8yTi2': (335727813,\n",
       "  1099511627776),\n",
       " '5CaFuijc2ucdoWhkjLaYgnzYrpv62KGt1fWWtUxhFHXPA3KK': (324070741,\n",
       "  1099511627776),\n",
       " '5H3Hc7G9LprdVod3UMHDhzKmTH2dEW2tcooaBMm8K43Bwjiz': (234376357,\n",
       "  1099511627776),\n",
       " '5C82pPChStvLQhLVWxbQSQ52diLvYXxezqP9jhFWSRkHSFon': (379216706,\n",
       "  1099511627776),\n",
       " '5FKwbwguHU1SVQiGot5YKSTQ6fWGVv2wRHFrWfwp9X9nWbyU': (246089411,\n",
       "  1099511627776),\n",
       " '5EZCtyfQrDUQqRKYDdq1eaKSB9Ugkr3GxMb8XadewMRMxdev': (303230591,\n",
       "  1099511627776),\n",
       " '5EuzvsFVopm2fQ8SLsPsvQdqe4CatZbvrYscxXbrPZsNYmPX': (233238745,\n",
       "  1099511627776),\n",
       " '5C86aJ2uQawR6P6veaJQXNK9HaWh6NMbUhTiLs65kq4ZW3NH': (373019605,\n",
       "  1099511627776),\n",
       " '5E4yZGgFSYvMn9gG9U6ciHZgXdPcRxmbX27mbTsz7yRspKiy': (334813387,\n",
       "  1099511627776),\n",
       " '5GjBkhRhq5V7yiqdPDFe3k8rj3CsrfW7r6u7S6FKeYJ8627i': (291950923,\n",
       "  1099511627776),\n",
       " '5CVSjN2fMU7mP4B7oAG1V6LsNqyQNLLhDWsot1xiPAPVVHj1': (269442888,\n",
       "  1099511627776)}"
      ]
     },
     "execution_count": 4,
     "metadata": {},
     "output_type": "execute_result"
    }
   ],
   "source": [
    "caps = await cache_hotkeys_capacity(hotkeys, r)\n",
    "caps"
   ]
  },
  {
   "cell_type": "code",
   "execution_count": 15,
   "metadata": {},
   "outputs": [
    {
     "data": {
      "text/plain": [
       "3325177167"
      ]
     },
     "execution_count": 15,
     "metadata": {},
     "output_type": "execute_result"
    }
   ],
   "source": [
    "cv_storage = await current_validator_storage(r)\n",
    "cv_storage"
   ]
  },
  {
   "cell_type": "code",
   "execution_count": 5,
   "metadata": {},
   "outputs": [
    {
     "data": {
      "text/plain": [
       "{'counts': {'Super Saiyan': 0,\n",
       "  'Diamond': 0,\n",
       "  'Gold': 0,\n",
       "  'Silver': 0,\n",
       "  'Bronze': 20},\n",
       " 'capacity': {'Super Saiyan': 0,\n",
       "  'Diamond': 0,\n",
       "  'Gold': 0,\n",
       "  'Silver': 0,\n",
       "  'Bronze': 21990232555520},\n",
       " 'usage': {'Super Saiyan': 0,\n",
       "  'Diamond': 0,\n",
       "  'Gold': 0,\n",
       "  'Silver': 0,\n",
       "  'Bronze': 3325177167},\n",
       " 'percent_usage': {'Super Saiyan': 0,\n",
       "  'Diamond': 0,\n",
       "  'Gold': 0,\n",
       "  'Silver': 0,\n",
       "  'Bronze': 0.015121155079214077}}"
      ]
     },
     "execution_count": 5,
     "metadata": {},
     "output_type": "execute_result"
    }
   ],
   "source": [
    "tstats = await tier_statistics(database)\n",
    "tstats"
   ]
  },
  {
   "cell_type": "code",
   "execution_count": 6,
   "metadata": {},
   "outputs": [
    {
     "data": {
      "text/plain": [
       "{'Super Saiyan': {'counts': 0, 'capacity': 0, 'usage': 0, 'percent_usage': 0},\n",
       " 'Diamond': {'counts': 0, 'capacity': 0, 'usage': 0, 'percent_usage': 0},\n",
       " 'Gold': {'counts': 0, 'capacity': 0, 'usage': 0, 'percent_usage': 0},\n",
       " 'Silver': {'counts': 0, 'capacity': 0, 'usage': 0, 'percent_usage': 0},\n",
       " 'Bronze': {'counts': 20,\n",
       "  'capacity': 21990232555520,\n",
       "  'usage': 3325177167,\n",
       "  'percent_usage': 0.015121155079214077}}"
      ]
     },
     "execution_count": 6,
     "metadata": {},
     "output_type": "execute_result"
    }
   ],
   "source": [
    "istats = await tier_statistics(database, True)\n",
    "istats"
   ]
  },
  {
   "cell_type": "code",
   "execution_count": 7,
   "metadata": {},
   "outputs": [
    {
     "data": {
      "text/plain": [
       "9097"
      ]
     },
     "execution_count": 7,
     "metadata": {},
     "output_type": "execute_result"
    }
   ],
   "source": [
    "successful_requests = await total_successful_requests(r)\n",
    "successful_requests"
   ]
  },
  {
   "cell_type": "code",
   "execution_count": 8,
   "metadata": {},
   "outputs": [],
   "source": [
    "import sqlite3\n",
    "\n",
    "# Connect to the SQLite database\n",
    "conn = sqlite3.connect('network_data.db')\n",
    "cursor = conn.cursor()\n",
    "\n",
    "# Create network_stats table\n",
    "cursor.execute('''\n",
    "CREATE TABLE IF NOT EXISTS network_stats (\n",
    "    total_network_capacity_mb INTEGER,\n",
    "    current_validator_storage_mb INTEGER\n",
    ")\n",
    "''')\n",
    "\n",
    "# Create validator_stats table\n",
    "cursor.execute('''\n",
    "CREATE TABLE IF NOT EXISTS validator_stats (\n",
    "    validator_key TEXT PRIMARY KEY,\n",
    "    store_attempts INTEGER,\n",
    "    store_successes INTEGER,\n",
    "    challenge_successes INTEGER,\n",
    "    challenge_attempts INTEGER,\n",
    "    retrieve_successes INTEGER,\n",
    "    retrieve_attempts INTEGER,\n",
    "    total_successes INTEGER,\n",
    "    tier TEXT,\n",
    "    storage_limit INTEGER\n",
    ")\n",
    "''')\n",
    "\n",
    "conn.commit()\n"
   ]
  },
  {
   "cell_type": "code",
   "execution_count": 9,
   "metadata": {},
   "outputs": [],
   "source": [
    "for key, values in (await get_miner_statistics(r)).items():\n",
    "    cursor.execute('''\n",
    "    INSERT INTO validator_stats (validator_key, store_attempts, store_successes, challenge_successes, challenge_attempts, retrieve_successes, retrieve_attempts, total_successes, tier, storage_limit)\n",
    "    VALUES (?, ?, ?, ?, ?, ?, ?, ?, ?, ?)\n",
    "    ''', (key, \n",
    "         values['store_attempts'], \n",
    "         values['store_successes'], \n",
    "         values['challenge_successes'], \n",
    "         values['challenge_attempts'], \n",
    "         values['retrieve_successes'], \n",
    "         values['retrieve_attempts'], \n",
    "         values['total_successes'], \n",
    "         values['tier'], \n",
    "         values['storage_limit']))\n",
    "\n",
    "conn.commit()"
   ]
  },
  {
   "cell_type": "code",
   "execution_count": 10,
   "metadata": {},
   "outputs": [],
   "source": [
    "total_network_capacity = await get_network_capacity(r) / (1024 ** 2) # MB\n",
    "current_storage = await current_validator_storage(r) / (1024 ** 2) # MB\n",
    "\n",
    "cursor.execute('''\n",
    "INSERT INTO network_stats (total_network_capacity, current_validator_storage)\n",
    "VALUES (?, ?)\n",
    "''', (total_network_capacity, current_storage))\n",
    "\n",
    "conn.commit()\n",
    "\n",
    "conn.close()"
   ]
  },
  {
   "cell_type": "code",
   "execution_count": 11,
   "metadata": {},
   "outputs": [
    {
     "name": "stdout",
     "output_type": "stream",
     "text": [
      "Network Stats:\n",
      "Total Network Capacity: 10995249446912, Current Validator Storage: 1014098.6224813461\n",
      "Total Network Capacity: 10995249446912, Current Validator Storage: 1014098.6224813461\n",
      "\n",
      "Validator Stats:\n",
      "Validator Key: 5Cih6V8oc7ahYHAXwnSVu8ys8h3GM4A1kXJqfJFQCwD9XmFy, Store Attempts: 128, Store Successes: 128, Challenge Successes: 73, Challenge Attempts: 78, Retrieve Successes: 7, Retrieve Attempts: 10, Total Successes: 2261, Tier: Gold, Storage Limit: 109951162777600\n",
      "Validator Key: 5CoEiuGiXZgeFSpccqo17aiovSRh9Tv2Vn6j65J93iEhB2hJ, Store Attempts: 0, Store Successes: 0, Challenge Successes: 0, Challenge Attempts: 81, Retrieve Successes: 0, Retrieve Attempts: 0, Total Successes: 1998, Tier: Bronze, Storage Limit: 1099511627776\n",
      "Validator Key: 5Do7YsNrKEpejfTMsmaCxh9FPHrxgBi4jYh9VcbeifobjNAe, Store Attempts: 0, Store Successes: 0, Challenge Successes: 0, Challenge Attempts: 0, Retrieve Successes: 0, Retrieve Attempts: 0, Total Successes: 0, Tier: Bronze, Storage Limit: 1099511627776\n",
      "Validator Key: 5C82pPChStvLQhLVWxbQSQ52diLvYXxezqP9jhFWSRkHSFon, Store Attempts: 140, Store Successes: 140, Challenge Successes: 78, Challenge Attempts: 78, Retrieve Successes: 15, Retrieve Attempts: 15, Total Successes: 27449, Tier: Super Saiyan, Storage Limit: 1152921504606846976\n",
      "Validator Key: 5DwMX98sJAaAdb6Hr18H69kr4Py1EQXUHcqDoKnLfZqM617N, Store Attempts: 0, Store Successes: 0, Challenge Successes: 0, Challenge Attempts: 0, Retrieve Successes: 0, Retrieve Attempts: 0, Total Successes: 0, Tier: Bronze, Storage Limit: 1099511627776\n",
      "Validator Key: 5FbHff5f2gUqu4r3Kfcm352VAognfCJv2owqCthiyCw8yTi2, Store Attempts: 134, Store Successes: 133, Challenge Successes: 90, Challenge Attempts: 90, Retrieve Successes: 12, Retrieve Attempts: 12, Total Successes: 26915, Tier: Super Saiyan, Storage Limit: 1152921504606846976\n",
      "Validator Key: 5HEKJuVZXtLhUUu5xmKwvEz3d5ZpDWXDSSH3sT3DeLV3Nsdo, Store Attempts: 0, Store Successes: 0, Challenge Successes: 0, Challenge Attempts: 0, Retrieve Successes: 0, Retrieve Attempts: 0, Total Successes: 0, Tier: Bronze, Storage Limit: 1099511627776\n",
      "Validator Key: 5Gpjcz44ViQJzjA14xAgMSZwTLeULeJdXhjKMV6JM3XrGkUw, Store Attempts: 0, Store Successes: 0, Challenge Successes: 0, Challenge Attempts: 89, Retrieve Successes: 0, Retrieve Attempts: 0, Total Successes: 9227, Tier: Bronze, Storage Limit: 1099511627776\n",
      "Validator Key: 5DkhWWjC9UfE76qp9tw7S1fK1iqEpLuop9KEtBkCcGm9RZ5s, Store Attempts: 0, Store Successes: 0, Challenge Successes: 0, Challenge Attempts: 0, Retrieve Successes: 0, Retrieve Attempts: 0, Total Successes: 20, Tier: Bronze, Storage Limit: 1099511627776\n",
      "Validator Key: 5C86aJ2uQawR6P6veaJQXNK9HaWh6NMbUhTiLs65kq4ZW3NH, Store Attempts: 0, Store Successes: 0, Challenge Successes: 0, Challenge Attempts: 0, Retrieve Successes: 0, Retrieve Attempts: 0, Total Successes: 9946, Tier: Bronze, Storage Limit: 1099511627776\n",
      "Validator Key: 5CVSjN2fMU7mP4B7oAG1V6LsNqyQNLLhDWsot1xiPAPVVHj1, Store Attempts: 132, Store Successes: 132, Challenge Successes: 92, Challenge Attempts: 92, Retrieve Successes: 22, Retrieve Attempts: 22, Total Successes: 27074, Tier: Super Saiyan, Storage Limit: 1152921504606846976\n",
      "Validator Key: 5HKdvBeq2ZMVHvp8cArMbooHZoxf1Pa2vrKfUYm9HjfZcTnq, Store Attempts: 0, Store Successes: 0, Challenge Successes: 0, Challenge Attempts: 0, Retrieve Successes: 0, Retrieve Attempts: 0, Total Successes: 0, Tier: Bronze, Storage Limit: 1099511627776\n",
      "Validator Key: 5Eo9sosuqXGD5XYHKrYy7U5hu8u2rJR7wSEu3HpyFuD6NcvE, Store Attempts: 0, Store Successes: 0, Challenge Successes: 0, Challenge Attempts: 0, Retrieve Successes: 0, Retrieve Attempts: 0, Total Successes: 0, Tier: Bronze, Storage Limit: 1099511627776\n",
      "Validator Key: 5H4LEvsT4L1WQcB3ZrK9k2EFj3SVYyVYWCg6UUpBvRnhe8kQ, Store Attempts: 0, Store Successes: 0, Challenge Successes: 0, Challenge Attempts: 0, Retrieve Successes: 0, Retrieve Attempts: 0, Total Successes: 0, Tier: Bronze, Storage Limit: 1099511627776\n",
      "Validator Key: 5H1CaMTf6XvzSYLcLe4AhnXwttQ4z3ry6fy9XzS9wrxV5vFA, Store Attempts: 126, Store Successes: 125, Challenge Successes: 93, Challenge Attempts: 93, Retrieve Successes: 21, Retrieve Attempts: 21, Total Successes: 16759, Tier: Super Saiyan, Storage Limit: 1152921504606846976\n",
      "Validator Key: 5H3Hc7G9LprdVod3UMHDhzKmTH2dEW2tcooaBMm8K43Bwjiz, Store Attempts: 146, Store Successes: 146, Challenge Successes: 94, Challenge Attempts: 94, Retrieve Successes: 15, Retrieve Attempts: 15, Total Successes: 27126, Tier: Super Saiyan, Storage Limit: 1152921504606846976\n",
      "Validator Key: 5EWvuYeZAvBz38egEQC5mDxXQWLKpypeAYEUMpgwzro4ea2A, Store Attempts: 0, Store Successes: 0, Challenge Successes: 0, Challenge Attempts: 0, Retrieve Successes: 0, Retrieve Attempts: 0, Total Successes: 0, Tier: Bronze, Storage Limit: 1099511627776\n",
      "Validator Key: 5FRdgnVriaM2SUBAv4aUyEGrGJqjFGMq96dp3myEJsrM745j, Store Attempts: 0, Store Successes: 0, Challenge Successes: 0, Challenge Attempts: 95, Retrieve Successes: 0, Retrieve Attempts: 0, Total Successes: 4107, Tier: Bronze, Storage Limit: 1099511627776\n",
      "Validator Key: 5CwbiJPcKBAL1DCTud7EJsXNYpcmCpBFYaknJpCwgeYURpJa, Store Attempts: 0, Store Successes: 0, Challenge Successes: 0, Challenge Attempts: 0, Retrieve Successes: 0, Retrieve Attempts: 0, Total Successes: 0, Tier: Bronze, Storage Limit: 1099511627776\n",
      "Validator Key: 5EZCtyfQrDUQqRKYDdq1eaKSB9Ugkr3GxMb8XadewMRMxdev, Store Attempts: 140, Store Successes: 140, Challenge Successes: 84, Challenge Attempts: 84, Retrieve Successes: 19, Retrieve Attempts: 19, Total Successes: 26958, Tier: Super Saiyan, Storage Limit: 1152921504606846976\n",
      "Validator Key: 5GTCBoMHVvTMJftNFJ9McXUF25kt3vy79QK4CCr8UQf151Eo, Store Attempts: 0, Store Successes: 0, Challenge Successes: 0, Challenge Attempts: 0, Retrieve Successes: 0, Retrieve Attempts: 0, Total Successes: 0, Tier: Bronze, Storage Limit: 1099511627776\n",
      "Validator Key: 5CaFuijc2ucdoWhkjLaYgnzYrpv62KGt1fWWtUxhFHXPA3KK, Store Attempts: 124, Store Successes: 124, Challenge Successes: 88, Challenge Attempts: 88, Retrieve Successes: 16, Retrieve Attempts: 16, Total Successes: 26849, Tier: Super Saiyan, Storage Limit: 1152921504606846976\n",
      "Validator Key: 5Fe1fcQbd9tL5qUXfcnPVvcUgZXpsBADKxLhmj2co6M8YRGa, Store Attempts: 0, Store Successes: 0, Challenge Successes: 0, Challenge Attempts: 0, Retrieve Successes: 0, Retrieve Attempts: 0, Total Successes: 358, Tier: Bronze, Storage Limit: 1099511627776\n",
      "Validator Key: 5GjBkhRhq5V7yiqdPDFe3k8rj3CsrfW7r6u7S6FKeYJ8627i, Store Attempts: 141, Store Successes: 141, Challenge Successes: 79, Challenge Attempts: 79, Retrieve Successes: 15, Retrieve Attempts: 15, Total Successes: 27204, Tier: Super Saiyan, Storage Limit: 1152921504606846976\n",
      "Validator Key: 5Eqwf2k2fWDWmQM8LXQ34ZyxNk1s24wtExzaGD7EtKbANszK, Store Attempts: 0, Store Successes: 0, Challenge Successes: 0, Challenge Attempts: 0, Retrieve Successes: 0, Retrieve Attempts: 0, Total Successes: 0, Tier: Bronze, Storage Limit: 1099511627776\n",
      "Validator Key: 5CK49c4ihRkCe4wf7DpqzxA1WP5gpiu6QF1V2zxdVZMonHeC, Store Attempts: 0, Store Successes: 0, Challenge Successes: 0, Challenge Attempts: 95, Retrieve Successes: 0, Retrieve Attempts: 0, Total Successes: 2, Tier: Bronze, Storage Limit: 1099511627776\n",
      "Validator Key: 5HWQKKoj1SrQ5zTXxLLDWGhB5gFBf2NFezs1VWVPisRn3UdN, Store Attempts: 0, Store Successes: 0, Challenge Successes: 0, Challenge Attempts: 0, Retrieve Successes: 0, Retrieve Attempts: 0, Total Successes: 0, Tier: Bronze, Storage Limit: 1099511627776\n",
      "Validator Key: 5FxGggBG4sc62S4fkDHgsTiPj4fJtpbbed84Yfm1wWtNNZHC, Store Attempts: 0, Store Successes: 0, Challenge Successes: 0, Challenge Attempts: 0, Retrieve Successes: 0, Retrieve Attempts: 0, Total Successes: 0, Tier: Bronze, Storage Limit: 1099511627776\n",
      "Validator Key: 5CDTTsvLNyrKX9W9DF2CsvR7jpXaue8SUSntPcem1Psq9eb9, Store Attempts: 0, Store Successes: 0, Challenge Successes: 0, Challenge Attempts: 0, Retrieve Successes: 0, Retrieve Attempts: 0, Total Successes: 0, Tier: Bronze, Storage Limit: 1099511627776\n",
      "Validator Key: 5DyRRbY9p2R9M3zuMfh3VuXbDYz44mrXbRLcDXDub1WwJLDc, Store Attempts: 0, Store Successes: 0, Challenge Successes: 0, Challenge Attempts: 0, Retrieve Successes: 0, Retrieve Attempts: 0, Total Successes: 362, Tier: Bronze, Storage Limit: 1099511627776\n",
      "Validator Key: 5FKwbwguHU1SVQiGot5YKSTQ6fWGVv2wRHFrWfwp9X9nWbyU, Store Attempts: 119, Store Successes: 119, Challenge Successes: 93, Challenge Attempts: 93, Retrieve Successes: 20, Retrieve Attempts: 20, Total Successes: 26897, Tier: Super Saiyan, Storage Limit: 1152921504606846976\n",
      "Validator Key: 5Dkr8dyMzPWJMHgKA2PH2TJQ7ZRkYB3Pu7q3MAzfdiwGMGr6, Store Attempts: 0, Store Successes: 0, Challenge Successes: 0, Challenge Attempts: 0, Retrieve Successes: 0, Retrieve Attempts: 0, Total Successes: 25, Tier: Bronze, Storage Limit: 1099511627776\n",
      "Validator Key: 5EJ2bC6t77aGaYcQzBkMsFKKiYSNedNq6ugEJPiW7RvtQsw7, Store Attempts: 0, Store Successes: 0, Challenge Successes: 0, Challenge Attempts: 0, Retrieve Successes: 0, Retrieve Attempts: 0, Total Successes: 0, Tier: Bronze, Storage Limit: 1099511627776\n",
      "Validator Key: 5DaK1yULLYHzw63Tm3e21hA1z5NzRQMeaa5WWr3QETLJPztr, Store Attempts: 0, Store Successes: 0, Challenge Successes: 0, Challenge Attempts: 0, Retrieve Successes: 0, Retrieve Attempts: 0, Total Successes: 375, Tier: Bronze, Storage Limit: 1099511627776\n",
      "Validator Key: 5CyfewbFYh99GovDUEg6ZF1GrjGgRLSAw45FUUPiBtHn4hki, Store Attempts: 0, Store Successes: 0, Challenge Successes: 0, Challenge Attempts: 0, Retrieve Successes: 0, Retrieve Attempts: 0, Total Successes: 0, Tier: Bronze, Storage Limit: 1099511627776\n",
      "Validator Key: 5EuzvsFVopm2fQ8SLsPsvQdqe4CatZbvrYscxXbrPZsNYmPX, Store Attempts: 129, Store Successes: 129, Challenge Successes: 95, Challenge Attempts: 95, Retrieve Successes: 28, Retrieve Attempts: 28, Total Successes: 26967, Tier: Super Saiyan, Storage Limit: 1152921504606846976\n",
      "Validator Key: 5EXBMv9q1CECxdAvSrmMrVbYktz2oTSf6AZn9p11pDJrWrdZ, Store Attempts: 0, Store Successes: 0, Challenge Successes: 0, Challenge Attempts: 0, Retrieve Successes: 0, Retrieve Attempts: 0, Total Successes: 0, Tier: Bronze, Storage Limit: 1099511627776\n",
      "Validator Key: 5FZeBbB3o7D6wBesx2opaYxejDgAZ6MJymfzZf55NgwCMy1c, Store Attempts: 0, Store Successes: 0, Challenge Successes: 0, Challenge Attempts: 0, Retrieve Successes: 0, Retrieve Attempts: 0, Total Successes: 0, Tier: Bronze, Storage Limit: 1099511627776\n"
     ]
    }
   ],
   "source": [
    "# Connect to the SQLite database\n",
    "conn = sqlite3.connect('network_data.db')\n",
    "cursor = conn.cursor()\n",
    "\n",
    "# Retrieve and display data from network_stats\n",
    "cursor.execute('SELECT * FROM network_stats')\n",
    "network_stats = cursor.fetchall()\n",
    "print(\"Network Stats:\")\n",
    "for row in network_stats:\n",
    "    print(f\"Total Network Capacity: {row[0]}, Current Validator Storage: {row[1]}\")\n",
    "\n",
    "# Retrieve and display data from validator_stats\n",
    "cursor.execute('SELECT * FROM validator_stats')\n",
    "validator_stats = cursor.fetchall()\n",
    "print(\"\\nValidator Stats:\")\n",
    "for row in validator_stats:\n",
    "    print(f\"Validator Key: {row[0]}, Store Attempts: {row[1]}, Store Successes: {row[2]}, Challenge Successes: {row[3]}, Challenge Attempts: {row[4]}, Retrieve Successes: {row[5]}, Retrieve Attempts: {row[6]}, Total Successes: {row[7]}, Tier: {row[8]}, Storage Limit: {row[9]}\")\n",
    "\n",
    "# Close the database connection\n",
    "conn.close()\n"
   ]
  },
  {
   "cell_type": "code",
   "execution_count": null,
   "metadata": {},
   "outputs": [],
   "source": [
    "\"\"\"\n",
    "Steps:\n",
    "- Connect to SQL database on the server\n",
    "- Create tables for network stats and validator stats\n",
    "- Insert data into the tables\n",
    "- Retrieve data from the tables and display it\n",
    "\n",
    "\n",
    "Stat ideas SQL commands to write:\n",
    "- Current tier usage vs total capacity (per tier per validator)\n",
    "- Current miner usgae vs total capacity (per miner UID/Hotkey across all miners)\n",
    "- Current validator usage vs total capcity (per validator UID/hotkey across all miners)\n",
    "- % usage of each tier\n",
    "- % usage of each miner\n",
    "- % usage of each validator\n",
    "- Tier counts (how many miners in each tier)\n",
    "- Tier capacity (how much storage in each tier)\n",
    "- Tier usage (how much storage is being used in each tier)  \n",
    "- Total theoretical network capacity (overall across all validators, they have their own copy therefore will have independent caps for each hotkey)\n",
    "- Current total challenges successes vs total challenge attempts\n",
    "- Current total store successes vs total store attempts\n",
    "- Current total retrieve successes vs total retrieve attempts\n",
    "- Validator (FND) events for each store|challenge|retrieve query round\n",
    "\"\"\""
   ]
  },
  {
   "cell_type": "code",
   "execution_count": 10,
   "metadata": {},
   "outputs": [
    {
     "name": "stdout",
     "output_type": "stream",
     "text": [
      "54\n"
     ]
    }
   ],
   "source": [
    "# Number of data hashes per hotkey\n",
    "hashes = await get_hashes_for_hotkey(hotkeys[0], database)\n",
    "print(len(hashes))"
   ]
  },
  {
   "cell_type": "code",
   "execution_count": 11,
   "metadata": {},
   "outputs": [
    {
     "data": {
      "text/plain": [
       "{'5FbHff5f2gUqu4r3Kfcm352VAognfCJv2owqCthiyCw8yTi2': (335727813,\n",
       "  1099511627776),\n",
       " '5CaFuijc2ucdoWhkjLaYgnzYrpv62KGt1fWWtUxhFHXPA3KK': (324070741,\n",
       "  1099511627776),\n",
       " '5H3Hc7G9LprdVod3UMHDhzKmTH2dEW2tcooaBMm8K43Bwjiz': (234376357,\n",
       "  1099511627776),\n",
       " '5C82pPChStvLQhLVWxbQSQ52diLvYXxezqP9jhFWSRkHSFon': (379216706,\n",
       "  1099511627776),\n",
       " '5FKwbwguHU1SVQiGot5YKSTQ6fWGVv2wRHFrWfwp9X9nWbyU': (246089411,\n",
       "  1099511627776),\n",
       " '5EZCtyfQrDUQqRKYDdq1eaKSB9Ugkr3GxMb8XadewMRMxdev': (303230591,\n",
       "  1099511627776),\n",
       " '5EuzvsFVopm2fQ8SLsPsvQdqe4CatZbvrYscxXbrPZsNYmPX': (233238745,\n",
       "  1099511627776),\n",
       " '5C86aJ2uQawR6P6veaJQXNK9HaWh6NMbUhTiLs65kq4ZW3NH': (373019605,\n",
       "  1099511627776),\n",
       " '5E4yZGgFSYvMn9gG9U6ciHZgXdPcRxmbX27mbTsz7yRspKiy': (334813387,\n",
       "  1099511627776),\n",
       " '5GjBkhRhq5V7yiqdPDFe3k8rj3CsrfW7r6u7S6FKeYJ8627i': (291950923,\n",
       "  1099511627776),\n",
       " '5CVSjN2fMU7mP4B7oAG1V6LsNqyQNLLhDWsot1xiPAPVVHj1': (269442888,\n",
       "  1099511627776)}"
      ]
     },
     "execution_count": 11,
     "metadata": {},
     "output_type": "execute_result"
    }
   ],
   "source": [
    "# Amount of data stored per hotkey (bytes -> megabytes)\n",
    "hk_storage = await total_hotkey_storage(hotkeys[0], database) / (1024 ** 2)\n",
    "\n",
    "# Or equivalently for all: (Use this and turn into sql command)\n",
    "await cache_hotkeys_capacity(hotkeys, database)"
   ]
  },
  {
   "cell_type": "code",
   "execution_count": 35,
   "metadata": {},
   "outputs": [
    {
     "name": "stdout",
     "output_type": "stream",
     "text": [
      "Command executed successfully.\n",
      "Command executed successfully.\n",
      "Command executed successfully.\n"
     ]
    }
   ],
   "source": [
    "# TODO: Delete and redo these tables\n",
    "# HOTKEYS_TABLE (By Hotkey)\n",
    "# ID | TIMESTAMP | HOTKEY | TIER | CURRENT_STORAGE | CAPACITY | PERCENT_USAGE | NUM_HASHES | TOTAL_SUCCESSES | STORE_SUCCESSES | STORE_ATTEMPTS | CHALLENGE_SUCCESSES | CHALLENGE_ATTEMPTS | RETRIEVE_SUCCESSES | RETRIEVE_ATTEMPTS | \n",
    "# Example to create the HotkeysTable\n",
    "create_hotkeys_table_sql = '''\n",
    "CREATE TABLE IF NOT EXISTS HotkeysTable (\n",
    "    id INT AUTO_INCREMENT PRIMARY KEY,\n",
    "    timestamp TIMESTAMP DEFAULT CURRENT_TIMESTAMP,\n",
    "    hotkey VARCHAR(255) NOT NULL,\n",
    "    tier VARCHAR(50) NOT NULL,\n",
    "    current_storage BIGINT NOT NULL,\n",
    "    capacity BIGINT NOT NULL,\n",
    "    percent_usage FLOAT NOT NULL,\n",
    "    num_hashes INT NOT NULL,\n",
    "    total_successes INT NOT NULL,\n",
    "    store_successes INT NOT NULL,\n",
    "    store_attempts INT NOT NULL,\n",
    "    challenge_successes INT NOT NULL,\n",
    "    challenge_attempts INT NOT NULL,\n",
    "    retrieve_successes INT NOT NULL,\n",
    "    retrieve_attempts INT NOT NULL\n",
    ")\n",
    "'''\n",
    "connect_and_execute(create_hotkeys_table_sql)\n",
    "\n",
    "\n",
    "# TIER_STATS_TABLE (By Tier)\n",
    "# ID | TIMESTAMP | TIER | COUNTS | CAPACITY | CURRENT_STORAGE | PERCENT_USAGE | CURRENT_ATTEMPTS | CURRENT_SUCCESSES | GLOBAL_SUCCESS_RATE | TOTAL_GLOBAL_SUCCESSES\n",
    "create_tier_stats_table = '''\n",
    "CREATE TABLE IF NOT EXISTS TierStatsTable (\n",
    "    id INT AUTO_INCREMENT PRIMARY KEY,\n",
    "    timestamp TIMESTAMP DEFAULT CURRENT_TIMESTAMP,\n",
    "    tier VARCHAR(50) NOT NULL,\n",
    "    counts INT NOT NULL,\n",
    "    capacity BIGINT NOT NULL,\n",
    "    current_storage BIGINT NOT NULL,\n",
    "    percent_usage FLOAT NOT NULL,\n",
    "    current_attempts INT NOT NULL,\n",
    "    current_successes INT NOT NULL,\n",
    "    global_success_rate FLOAT NOT NULL,\n",
    "    total_global_successes INT NOT NULL\n",
    ")\n",
    "'''\n",
    "connect_and_execute(create_tier_stats_table)\n",
    "\n",
    "\n",
    "# NETWORK STATS_TABLE (Global)\n",
    "# ID | TIMESTAMP | CURRENT_STORAGE | NETWORK_CAPACITY | TOTAL_SUCCESSFUL_REQUESTS | REDIS_INDEX_SIZE_MB | GLOBAL_CURRENT_ATTEMPTS | GLOBAL_CURRENT_SUCCESSES | GLOBAL_CURRENT_SUCCESS_RATE\n",
    "create_network_stats_table = '''\n",
    "CREATE TABLE IF NOT EXISTS NetworkStatsTable (\n",
    "    id INT AUTO_INCREMENT PRIMARY KEY,\n",
    "    timestamp TIMESTAMP DEFAULT CURRENT_TIMESTAMP,\n",
    "    current_storage BIGINT NOT NULL,\n",
    "    network_capacity BIGINT NOT NULL,\n",
    "    total_successful_requests INT NOT NULL,\n",
    "    redis_index_size_mb FLOAT NOT NULL,\n",
    "    global_current_attempts INT NOT NULL,\n",
    "    global_current_successes INT NOT NULL,\n",
    "    global_current_success_rate FLOAT NOT NULL\n",
    ")\n",
    "'''\n",
    "connect_and_execute(create_network_stats_table)"
   ]
  },
  {
   "cell_type": "code",
   "execution_count": 34,
   "metadata": {},
   "outputs": [
    {
     "name": "stdout",
     "output_type": "stream",
     "text": [
      "Command executed successfully.\n",
      "Command executed successfully.\n",
      "Command executed successfully.\n"
     ]
    }
   ],
   "source": [
    "def drop_table(name):\n",
    "    sql = f\"DROP TABLE {name};\"\n",
    "    connect_and_execute(sql)\n",
    "\n",
    "drop_table(\"TierStatsTable\")\n",
    "drop_table(\"NetworkStatsTable\")\n",
    "drop_table(\"HotkeysTable\")"
   ]
  },
  {
   "cell_type": "code",
   "execution_count": 7,
   "metadata": {},
   "outputs": [
    {
     "name": "stdout",
     "output_type": "stream",
     "text": [
      "['5CVSjN2fMU7mP4B7oAG1V6LsNqyQNLLhDWsot1xiPAPVVHj1', 'Bronze', 269442888, 1099511627776, 0.0002450568790663965, 56, '866', '267', '270', '254', '336', '51', '69']\n",
      "Command executed successfully.\n",
      "['5C86aJ2uQawR6P6veaJQXNK9HaWh6NMbUhTiLs65kq4ZW3NH', 'Bronze', 373019605, 1099511627776, 0.0003392593544049305, 60, '851', '259', '262', '257', '377', '54', '81']\n",
      "Command executed successfully.\n",
      "['5HapVLypxEsZWvfwd12jUXdp9W1pXAoSbQVzirC6AUDNYBii', 'Bronze', 0, 1099511627776, 0.0, 0, '0', '0', '0', '0', '0', '0', '0']\n",
      "Command executed successfully.\n",
      "['5Gpjcz44ViQJzjA14xAgMSZwTLeULeJdXhjKMV6JM3XrGkUw', 'Bronze', 0, 1099511627776, 0.0, 0, '42', '0', '0', '0', '0', '0', '0']\n",
      "Command executed successfully.\n",
      "['5CDTTsvLNyrKX9W9DF2CsvR7jpXaue8SUSntPcem1Psq9eb9', 'Bronze', 0, 1099511627776, 0.0, 0, '0', '0', '0', '0', '0', '0', '0']\n",
      "Command executed successfully.\n",
      "['5H1CaMTf6XvzSYLcLe4AhnXwttQ4z3ry6fy9XzS9wrxV5vFA', 'Bronze', 0, 1099511627776, 0.0, 0, '251', '47', '51', '37', '67', '9', '9']\n",
      "Command executed successfully.\n",
      "['5FxGggBG4sc62S4fkDHgsTiPj4fJtpbbed84Yfm1wWtNNZHC', 'Bronze', 0, 1099511627776, 0.0, 0, '0', '0', '0', '0', '0', '0', '0']\n",
      "Command executed successfully.\n",
      "['5H3Hc7G9LprdVod3UMHDhzKmTH2dEW2tcooaBMm8K43Bwjiz', 'Bronze', 234376357, 1099511627776, 0.00021316405491234036, 60, '893', '271', '273', '267', '370', '54', '74']\n",
      "Command executed successfully.\n",
      "['5GjBkhRhq5V7yiqdPDFe3k8rj3CsrfW7r6u7S6FKeYJ8627i', 'Bronze', 291950923, 1099511627776, 0.00026552781764621614, 58, '854', '262', '265', '242', '341', '57', '73']\n",
      "Command executed successfully.\n",
      "['5FbHff5f2gUqu4r3Kfcm352VAognfCJv2owqCthiyCw8yTi2', 'Bronze', 335727813, 1099511627776, 0.0003053426671613124, 54, '894', '274', '277', '267', '364', '57', '78']\n",
      "Command executed successfully.\n",
      "['5Do7YsNrKEpejfTMsmaCxh9FPHrxgBi4jYh9VcbeifobjNAe', 'Bronze', 0, 1099511627776, 0.0, 0, '0', '0', '0', '0', '0', '0', '0']\n",
      "Command executed successfully.\n",
      "['5EJ2bC6t77aGaYcQzBkMsFKKiYSNedNq6ugEJPiW7RvtQsw7', 'Bronze', 0, 1099511627776, 0.0, 0, '0', '0', '0', '0', '0', '0', '0']\n",
      "Command executed successfully.\n",
      "['5EuzvsFVopm2fQ8SLsPsvQdqe4CatZbvrYscxXbrPZsNYmPX', 'Bronze', 233238745, 1099511627776, 0.00021212940282566706, 62, '841', '260', '263', '248', '351', '53', '77']\n",
      "Command executed successfully.\n",
      "['5DwMX98sJAaAdb6Hr18H69kr4Py1EQXUHcqDoKnLfZqM617N', 'Bronze', 0, 1099511627776, 0.0, 0, '0', '0', '0', '0', '0', '0', '0']\n",
      "Command executed successfully.\n",
      "['5C82pPChStvLQhLVWxbQSQ52diLvYXxezqP9jhFWSRkHSFon', 'Bronze', 379216706, 1099511627776, 0.0003448955849307822, 58, '868', '269', '271', '269', '356', '45', '63']\n",
      "Command executed successfully.\n",
      "['5CaFuijc2ucdoWhkjLaYgnzYrpv62KGt1fWWtUxhFHXPA3KK', 'Bronze', 324070741, 1099511627776, 0.00029474062193912687, 58, '855', '260', '262', '270', '371', '57', '77']\n",
      "Command executed successfully.\n",
      "['5E4yZGgFSYvMn9gG9U6ciHZgXdPcRxmbX27mbTsz7yRspKiy', 'Bronze', 334813387, 1099511627776, 0.000304511001559149, 62, '873', '272', '274', '260', '366', '53', '80']\n",
      "Command executed successfully.\n",
      "['5EZCtyfQrDUQqRKYDdq1eaKSB9Ugkr3GxMb8XadewMRMxdev', 'Bronze', 303230591, 1099511627776, 0.0002757866159299738, 58, '870', '272', '273', '243', '344', '55', '68']\n",
      "Command executed successfully.\n",
      "['5FKwbwguHU1SVQiGot5YKSTQ6fWGVv2wRHFrWfwp9X9nWbyU', 'Bronze', 246089411, 1099511627776, 0.00022381701546692057, 52, '139', '81', '81', '49', '49', '9', '9']\n",
      "Command executed successfully.\n",
      "['5HKdvBeq2ZMVHvp8cArMbooHZoxf1Pa2vrKfUYm9HjfZcTnq', 'Bronze', 0, 1099511627776, 0.0, 0, '0', '0', '0', '0', '0', '0', '0']\n",
      "Command executed successfully.\n"
     ]
    }
   ],
   "source": [
    "# Write the code to fetch/compute the data required for a row of each table.\n",
    "# ID | TIMESTAMP | HOTKEY | TIER | CURRENT_STORAGE | CAPACITY | PERCENT_USAGE | NUM_HASHES | TOTAL_SUCCESSES | STORE_SUCCESSES | STORE_ATTEMPTS | CHALLENGE_SUCCESSES | CHALLENGE_ATTEMPTS | RETRIEVE_SUCCESSES | RETRIEVE_ATTEMPTS | \n",
    "\n",
    "# HOTKEYS_TABLE\n",
    "stats = await get_miner_statistics(database)\n",
    "\n",
    "hotkeys = list(stats)\n",
    "\n",
    "caps = await cache_hotkeys_capacity(hotkeys, database)\n",
    "\n",
    "for hotkey, stat in stats.items():\n",
    "    cur, cap = caps[hotkey]\n",
    "    n_hashes = len( await get_hashes_for_hotkey(hotkey, database))\n",
    "    row = [hotkey, stat['tier'], cur, cap, cur / cap, n_hashes, stat['total_successes'], stat['store_successes'], stat['store_attempts'], stat['challenge_successes'], stat['challenge_attempts'], stat['retrieve_successes'], stat['retrieve_attempts']]\n",
    "    print(row)\n",
    "    sql_insert_command = \"\"\"\n",
    "    INSERT INTO HotkeysTable (\n",
    "        HOTKEY, TIER, CURRENT_STORAGE, CAPACITY, PERCENT_USAGE, NUM_HASHES, TOTAL_SUCCESSES, STORE_SUCCESSES, STORE_ATTEMPTS, CHALLENGE_SUCCESSES, CHALLENGE_ATTEMPTS, RETRIEVE_SUCCESSES, RETRIEVE_ATTEMPTS\n",
    "    ) VALUES (%s, %s, %s, %s, %s, %s, %s, %s, %s, %s, %s, %s, %s);\n",
    "    \"\"\"\n",
    "    connect_and_execute_params(sql_insert_command, row)"
   ]
  },
  {
   "cell_type": "code",
   "execution_count": 8,
   "metadata": {},
   "outputs": [
    {
     "name": "stdout",
     "output_type": "stream",
     "text": [
      "Super Saiyan {'counts': 0, 'capacity': 0, 'usage': 0, 'percent_usage': 0}\n",
      "['Super Saiyan', 0, 0, 0, 0, 0, 0, 0, 0]\n",
      "Diamond {'counts': 0, 'capacity': 0, 'usage': 0, 'percent_usage': 0}\n",
      "['Diamond', 0, 0, 0, 0, 0, 0, 0, 0]\n",
      "Gold {'counts': 0, 'capacity': 0, 'usage': 0, 'percent_usage': 0}\n",
      "['Gold', 0, 0, 0, 0, 0, 0, 0, 0]\n",
      "Silver {'counts': 0, 'capacity': 0, 'usage': 0, 'percent_usage': 0}\n",
      "['Silver', 0, 0, 0, 0, 0, 0, 0, 0]\n",
      "Bronze {'counts': 20, 'capacity': 21990232555520, 'usage': 3325177167, 'percent_usage': 0.015121155079214077}\n",
      "['Bronze', 20, 21990232555520, 3325177167, 0.015121155079214077, 7272, 6011, 82.65951595159517, 9097]\n",
      "Command executed successfully.\n"
     ]
    }
   ],
   "source": [
    "# Write the code to get the data prepared for TierStatsTable\n",
    "# ID | TIMESTAMP | TIER | COUNTS | CAPACITY | CURRENT_STORAGE | PERCENT_USAGE | CURRENT_ATTEMPTS | CURRENT_SUCCESSES | GLOBAL_SUCCESS_RATE | TOTAL_GLOBAL_SUCCESSES\n",
    "\n",
    "tstats = await tier_statistics(database)\n",
    "\n",
    "istats = {}\n",
    "for category, tier_dict in tstats.items():\n",
    "    for tier, value in tier_dict.items():\n",
    "        if tier not in istats:\n",
    "            istats[tier] = {}\n",
    "        istats[tier][category] = value\n",
    "\n",
    "by_tier = await compute_by_tier_stats(database)\n",
    "\n",
    "rows = []\n",
    "for tier, stat in istats.items():\n",
    "    print(tier, stat)\n",
    "    row = [tier] + list(stat.values())\n",
    "    if tier in by_tier:\n",
    "        tr = by_tier[tier]\n",
    "        row += [tr['total_current_attempts'], tr['total_current_successes'], tr['success_rate'], tr['total_global_successes']]\n",
    "    else:\n",
    "        row += [0, 0, 0, 0]\n",
    "    print(row)\n",
    "\n",
    "# Write the actual row to the table\n",
    "sql_insert_command = \"\"\"\n",
    "INSERT INTO TierStatsTable (\n",
    "    TIER, COUNTS, CAPACITY, CURRENT_STORAGE, PERCENT_USAGE, CURRENT_ATTEMPTS, CURRENT_SUCCESSES, GLOBAL_SUCCESS_RATE, TOTAL_GLOBAL_SUCCESSES\n",
    ") VALUES (%s, %s, %s, %s, %s, %s, %s, %s, %s);\n",
    "\"\"\"\n",
    "connect_and_execute_params(sql_insert_command, row)"
   ]
  },
  {
   "cell_type": "code",
   "execution_count": 10,
   "metadata": {},
   "outputs": [
    {
     "name": "stdout",
     "output_type": "stream",
     "text": [
      "6011 7272\n",
      "0.8265951595159516 %\n",
      "[3325177167, 21990232555520, 9097, 280791, 7272, 6011, 0.8265951595159516]\n"
     ]
    },
    {
     "data": {
      "text/html": [
       "<pre style=\"white-space:pre;overflow-x:auto;line-height:normal;font-family:Menlo,'DejaVu Sans Mono',consolas,'Courier New',monospace\"><span style=\"color: #800000; text-decoration-color: #800000\">╭─────────────────────────────── </span><span style=\"color: #800000; text-decoration-color: #800000; font-weight: bold\">Traceback </span><span style=\"color: #bf7f7f; text-decoration-color: #bf7f7f; font-weight: bold\">(most recent call last)</span><span style=\"color: #800000; text-decoration-color: #800000\"> ────────────────────────────────╮</span>\n",
       "<span style=\"color: #800000; text-decoration-color: #800000\">│</span> in <span style=\"color: #00ff00; text-decoration-color: #00ff00\">&lt;module&gt;</span>:<span style=\"color: #0000ff; text-decoration-color: #0000ff\">47</span>                                                                                   <span style=\"color: #800000; text-decoration-color: #800000\">│</span>\n",
       "<span style=\"color: #800000; text-decoration-color: #800000\">│</span>                                                                                                  <span style=\"color: #800000; text-decoration-color: #800000\">│</span>\n",
       "<span style=\"color: #800000; text-decoration-color: #800000\">│</span>   <span style=\"color: #7f7f7f; text-decoration-color: #7f7f7f\">44 </span><span style=\"color: #808000; text-decoration-color: #808000\">\"\"\"</span>                                                                                         <span style=\"color: #800000; text-decoration-color: #800000\">│</span>\n",
       "<span style=\"color: #800000; text-decoration-color: #800000\">│</span>   <span style=\"color: #7f7f7f; text-decoration-color: #7f7f7f\">45 </span>                                                                                            <span style=\"color: #800000; text-decoration-color: #800000\">│</span>\n",
       "<span style=\"color: #800000; text-decoration-color: #800000\">│</span>   <span style=\"color: #7f7f7f; text-decoration-color: #7f7f7f\">46 # Assuming 'row' is already defined as shown in your example</span>                                <span style=\"color: #800000; text-decoration-color: #800000\">│</span>\n",
       "<span style=\"color: #800000; text-decoration-color: #800000\">│</span> <span style=\"color: #800000; text-decoration-color: #800000\">❱ </span>47 connect_and_execute(sql_insert_command, row)                                                <span style=\"color: #800000; text-decoration-color: #800000\">│</span>\n",
       "<span style=\"color: #800000; text-decoration-color: #800000\">│</span>   <span style=\"color: #7f7f7f; text-decoration-color: #7f7f7f\">48 </span>                                                                                            <span style=\"color: #800000; text-decoration-color: #800000\">│</span>\n",
       "<span style=\"color: #800000; text-decoration-color: #800000\">╰──────────────────────────────────────────────────────────────────────────────────────────────────╯</span>\n",
       "<span style=\"color: #ff0000; text-decoration-color: #ff0000; font-weight: bold\">TypeError: </span><span style=\"color: #800080; text-decoration-color: #800080; font-weight: bold\">connect_and_execute</span><span style=\"font-weight: bold\">()</span> takes <span style=\"color: #008080; text-decoration-color: #008080; font-weight: bold\">1</span> positional argument but <span style=\"color: #008080; text-decoration-color: #008080; font-weight: bold\">2</span> were given\n",
       "</pre>\n"
      ],
      "text/plain": [
       "\u001b[31m╭─\u001b[0m\u001b[31m──────────────────────────────\u001b[0m\u001b[31m \u001b[0m\u001b[1;31mTraceback \u001b[0m\u001b[1;2;31m(most recent call last)\u001b[0m\u001b[31m \u001b[0m\u001b[31m───────────────────────────────\u001b[0m\u001b[31m─╮\u001b[0m\n",
       "\u001b[31m│\u001b[0m in \u001b[92m<module>\u001b[0m:\u001b[94m47\u001b[0m                                                                                   \u001b[31m│\u001b[0m\n",
       "\u001b[31m│\u001b[0m                                                                                                  \u001b[31m│\u001b[0m\n",
       "\u001b[31m│\u001b[0m   \u001b[2m44 \u001b[0m\u001b[33m\"\"\"\u001b[0m                                                                                         \u001b[31m│\u001b[0m\n",
       "\u001b[31m│\u001b[0m   \u001b[2m45 \u001b[0m                                                                                            \u001b[31m│\u001b[0m\n",
       "\u001b[31m│\u001b[0m   \u001b[2m46 \u001b[0m\u001b[2m# Assuming 'row' is already defined as shown in your example\u001b[0m                                \u001b[31m│\u001b[0m\n",
       "\u001b[31m│\u001b[0m \u001b[31m❱ \u001b[0m47 connect_and_execute(sql_insert_command, row)                                                \u001b[31m│\u001b[0m\n",
       "\u001b[31m│\u001b[0m   \u001b[2m48 \u001b[0m                                                                                            \u001b[31m│\u001b[0m\n",
       "\u001b[31m╰──────────────────────────────────────────────────────────────────────────────────────────────────╯\u001b[0m\n",
       "\u001b[1;91mTypeError: \u001b[0m\u001b[1;35mconnect_and_execute\u001b[0m\u001b[1m(\u001b[0m\u001b[1m)\u001b[0m takes \u001b[1;36m1\u001b[0m positional argument but \u001b[1;36m2\u001b[0m were given\n"
      ]
     },
     "metadata": {},
     "output_type": "display_data"
    }
   ],
   "source": [
    "# Write the code to get data prepped for NetworkStatsTable\n",
    "# ID | TIMESTAMP | CURRENT_STORAGE | NETWORK_CAPACITY | TOTAL_SUCCESSFUL_REQUESTS | REDIS_INDEX_SIZE_MB | GLOBAL_CURRENT_ATTEMPTS | GLOBAL_CURRENT_SUCCESSES | GLOBAL_CURRENT_SUCCESS_RATE\n",
    "net_cap = await get_network_capacity(database)\n",
    "\n",
    "idx_size = await get_redis_db_size(database)\n",
    "\n",
    "tot_suc = await total_successful_requests(database)\n",
    "\n",
    "hotkeys = await active_hotkeys(database)\n",
    "caps = await cache_hotkeys_capacity(hotkeys, database)\n",
    "cur_storage = sum(list(zip(*list(caps.values())))[0])\n",
    "\n",
    "store_attempts = sa = 0\n",
    "store_successes = ss = 0\n",
    "challenge_attempts = ca = 0\n",
    "challenge_successes = cs = 0\n",
    "retrieve_attempts = ra = 0\n",
    "retrieve_successes = rs = 0\n",
    "\n",
    "for _, d in (await get_miner_statistics(database)).items():\n",
    "    tier = d['tier']\n",
    "    sa += int(d['store_attempts'])\n",
    "    ss += int(d['store_successes'])\n",
    "    ca += int(d['challenge_attempts'])\n",
    "    cs += int(d['challenge_successes'])\n",
    "    ra += int(d['retrieve_attempts'])\n",
    "    rs += int(d['retrieve_successes'])\n",
    "\n",
    "cta = sum([sa, ca, ra])\n",
    "cts = sum([ss, cs, rs])\n",
    "print(cts, cta)\n",
    "print(cts / cta, \"%\")\n",
    "global_attempts = cta\n",
    "global_successees = cts\n",
    "\n",
    "row = [cur_storage, net_cap, tot_suc, idx_size, global_attempts, global_successees, global_successees / global_attempts]\n",
    "print(row)\n",
    "# Write SQL to populate table with this row\n",
    "# TODO: FIX THIS!\n",
    "sql_insert_command = \"\"\"\n",
    "INSERT INTO NetworkStatsTable (\n",
    "    CURRENT_STORAGE, NETWORK_CAPACITY, TOTAL_SUCCESSFUL_REQUESTS, REDIS_INDEX_SIZE_MB, GLOBAL_CURRENT_ATTEMPTS, GLOBAL_CURRENT_SUCCESSES, GLOBAL_CURRENT_SUCCESS_RATE\n",
    ") VALUES (%s, %s, %s, %s, %s, %s, %s);\n",
    "\"\"\"\n",
    "\n",
    "# Assuming 'row' is already defined as shown in your example\n",
    "connect_and_execute_params(sql_insert_command, row)\n"
   ]
  },
  {
   "cell_type": "code",
   "execution_count": 40,
   "metadata": {},
   "outputs": [
    {
     "name": "stdout",
     "output_type": "stream",
     "text": [
      "Command executed successfully.\n"
     ]
    }
   ],
   "source": [
    "# Write the SQL to retrieve the latest row of each hotkey:\n",
    "\n",
    "sql = \"\"\"\n",
    "SELECT h.*\n",
    "FROM HotkeysTable h\n",
    "INNER JOIN (\n",
    "    SELECT HOTKEY, MAX(TIMESTAMP) as LatestTimestamp\n",
    "    FROM HotkeysTable\n",
    "    GROUP BY HOTKEY\n",
    ") AS latest ON h.HOTKEY = latest.HOTKEY AND h.TIMESTAMP = latest.LatestTimestamp;\n",
    "\"\"\"\n",
    "\n",
    "connect_and_execute(sql)"
   ]
  },
  {
   "cell_type": "code",
   "execution_count": 4,
   "metadata": {},
   "outputs": [],
   "source": [
    "def connect_and_execute(command):\n",
    "    import pymysql\n",
    "\n",
    "    db_params = {\n",
    "        'host': 'localhost',\n",
    "        'user': 'filetao',\n",
    "        'password': 'filetao',\n",
    "        'database': 'sn21',\n",
    "        'charset': 'utf8mb4',\n",
    "        'cursorclass': pymysql.cursors.DictCursor\n",
    "    }\n",
    "\n",
    "    try:\n",
    "        # Connect to the database\n",
    "        conn = pymysql.connect(**db_params)\n",
    "        with conn.cursor() as cursor:\n",
    "            # Execute the SQL command\n",
    "            cursor.execute(command)\n",
    "            # Commit the transaction\n",
    "            conn.commit()\n",
    "            print(\"Command executed successfully.\")\n",
    "    except pymysql.MySQLError as e:\n",
    "        print(f\"MySQL Error: {e}\")\n",
    "    except Exception as e:\n",
    "        print(f\"An unexpected error occurred: {e}\")\n",
    "    finally:\n",
    "        # Ensure the connection is closed\n",
    "        if 'conn' in locals() or 'conn' in globals():\n",
    "            conn.close()"
   ]
  },
  {
   "cell_type": "code",
   "execution_count": 5,
   "metadata": {},
   "outputs": [
    {
     "data": {
      "text/plain": [
       "'\\n# Example usage:\\nsql = \"INSERT INTO YourTable (column1, column2) VALUES (%s, %s)\"\\nparams = (\\'value1\\', \\'value2\\')\\nconnect_and_execute(sql, params)\\n'"
      ]
     },
     "execution_count": 5,
     "metadata": {},
     "output_type": "execute_result"
    }
   ],
   "source": [
    "def connect_and_execute_params(sql_command, params=None):\n",
    "    import pymysql\n",
    "\n",
    "    db_params = {\n",
    "        'host': 'localhost',\n",
    "        'user': 'filetao',\n",
    "        'password': 'filetao',\n",
    "        'database': 'sn21',\n",
    "        'charset': 'utf8mb4',\n",
    "        'cursorclass': pymysql.cursors.DictCursor\n",
    "    }\n",
    "\n",
    "    try:\n",
    "        # Connect to the database\n",
    "        conn = pymysql.connect(**db_params)\n",
    "        with conn.cursor() as cursor:\n",
    "            # Execute the SQL command with parameters\n",
    "            cursor.execute(sql_command, params)\n",
    "            # Commit the transaction\n",
    "            conn.commit()\n",
    "            print(\"Command executed successfully.\")\n",
    "    except pymysql.MySQLError as e:\n",
    "        print(f\"MySQL Error: {e}\")\n",
    "    except Exception as e:\n",
    "        print(f\"An unexpected error occurred: {e}\")\n",
    "    finally:\n",
    "        # Ensure the connection is closed\n",
    "        if 'conn' in locals() or 'conn' in globals():\n",
    "            conn.close()\n",
    "\n",
    "\"\"\"\n",
    "# Example usage:\n",
    "sql = \"INSERT INTO YourTable (column1, column2) VALUES (%s, %s)\"\n",
    "params = ('value1', 'value2')\n",
    "connect_and_execute(sql, params)\n",
    "\"\"\""
   ]
  },
  {
   "cell_type": "code",
   "execution_count": 6,
   "metadata": {},
   "outputs": [
    {
     "data": {
      "text/plain": [
       "'\\n# SQL query to retrieve the latest row of each hotkey\\nsql = \"\"\"\\nSELECT h.*\\nFROM HotkeysTable h\\nINNER JOIN (\\n    SELECT HOTKEY, MAX(TIMESTAMP) as LatestTimestamp\\n    FROM HotkeysTable\\n    GROUP BY HOTKEY\\n) AS latest ON h.HOTKEY = latest.HOTKEY AND h.TIMESTAMP = latest.LatestTimestamp;\\n\"\"\"\\n\\n# Execute the command and print or process the fetched data\\nfetched_data = connect_and_fetch(sql)\\n'"
      ]
     },
     "execution_count": 6,
     "metadata": {},
     "output_type": "execute_result"
    }
   ],
   "source": [
    "def connect_and_fetch(sql_command, params=None):\n",
    "    import pymysql\n",
    "\n",
    "    db_params = {\n",
    "        'host': 'localhost',\n",
    "        'user': 'filetao',\n",
    "        'password': 'filetao',\n",
    "        'database': 'sn21',\n",
    "        'charset': 'utf8mb4',\n",
    "        'cursorclass': pymysql.cursors.DictCursor\n",
    "    }\n",
    "\n",
    "    try:\n",
    "        # Connect to the database\n",
    "        conn = pymysql.connect(**db_params)\n",
    "        with conn.cursor() as cursor:\n",
    "            # Execute the SQL command\n",
    "            cursor.execute(sql_command, params)\n",
    "            \n",
    "            # Fetch the results\n",
    "            results = cursor.fetchall()\n",
    "            \n",
    "            # If you want to print the results:\n",
    "            for row in results:\n",
    "                print(row)\n",
    "            \n",
    "            # Or if you prefer to return the results for further processing:\n",
    "            return results\n",
    "            \n",
    "    except pymysql.MySQLError as e:\n",
    "        print(f\"MySQL Error: {e}\")\n",
    "    except Exception as e:\n",
    "        print(f\"An unexpected error occurred: {e}\")\n",
    "    finally:\n",
    "        # Ensure the connection is closed\n",
    "        if 'conn' in locals() or 'conn' in globals():\n",
    "            conn.close()\n",
    "\n",
    "'''\n",
    "# SQL query to retrieve the latest row of each hotkey\n",
    "sql = \"\"\"\n",
    "SELECT h.*\n",
    "FROM HotkeysTable h\n",
    "INNER JOIN (\n",
    "    SELECT HOTKEY, MAX(TIMESTAMP) as LatestTimestamp\n",
    "    FROM HotkeysTable\n",
    "    GROUP BY HOTKEY\n",
    ") AS latest ON h.HOTKEY = latest.HOTKEY AND h.TIMESTAMP = latest.LatestTimestamp;\n",
    "\"\"\"\n",
    "\n",
    "# Execute the command and print or process the fetched data\n",
    "fetched_data = connect_and_fetch(sql)\n",
    "'''"
   ]
  },
  {
   "cell_type": "code",
   "execution_count": null,
   "metadata": {},
   "outputs": [],
   "source": []
  }
 ],
 "metadata": {
  "kernelspec": {
   "display_name": "dash",
   "language": "python",
   "name": "python3"
  },
  "language_info": {
   "codemirror_mode": {
    "name": "ipython",
    "version": 3
   },
   "file_extension": ".py",
   "mimetype": "text/x-python",
   "name": "python",
   "nbconvert_exporter": "python",
   "pygments_lexer": "ipython3",
   "version": "3.11.8"
  }
 },
 "nbformat": 4,
 "nbformat_minor": 2
}
